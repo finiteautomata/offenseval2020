{
 "cells": [
  {
   "cell_type": "markdown",
   "metadata": {},
   "source": [
    "# English pretraining then Danish finetuning\n",
    "\n",
    "In this notebook we finetune the model in English to then finetune it again in Danish\n",
    "\n",
    "It has similar performance"
   ]
  },
  {
   "cell_type": "code",
   "execution_count": 1,
   "metadata": {},
   "outputs": [],
   "source": [
    "%load_ext autoreload\n",
    "%autoreload 2\n",
    "import os\n",
    "from datetime import datetime\n",
    "import fire\n",
    "import torch\n",
    "import pandas as pd\n",
    "from torchtext import data\n",
    "import torch.nn as nn\n",
    "from transformers import (\n",
    "    AdamW, BertForSequenceClassification, BertTokenizer,\n",
    "    get_constant_schedule_with_warmup\n",
    ")\n",
    "\n",
    "from offenseval.nn import (\n",
    "    Tokenizer,\n",
    "    train, evaluate, train_cycle, save_model, load_model, evaluate_dataset\n",
    ")\n",
    "from offenseval.datasets import datasets\n",
    "\n",
    "pd.options.display.max_rows = 200\n",
    "pd.options.display.max_colwidth = 300\n",
    "\n",
    "device = torch.device('cuda' if torch.cuda.is_available() else 'cpu')\n"
   ]
  },
  {
   "cell_type": "markdown",
   "metadata": {},
   "source": [
    "Create fields and some other boilerplate"
   ]
  },
  {
   "cell_type": "code",
   "execution_count": 2,
   "metadata": {},
   "outputs": [],
   "source": [
    "from offenseval.datasets import datasets, build_dataset\n",
    "from transformers import BertModel, BertTokenizer\n",
    "\n",
    "bert_name = \"bert-base-multilingual-cased\"\n",
    "bert_model = BertModel.from_pretrained(bert_name)\n",
    "bert_tokenizer = BertTokenizer.from_pretrained(bert_name)\n"
   ]
  },
  {
   "cell_type": "code",
   "execution_count": 3,
   "metadata": {},
   "outputs": [],
   "source": [
    "init_token_idx = bert_tokenizer.cls_token_id\n",
    "eos_token_idx = bert_tokenizer.sep_token_id\n",
    "pad_token_idx = bert_tokenizer.pad_token_id\n",
    "unk_token_idx = bert_tokenizer.unk_token_id\n",
    "\n",
    "# Trying to cut this down to check if this improves memory usage\n",
    "\n",
    "tokenizer = Tokenizer(bert_tokenizer)\n",
    "\n",
    "ID = data.Field(sequential=False, use_vocab=False)\n",
    "# All these arguments are because these are really floats\n",
    "# See https://github.com/pytorch/text/issues/78#issuecomment-541203609\n",
    "SUBTASK_A = data.LabelField()\n",
    "\n",
    "TEXT = data.Field(\n",
    "    tokenize=tokenizer.tokenize,\n",
    "    include_lengths = True,\n",
    "    use_vocab=False,\n",
    "    batch_first = True,\n",
    "    preprocessing = tokenizer.convert_tokens_to_ids,\n",
    "    init_token = init_token_idx,\n",
    "    eos_token = eos_token_idx,\n",
    "    pad_token = pad_token_idx,\n",
    "    unk_token = unk_token_idx\n",
    ")"
   ]
  },
  {
   "cell_type": "markdown",
   "metadata": {},
   "source": [
    "Get the predictions"
   ]
  },
  {
   "cell_type": "code",
   "execution_count": 4,
   "metadata": {},
   "outputs": [],
   "source": [
    "from offenseval.datasets import datasets, build_dataset, build_examples\n",
    "\n",
    "fields = {\n",
    "    \"id\": ('id', ID),\n",
    "    \"text\": ('text', TEXT),\n",
    "    \"subtask_a\": (\"subtask_a\", SUBTASK_A)\n",
    "}\n",
    "\n",
    "train_en_dataset = build_dataset(datasets[\"olid\"][\"train\"], fields)\n",
    "dev_en_dataset = build_dataset(datasets[\"olid\"][\"dev\"], fields)\n",
    "\n",
    "train_da_dataset = build_dataset(datasets[\"danish\"][\"train\"], fields)\n",
    "dev_da_dataset = build_dataset(datasets[\"danish\"][\"dev\"], fields)\n",
    "\n",
    "\n",
    "SUBTASK_A.build_vocab(dev_en_dataset)\n",
    "assert SUBTASK_A.vocab.itos == [\"NOT\", \"OFF\"]"
   ]
  },
  {
   "cell_type": "code",
   "execution_count": 5,
   "metadata": {},
   "outputs": [
    {
     "name": "stdout",
     "output_type": "stream",
     "text": [
      "There are 13240 English training tweets\n",
      "There are 860 English dev tweets\n",
      "There are 2368 Danish training tweets\n",
      "There are 592 Danish dev tweets\n"
     ]
    }
   ],
   "source": [
    "\n",
    "print(f\"There are {len(train_en_dataset)} English training tweets\")\n",
    "print(f\"There are {len(dev_en_dataset)} English dev tweets\")\n",
    "\n",
    "print(f\"There are {len(train_da_dataset)} Danish training tweets\")\n",
    "print(f\"There are {len(dev_da_dataset)} Danish dev tweets\")\n"
   ]
  },
  {
   "cell_type": "code",
   "execution_count": 6,
   "metadata": {},
   "outputs": [
    {
     "name": "stdout",
     "output_type": "stream",
     "text": [
      "Building iterators\n"
     ]
    }
   ],
   "source": [
    "print(\"Building iterators\")\n",
    "\n",
    "BATCH_SIZE = 64\n",
    "\n",
    "train_en_it, dev_en_it = data.BucketIterator.splits(\n",
    "    (train_en_dataset, dev_en_dataset), batch_size=BATCH_SIZE, device=device,\n",
    "    sort_key = lambda x: len(x.text), sort_within_batch = True,\n",
    ")\n",
    "\n",
    "\n",
    "train_da_it, dev_da_it = data.BucketIterator.splits(\n",
    "    (train_da_dataset, dev_da_dataset), batch_size=BATCH_SIZE, device=device,\n",
    "    sort_key = lambda x: len(x.text), sort_within_batch = True,\n",
    ")"
   ]
  },
  {
   "cell_type": "code",
   "execution_count": 7,
   "metadata": {},
   "outputs": [],
   "source": [
    "from offenseval.nn import create_criterion\n",
    "from offenseval.nn.models import BertSeqModel\n",
    "from transformers import get_linear_schedule_with_warmup\n",
    "\n",
    "model = BertSeqModel(bert_model, dropout=0.10).to(device)\n",
    "epochs = 10\n",
    "\n",
    "criterion = create_criterion(device, weight_with=train_en_dataset)\n",
    "optimizer = AdamW(model.parameters(), lr=2.5e-5)\n",
    "\n",
    "num_training_steps = epochs * len(train_en_it)\n",
    "num_warmup_steps = num_training_steps // 10\n",
    "warmup_proportion = float(num_warmup_steps) / float(num_training_steps)  # 0.1\n",
    "\n",
    "scheduler = get_linear_schedule_with_warmup(\n",
    "    optimizer, num_warmup_steps=num_warmup_steps, num_training_steps=num_training_steps\n",
    ")"
   ]
  },
  {
   "cell_type": "markdown",
   "metadata": {},
   "source": [
    "Construct dataset for better visualization"
   ]
  },
  {
   "cell_type": "code",
   "execution_count": 8,
   "metadata": {},
   "outputs": [
    {
     "data": {
      "application/vnd.jupyter.widget-view+json": {
       "model_id": "f5c33dadde6144a4a8f710ad4bde1c63",
       "version_major": 2,
       "version_minor": 0
      },
      "text/plain": [
       "HBox(children=(FloatProgress(value=0.0, layout=Layout(flex='2'), max=10.0), HTML(value='')), layout=Layout(dis…"
      ]
     },
     "metadata": {},
     "output_type": "display_data"
    },
    {
     "name": "stdout",
     "output_type": "stream",
     "text": [
      "\n",
      "\n",
      "Epoch 0\n"
     ]
    },
    {
     "data": {
      "application/vnd.jupyter.widget-view+json": {
       "model_id": "ae1f418b7ed14ce3a872178804adc093",
       "version_major": 2,
       "version_minor": 0
      },
      "text/plain": [
       "HBox(children=(FloatProgress(value=0.0, layout=Layout(flex='2'), max=207.0), HTML(value='')), layout=Layout(di…"
      ]
     },
     "metadata": {},
     "output_type": "display_data"
    },
    {
     "name": "stdout",
     "output_type": "stream",
     "text": [
      "\n",
      "Train: Loss: 0.825 Acc: 64.67%\n",
      "Val.Loss: 0.629 Acc: 79.42% Macro F1 0.756 (P 0.660 - N 0.852)\n",
      "Best model so far (Loss: 0.629 Acc: 79.42% Macro F1 0.756 (P 0.660 - N 0.852)) saved at ../../models/bert_cased.en.da.pt\n",
      "\n",
      "\n",
      "Epoch 1\n"
     ]
    },
    {
     "data": {
      "application/vnd.jupyter.widget-view+json": {
       "model_id": "b401961632eb431d97e95c1dccadae6f",
       "version_major": 2,
       "version_minor": 0
      },
      "text/plain": [
       "HBox(children=(FloatProgress(value=0.0, layout=Layout(flex='2'), max=207.0), HTML(value='')), layout=Layout(di…"
      ]
     },
     "metadata": {},
     "output_type": "display_data"
    },
    {
     "name": "stdout",
     "output_type": "stream",
     "text": [
      "\n",
      "Train: Loss: 0.656 Acc: 77.02%\n",
      "Val.Loss: 0.602 Acc: 80.35% Macro F1 0.773 (P 0.691 - N 0.856)\n",
      "Best model so far (Loss: 0.602 Acc: 80.35% Macro F1 0.773 (P 0.691 - N 0.856)) saved at ../../models/bert_cased.en.da.pt\n",
      "\n",
      "\n",
      "Epoch 2\n"
     ]
    },
    {
     "data": {
      "application/vnd.jupyter.widget-view+json": {
       "model_id": "814f014c681b45afa724a8f7d10631c0",
       "version_major": 2,
       "version_minor": 0
      },
      "text/plain": [
       "HBox(children=(FloatProgress(value=0.0, layout=Layout(flex='2'), max=207.0), HTML(value='')), layout=Layout(di…"
      ]
     },
     "metadata": {},
     "output_type": "display_data"
    },
    {
     "name": "stdout",
     "output_type": "stream",
     "text": [
      "\n",
      "Train: Loss: 0.537 Acc: 82.03%\n",
      "Val.Loss: 0.584 Acc: 83.26% Macro F1 0.797 (P 0.711 - N 0.882)\n",
      "Best model so far (Loss: 0.584 Acc: 83.26% Macro F1 0.797 (P 0.711 - N 0.882)) saved at ../../models/bert_cased.en.da.pt\n",
      "\n",
      "\n",
      "Epoch 3\n"
     ]
    },
    {
     "data": {
      "application/vnd.jupyter.widget-view+json": {
       "model_id": "808b47b713c34efba1104d6d6f951635",
       "version_major": 2,
       "version_minor": 0
      },
      "text/plain": [
       "HBox(children=(FloatProgress(value=0.0, layout=Layout(flex='2'), max=207.0), HTML(value='')), layout=Layout(di…"
      ]
     },
     "metadata": {},
     "output_type": "display_data"
    },
    {
     "name": "stdout",
     "output_type": "stream",
     "text": [
      "\n",
      "Train: Loss: 0.413 Acc: 87.55%\n",
      "Val.Loss: 0.669 Acc: 82.67% Macro F1 0.787 (P 0.695 - N 0.879)\n",
      "\n",
      "\n",
      "Epoch 4\n"
     ]
    },
    {
     "data": {
      "application/vnd.jupyter.widget-view+json": {
       "model_id": "95327819103c444bbad26390f8ff6ab4",
       "version_major": 2,
       "version_minor": 0
      },
      "text/plain": [
       "HBox(children=(FloatProgress(value=0.0, layout=Layout(flex='2'), max=207.0), HTML(value='')), layout=Layout(di…"
      ]
     },
     "metadata": {},
     "output_type": "display_data"
    },
    {
     "name": "stdout",
     "output_type": "stream",
     "text": [
      "\n",
      "Train: Loss: 0.305 Acc: 91.43%\n",
      "Val.Loss: 0.732 Acc: 80.93% Macro F1 0.775 (P 0.687 - N 0.863)\n",
      "\n",
      "\n",
      "Epoch 5\n"
     ]
    },
    {
     "data": {
      "application/vnd.jupyter.widget-view+json": {
       "model_id": "fc53b986ab6b4591a6499342b852e801",
       "version_major": 2,
       "version_minor": 0
      },
      "text/plain": [
       "HBox(children=(FloatProgress(value=0.0, layout=Layout(flex='2'), max=207.0), HTML(value='')), layout=Layout(di…"
      ]
     },
     "metadata": {},
     "output_type": "display_data"
    },
    {
     "name": "stdout",
     "output_type": "stream",
     "text": [
      "\n",
      "Train: Loss: 0.233 Acc: 93.73%\n",
      "Val.Loss: 0.950 Acc: 81.63% Macro F1 0.772 (P 0.672 - N 0.872)\n",
      "\n",
      "\n",
      "Epoch 6\n"
     ]
    },
    {
     "data": {
      "application/vnd.jupyter.widget-view+json": {
       "model_id": "b29021deeb41416fa922e285c1aecf42",
       "version_major": 2,
       "version_minor": 0
      },
      "text/plain": [
       "HBox(children=(FloatProgress(value=0.0, layout=Layout(flex='2'), max=207.0), HTML(value='')), layout=Layout(di…"
      ]
     },
     "metadata": {},
     "output_type": "display_data"
    },
    {
     "name": "stdout",
     "output_type": "stream",
     "text": [
      "\n",
      "Train: Loss: 0.181 Acc: 95.70%\n",
      "Val.Loss: 1.145 Acc: 82.56% Macro F1 0.772 (P 0.662 - N 0.882)\n",
      "\n",
      "\n",
      "Epoch 7\n"
     ]
    },
    {
     "data": {
      "application/vnd.jupyter.widget-view+json": {
       "model_id": "9f1b7befde7140cfa7dfd1d7b4cce62c",
       "version_major": 2,
       "version_minor": 0
      },
      "text/plain": [
       "HBox(children=(FloatProgress(value=0.0, layout=Layout(flex='2'), max=207.0), HTML(value='')), layout=Layout(di…"
      ]
     },
     "metadata": {},
     "output_type": "display_data"
    },
    {
     "name": "stdout",
     "output_type": "stream",
     "text": [
      "\n",
      "Train: Loss: 0.130 Acc: 96.83%\n",
      "Val.Loss: 1.218 Acc: 81.74% Macro F1 0.763 (P 0.650 - N 0.876)\n",
      "Early stopping\n"
     ]
    }
   ],
   "source": [
    "from offenseval.nn import train_cycle\n",
    "\n",
    "def get_target(batch):\n",
    "    return batch.subtask_a.double()\n",
    "\n",
    "output_path = \"../../models/bert_cased.en.da.pt\"\n",
    "\n",
    "train_cycle(\n",
    "    model, optimizer, criterion, scheduler, \n",
    "    train_en_it, dev_en_it, epochs, get_target=get_target, monitor=\"f1\",\n",
    "    model_path=output_path, early_stopping_tolerance=5, ncols=700\n",
    ")"
   ]
  },
  {
   "cell_type": "code",
   "execution_count": 10,
   "metadata": {},
   "outputs": [
    {
     "name": "stdout",
     "output_type": "stream",
     "text": [
      "Val Loss: 0.584 Acc: 83.26% Macro F1 0.797 (P 0.711 - N 0.882)\n"
     ]
    }
   ],
   "source": [
    "model.load_state_dict(torch.load(output_path))\n",
    "\n",
    "report = evaluate(\n",
    "    model, \n",
    "    dev_en_it, \n",
    "    criterion, \n",
    "    get_target=lambda batch: batch.subtask_a)\n",
    "\n",
    "print(f'Val {report}')\n"
   ]
  },
  {
   "cell_type": "markdown",
   "metadata": {},
   "source": [
    "Now, train it in Danish"
   ]
  },
  {
   "cell_type": "code",
   "execution_count": 11,
   "metadata": {},
   "outputs": [],
   "source": [
    "from offenseval.nn import create_criterion\n",
    "from offenseval.nn.models import BertSeqModel\n",
    "from transformers import get_linear_schedule_with_warmup\n",
    "\n",
    "epochs = 10\n",
    "\n",
    "criterion = create_criterion(device, weight_with=train_en_dataset)\n",
    "optimizer = AdamW(model.parameters(), lr=1e-5)\n",
    "\n",
    "num_training_steps = epochs * len(train_en_it)\n",
    "num_warmup_steps = num_training_steps // 10\n",
    "warmup_proportion = float(num_warmup_steps) / float(num_training_steps)  # 0.1\n",
    "\n",
    "scheduler = get_linear_schedule_with_warmup(\n",
    "    optimizer, num_warmup_steps=num_warmup_steps, num_training_steps=num_training_steps\n",
    ")"
   ]
  },
  {
   "cell_type": "code",
   "execution_count": 12,
   "metadata": {},
   "outputs": [
    {
     "data": {
      "application/vnd.jupyter.widget-view+json": {
       "model_id": "6fd248fcec2644c68b3b62ddda21f35b",
       "version_major": 2,
       "version_minor": 0
      },
      "text/plain": [
       "HBox(children=(FloatProgress(value=0.0, layout=Layout(flex='2'), max=10.0), HTML(value='')), layout=Layout(dis…"
      ]
     },
     "metadata": {},
     "output_type": "display_data"
    },
    {
     "name": "stdout",
     "output_type": "stream",
     "text": [
      "\n",
      "\n",
      "Epoch 0\n"
     ]
    },
    {
     "data": {
      "application/vnd.jupyter.widget-view+json": {
       "model_id": "b18d760dd6c34a0983338e71b31612a3",
       "version_major": 2,
       "version_minor": 0
      },
      "text/plain": [
       "HBox(children=(FloatProgress(value=0.0, layout=Layout(flex='2'), max=37.0), HTML(value='')), layout=Layout(dis…"
      ]
     },
     "metadata": {},
     "output_type": "display_data"
    },
    {
     "name": "stdout",
     "output_type": "stream",
     "text": [
      "\n",
      "Train: Loss: 0.546 Acc: 82.81%\n",
      "Val.Loss: 0.552 Acc: 87.16% Macro F1 0.672 (P 0.415 - N 0.928)\n",
      "Best model so far (Loss: 0.552 Acc: 87.16% Macro F1 0.672 (P 0.415 - N 0.928)) saved at ../../models/bert_cased.en.da.pt\n",
      "\n",
      "\n",
      "Epoch 1\n"
     ]
    },
    {
     "data": {
      "application/vnd.jupyter.widget-view+json": {
       "model_id": "3b3ecb4f18434d819c7a97a3a9bc2501",
       "version_major": 2,
       "version_minor": 0
      },
      "text/plain": [
       "HBox(children=(FloatProgress(value=0.0, layout=Layout(flex='2'), max=37.0), HTML(value='')), layout=Layout(dis…"
      ]
     },
     "metadata": {},
     "output_type": "display_data"
    },
    {
     "name": "stdout",
     "output_type": "stream",
     "text": [
      "\n",
      "Train: Loss: 0.498 Acc: 87.50%\n",
      "Val.Loss: 0.516 Acc: 88.34% Macro F1 0.700 (P 0.465 - N 0.935)\n",
      "Best model so far (Loss: 0.516 Acc: 88.34% Macro F1 0.700 (P 0.465 - N 0.935)) saved at ../../models/bert_cased.en.da.pt\n",
      "\n",
      "\n",
      "Epoch 2\n"
     ]
    },
    {
     "data": {
      "application/vnd.jupyter.widget-view+json": {
       "model_id": "0a29a5e7dc884052828db6861740e19e",
       "version_major": 2,
       "version_minor": 0
      },
      "text/plain": [
       "HBox(children=(FloatProgress(value=0.0, layout=Layout(flex='2'), max=37.0), HTML(value='')), layout=Layout(dis…"
      ]
     },
     "metadata": {},
     "output_type": "display_data"
    },
    {
     "name": "stdout",
     "output_type": "stream",
     "text": [
      "\n",
      "Train: Loss: 0.435 Acc: 89.86%\n",
      "Val.Loss: 0.479 Acc: 88.51% Macro F1 0.718 (P 0.500 - N 0.935)\n",
      "Best model so far (Loss: 0.479 Acc: 88.51% Macro F1 0.718 (P 0.500 - N 0.935)) saved at ../../models/bert_cased.en.da.pt\n",
      "\n",
      "\n",
      "Epoch 3\n"
     ]
    },
    {
     "data": {
      "application/vnd.jupyter.widget-view+json": {
       "model_id": "6292b2af24c6436ab3ac3193d1ce9c3c",
       "version_major": 2,
       "version_minor": 0
      },
      "text/plain": [
       "HBox(children=(FloatProgress(value=0.0, layout=Layout(flex='2'), max=37.0), HTML(value='')), layout=Layout(dis…"
      ]
     },
     "metadata": {},
     "output_type": "display_data"
    },
    {
     "name": "stdout",
     "output_type": "stream",
     "text": [
      "\n",
      "Train: Loss: 0.351 Acc: 91.68%\n",
      "Val.Loss: 0.479 Acc: 86.32% Macro F1 0.728 (P 0.537 - N 0.920)\n",
      "Best model so far (Loss: 0.479 Acc: 86.32% Macro F1 0.728 (P 0.537 - N 0.920)) saved at ../../models/bert_cased.en.da.pt\n",
      "\n",
      "\n",
      "Epoch 4\n"
     ]
    },
    {
     "data": {
      "application/vnd.jupyter.widget-view+json": {
       "model_id": "c7f3059d7c024d73af6d3fd22054c927",
       "version_major": 2,
       "version_minor": 0
      },
      "text/plain": [
       "HBox(children=(FloatProgress(value=0.0, layout=Layout(flex='2'), max=37.0), HTML(value='')), layout=Layout(dis…"
      ]
     },
     "metadata": {},
     "output_type": "display_data"
    },
    {
     "name": "stdout",
     "output_type": "stream",
     "text": [
      "\n",
      "Train: Loss: 0.278 Acc: 93.16%\n",
      "Val.Loss: 0.468 Acc: 91.05% Macro F1 0.787 (P 0.624 - N 0.949)\n",
      "Best model so far (Loss: 0.468 Acc: 91.05% Macro F1 0.787 (P 0.624 - N 0.949)) saved at ../../models/bert_cased.en.da.pt\n",
      "\n",
      "\n",
      "Epoch 5\n"
     ]
    },
    {
     "data": {
      "application/vnd.jupyter.widget-view+json": {
       "model_id": "19f4c1f6016f41d19cb44cac01970823",
       "version_major": 2,
       "version_minor": 0
      },
      "text/plain": [
       "HBox(children=(FloatProgress(value=0.0, layout=Layout(flex='2'), max=37.0), HTML(value='')), layout=Layout(dis…"
      ]
     },
     "metadata": {},
     "output_type": "display_data"
    },
    {
     "name": "stdout",
     "output_type": "stream",
     "text": [
      "\n",
      "Train: Loss: 0.215 Acc: 94.89%\n",
      "Val.Loss: 0.522 Acc: 90.20% Macro F1 0.776 (P 0.608 - N 0.944)\n",
      "\n",
      "\n",
      "Epoch 6\n"
     ]
    },
    {
     "data": {
      "application/vnd.jupyter.widget-view+json": {
       "model_id": "6216ce88d9234eb38bcc14bfc89aff6e",
       "version_major": 2,
       "version_minor": 0
      },
      "text/plain": [
       "HBox(children=(FloatProgress(value=0.0, layout=Layout(flex='2'), max=37.0), HTML(value='')), layout=Layout(dis…"
      ]
     },
     "metadata": {},
     "output_type": "display_data"
    },
    {
     "name": "stdout",
     "output_type": "stream",
     "text": [
      "\n",
      "Train: Loss: 0.168 Acc: 96.49%\n",
      "Val.Loss: 0.585 Acc: 89.36% Macro F1 0.771 (P 0.604 - N 0.939)\n",
      "\n",
      "\n",
      "Epoch 7\n"
     ]
    },
    {
     "data": {
      "application/vnd.jupyter.widget-view+json": {
       "model_id": "3bb82c1f8aee49e3a5787de337954aeb",
       "version_major": 2,
       "version_minor": 0
      },
      "text/plain": [
       "HBox(children=(FloatProgress(value=0.0, layout=Layout(flex='2'), max=37.0), HTML(value='')), layout=Layout(dis…"
      ]
     },
     "metadata": {},
     "output_type": "display_data"
    },
    {
     "name": "stdout",
     "output_type": "stream",
     "text": [
      "\n",
      "Train: Loss: 0.118 Acc: 97.34%\n",
      "Val.Loss: 0.661 Acc: 90.71% Macro F1 0.770 (P 0.593 - N 0.948)\n",
      "\n",
      "\n",
      "Epoch 8\n"
     ]
    },
    {
     "data": {
      "application/vnd.jupyter.widget-view+json": {
       "model_id": "e51f26a117a04b6492cea5146f291b41",
       "version_major": 2,
       "version_minor": 0
      },
      "text/plain": [
       "HBox(children=(FloatProgress(value=0.0, layout=Layout(flex='2'), max=37.0), HTML(value='')), layout=Layout(dis…"
      ]
     },
     "metadata": {},
     "output_type": "display_data"
    },
    {
     "name": "stdout",
     "output_type": "stream",
     "text": [
      "\n",
      "Train: Loss: 0.078 Acc: 98.35%\n",
      "Val.Loss: 0.816 Acc: 90.88% Macro F1 0.757 (P 0.565 - N 0.949)\n",
      "\n",
      "\n",
      "Epoch 9\n"
     ]
    },
    {
     "data": {
      "application/vnd.jupyter.widget-view+json": {
       "model_id": "f95560d8a93f4fe0811e0e197350564a",
       "version_major": 2,
       "version_minor": 0
      },
      "text/plain": [
       "HBox(children=(FloatProgress(value=0.0, layout=Layout(flex='2'), max=37.0), HTML(value='')), layout=Layout(dis…"
      ]
     },
     "metadata": {},
     "output_type": "display_data"
    },
    {
     "name": "stdout",
     "output_type": "stream",
     "text": [
      "\n",
      "Train: Loss: 0.065 Acc: 98.61%\n",
      "Val.Loss: 0.790 Acc: 90.37% Macro F1 0.771 (P 0.596 - N 0.945)\n",
      "Early stopping\n"
     ]
    }
   ],
   "source": [
    "from offenseval.nn import train_cycle\n",
    "\n",
    "\n",
    "train_cycle(\n",
    "    model, optimizer, criterion, scheduler, \n",
    "    train_da_it, dev_da_it, epochs, get_target=get_target, monitor=\"f1\",\n",
    "    model_path=output_path, early_stopping_tolerance=5, ncols=700\n",
    ")"
   ]
  },
  {
   "cell_type": "code",
   "execution_count": 13,
   "metadata": {},
   "outputs": [
    {
     "name": "stdout",
     "output_type": "stream",
     "text": [
      "Val Loss: 0.468 Acc: 91.05% Macro F1 0.787 (P 0.624 - N 0.949)\n"
     ]
    }
   ],
   "source": [
    "model.load_state_dict(torch.load(output_path))\n",
    "\n",
    "report = evaluate(\n",
    "    model, \n",
    "    dev_da_it, \n",
    "    criterion, \n",
    "    get_target=lambda batch: batch.subtask_a)\n",
    "\n",
    "print(f'Val {report}')\n"
   ]
  }
 ],
 "metadata": {
  "kernelspec": {
   "display_name": "Python 3",
   "language": "python",
   "name": "python3"
  },
  "language_info": {
   "codemirror_mode": {
    "name": "ipython",
    "version": 3
   },
   "file_extension": ".py",
   "mimetype": "text/x-python",
   "name": "python",
   "nbconvert_exporter": "python",
   "pygments_lexer": "ipython3",
   "version": "3.6.9"
  }
 },
 "nbformat": 4,
 "nbformat_minor": 4
}
