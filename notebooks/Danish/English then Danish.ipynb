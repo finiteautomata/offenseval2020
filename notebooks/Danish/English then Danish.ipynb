{
 "cells": [
  {
   "cell_type": "markdown",
   "metadata": {},
   "source": [
    "# English pretraining then Danish finetuning\n",
    "\n",
    "In this notebook we finetune the model in English to then finetune it again in Danish\n",
    "\n",
    "It has similar performance"
   ]
  },
  {
   "cell_type": "code",
   "execution_count": 1,
   "metadata": {},
   "outputs": [],
   "source": [
    "%load_ext autoreload\n",
    "%autoreload 2\n",
    "import os\n",
    "from datetime import datetime\n",
    "import fire\n",
    "import torch\n",
    "import pandas as pd\n",
    "from torchtext import data\n",
    "import torch.nn as nn\n",
    "from transformers import (\n",
    "    AdamW, BertForSequenceClassification, BertTokenizer,\n",
    "    get_constant_schedule_with_warmup\n",
    ")\n",
    "\n",
    "from offenseval.nn import (\n",
    "    Tokenizer,\n",
    "    train, evaluate, train_cycle, save_model, load_model, evaluate_dataset\n",
    ")\n",
    "from offenseval.datasets import datasets\n",
    "\n",
    "pd.options.display.max_rows = 200\n",
    "pd.options.display.max_colwidth = 300\n",
    "\n",
    "device = torch.device('cuda' if torch.cuda.is_available() else 'cpu')\n"
   ]
  },
  {
   "cell_type": "markdown",
   "metadata": {},
   "source": [
    "Create fields and some other boilerplate"
   ]
  },
  {
   "cell_type": "code",
   "execution_count": 2,
   "metadata": {},
   "outputs": [],
   "source": [
    "from offenseval.datasets import datasets, build_dataset\n",
    "from transformers import BertModel, BertTokenizer\n",
    "\n",
    "bert_name = \"bert-base-multilingual-cased\"\n",
    "bert_model = BertModel.from_pretrained(bert_name)\n",
    "bert_tokenizer = BertTokenizer.from_pretrained(bert_name)\n"
   ]
  },
  {
   "cell_type": "code",
   "execution_count": 3,
   "metadata": {},
   "outputs": [],
   "source": [
    "init_token_idx = bert_tokenizer.cls_token_id\n",
    "eos_token_idx = bert_tokenizer.sep_token_id\n",
    "pad_token_idx = bert_tokenizer.pad_token_id\n",
    "unk_token_idx = bert_tokenizer.unk_token_id\n",
    "\n",
    "# Trying to cut this down to check if this improves memory usage\n",
    "\n",
    "tokenizer = Tokenizer(bert_tokenizer)\n",
    "\n",
    "ID = data.Field(sequential=False, use_vocab=False)\n",
    "# All these arguments are because these are really floats\n",
    "# See https://github.com/pytorch/text/issues/78#issuecomment-541203609\n",
    "SUBTASK_A = data.LabelField()\n",
    "\n",
    "TEXT = data.Field(\n",
    "    tokenize=tokenizer.tokenize,\n",
    "    include_lengths = True,\n",
    "    use_vocab=False,\n",
    "    batch_first = True,\n",
    "    preprocessing = tokenizer.convert_tokens_to_ids,\n",
    "    init_token = init_token_idx,\n",
    "    eos_token = eos_token_idx,\n",
    "    pad_token = pad_token_idx,\n",
    "    unk_token = unk_token_idx\n",
    ")"
   ]
  },
  {
   "cell_type": "markdown",
   "metadata": {},
   "source": [
    "Get the predictions"
   ]
  },
  {
   "cell_type": "code",
   "execution_count": 4,
   "metadata": {},
   "outputs": [],
   "source": [
    "from offenseval.datasets import datasets, build_dataset, build_examples\n",
    "\n",
    "fields = {\n",
    "    \"id\": ('id', ID),\n",
    "    \"text\": ('text', TEXT),\n",
    "    \"subtask_a\": (\"subtask_a\", SUBTASK_A)\n",
    "}\n",
    "\n",
    "train_en_dataset = build_dataset(datasets[\"olid\"][\"train\"], fields)\n",
    "dev_en_dataset = build_dataset(datasets[\"olid\"][\"dev\"], fields)\n",
    "\n",
    "train_da_dataset = build_dataset(datasets[\"danish\"][\"train\"], fields)\n",
    "dev_da_dataset = build_dataset(datasets[\"danish\"][\"dev\"], fields)\n",
    "\n",
    "\n",
    "SUBTASK_A.build_vocab(dev_en_dataset)\n",
    "assert SUBTASK_A.vocab.itos == [\"NOT\", \"OFF\"]"
   ]
  },
  {
   "cell_type": "code",
   "execution_count": 5,
   "metadata": {},
   "outputs": [
    {
     "name": "stdout",
     "output_type": "stream",
     "text": [
      "There are 13240 English training tweets\n",
      "There are 860 English dev tweets\n",
      "There are 2368 Danish training tweets\n",
      "There are 592 Danish dev tweets\n"
     ]
    }
   ],
   "source": [
    "\n",
    "print(f\"There are {len(train_en_dataset)} English training tweets\")\n",
    "print(f\"There are {len(dev_en_dataset)} English dev tweets\")\n",
    "\n",
    "print(f\"There are {len(train_da_dataset)} Danish training tweets\")\n",
    "print(f\"There are {len(dev_da_dataset)} Danish dev tweets\")\n"
   ]
  },
  {
   "cell_type": "code",
   "execution_count": 6,
   "metadata": {},
   "outputs": [
    {
     "name": "stdout",
     "output_type": "stream",
     "text": [
      "Building iterators\n"
     ]
    }
   ],
   "source": [
    "print(\"Building iterators\")\n",
    "\n",
    "BATCH_SIZE = 32\n",
    "\n",
    "train_en_it, dev_en_it = data.BucketIterator.splits(\n",
    "    (train_en_dataset, dev_en_dataset), batch_size=BATCH_SIZE, device=device,\n",
    "    sort_key = lambda x: len(x.text), sort_within_batch = True,\n",
    ")\n",
    "\n",
    "\n",
    "train_da_it, dev_da_it = data.BucketIterator.splits(\n",
    "    (train_da_dataset, dev_da_dataset), batch_size=BATCH_SIZE, device=device,\n",
    "    sort_key = lambda x: len(x.text), sort_within_batch = True,\n",
    ")"
   ]
  },
  {
   "cell_type": "code",
   "execution_count": 7,
   "metadata": {},
   "outputs": [],
   "source": [
    "from offenseval.nn import create_criterion\n",
    "from offenseval.nn.models import BertSeqModel\n",
    "from transformers import get_linear_schedule_with_warmup\n",
    "\n",
    "model = BertSeqModel(bert_model, dropout=0.10).to(device)\n",
    "epochs = 10\n",
    "\n",
    "criterion = create_criterion(device, weight_with=train_en_dataset)\n",
    "optimizer = AdamW(model.parameters(), lr=5e-5)\n",
    "\n",
    "num_training_steps = epochs * len(train_en_it)\n",
    "num_warmup_steps = num_training_steps // 10\n",
    "warmup_proportion = float(num_warmup_steps) / float(num_training_steps)  # 0.1\n",
    "\n",
    "scheduler = get_linear_schedule_with_warmup(\n",
    "    optimizer, num_warmup_steps=num_warmup_steps, num_training_steps=num_training_steps\n",
    ")"
   ]
  },
  {
   "cell_type": "markdown",
   "metadata": {},
   "source": [
    "Construct dataset for better visualization"
   ]
  },
  {
   "cell_type": "code",
   "execution_count": 8,
   "metadata": {},
   "outputs": [
    {
     "data": {
      "application/vnd.jupyter.widget-view+json": {
       "model_id": "9dff88c558f740278a62cdc70d3fe0fc",
       "version_major": 2,
       "version_minor": 0
      },
      "text/plain": [
       "HBox(children=(FloatProgress(value=0.0, layout=Layout(flex='2'), max=10.0), HTML(value='')), layout=Layout(dis…"
      ]
     },
     "metadata": {},
     "output_type": "display_data"
    },
    {
     "name": "stdout",
     "output_type": "stream",
     "text": [
      "\n",
      "\n",
      "Epoch 0\n"
     ]
    },
    {
     "data": {
      "application/vnd.jupyter.widget-view+json": {
       "model_id": "0fd6f00faa4645f4ae9895dc3bb3c1f5",
       "version_major": 2,
       "version_minor": 0
      },
      "text/plain": [
       "HBox(children=(FloatProgress(value=0.0, layout=Layout(flex='2'), max=414.0), HTML(value='')), layout=Layout(di…"
      ]
     },
     "metadata": {},
     "output_type": "display_data"
    },
    {
     "name": "stdout",
     "output_type": "stream",
     "text": [
      "\n",
      "Train: Loss: 0.791 Acc: 67.39%\n",
      "Val.Loss: 0.629 Acc: 77.91% Macro F1 0.752 (P 0.669 - N 0.834)\n",
      "Best model so far (Loss: 0.629 Acc: 77.91% Macro F1 0.752 (P 0.669 - N 0.834)) saved at ../../models/bert_cased.en.da.pt\n",
      "\n",
      "\n",
      "Epoch 1\n"
     ]
    },
    {
     "data": {
      "application/vnd.jupyter.widget-view+json": {
       "model_id": "aa9d114dd80e4d3680594ba0fd12b42b",
       "version_major": 2,
       "version_minor": 0
      },
      "text/plain": [
       "HBox(children=(FloatProgress(value=0.0, layout=Layout(flex='2'), max=414.0), HTML(value='')), layout=Layout(di…"
      ]
     },
     "metadata": {},
     "output_type": "display_data"
    },
    {
     "name": "stdout",
     "output_type": "stream",
     "text": [
      "\n",
      "Train: Loss: 0.665 Acc: 77.14%\n",
      "Val.Loss: 0.612 Acc: 78.37% Macro F1 0.756 (P 0.673 - N 0.839)\n",
      "Best model so far (Loss: 0.612 Acc: 78.37% Macro F1 0.756 (P 0.673 - N 0.839)) saved at ../../models/bert_cased.en.da.pt\n",
      "\n",
      "\n",
      "Epoch 2\n"
     ]
    },
    {
     "data": {
      "application/vnd.jupyter.widget-view+json": {
       "model_id": "8d22271a742249bfb042217cb820946b",
       "version_major": 2,
       "version_minor": 0
      },
      "text/plain": [
       "HBox(children=(FloatProgress(value=0.0, layout=Layout(flex='2'), max=414.0), HTML(value='')), layout=Layout(di…"
      ]
     },
     "metadata": {},
     "output_type": "display_data"
    },
    {
     "name": "stdout",
     "output_type": "stream",
     "text": [
      "\n",
      "Train: Loss: 0.535 Acc: 83.24%\n",
      "Val.Loss: 0.593 Acc: 76.86% Macro F1 0.743 (P 0.661 - N 0.824)\n",
      "\n",
      "\n",
      "Epoch 3\n"
     ]
    },
    {
     "data": {
      "application/vnd.jupyter.widget-view+json": {
       "model_id": "5d0720a0c0d343a388f95b5ebefdbc5e",
       "version_major": 2,
       "version_minor": 0
      },
      "text/plain": [
       "HBox(children=(FloatProgress(value=0.0, layout=Layout(flex='2'), max=414.0), HTML(value='')), layout=Layout(di…"
      ]
     },
     "metadata": {},
     "output_type": "display_data"
    },
    {
     "name": "stdout",
     "output_type": "stream",
     "text": [
      "\n",
      "Train: Loss: 0.394 Acc: 89.30%\n",
      "Val.Loss: 0.724 Acc: 81.05% Macro F1 0.768 (P 0.668 - N 0.867)\n",
      "Best model so far (Loss: 0.724 Acc: 81.05% Macro F1 0.768 (P 0.668 - N 0.867)) saved at ../../models/bert_cased.en.da.pt\n",
      "\n",
      "\n",
      "Epoch 4\n"
     ]
    },
    {
     "data": {
      "application/vnd.jupyter.widget-view+json": {
       "model_id": "79a19bac48c0474fb9e165a1f729d7bd",
       "version_major": 2,
       "version_minor": 0
      },
      "text/plain": [
       "HBox(children=(FloatProgress(value=0.0, layout=Layout(flex='2'), max=414.0), HTML(value='')), layout=Layout(di…"
      ]
     },
     "metadata": {},
     "output_type": "display_data"
    },
    {
     "name": "stdout",
     "output_type": "stream",
     "text": [
      "\n",
      "Train: Loss: 0.287 Acc: 93.00%\n",
      "Val.Loss: 0.950 Acc: 78.26% Macro F1 0.749 (P 0.658 - N 0.841)\n",
      "\n",
      "\n",
      "Epoch 5\n"
     ]
    },
    {
     "data": {
      "application/vnd.jupyter.widget-view+json": {
       "model_id": "dea8652477bf4a249c17f8773baa7145",
       "version_major": 2,
       "version_minor": 0
      },
      "text/plain": [
       "HBox(children=(FloatProgress(value=0.0, layout=Layout(flex='2'), max=414.0), HTML(value='')), layout=Layout(di…"
      ]
     },
     "metadata": {},
     "output_type": "display_data"
    },
    {
     "name": "stdout",
     "output_type": "stream",
     "text": [
      "\n",
      "Train: Loss: 0.215 Acc: 95.68%\n",
      "Val.Loss: 1.111 Acc: 79.65% Macro F1 0.759 (P 0.663 - N 0.854)\n",
      "\n",
      "\n",
      "Epoch 6\n"
     ]
    },
    {
     "data": {
      "application/vnd.jupyter.widget-view+json": {
       "model_id": "b1299ecc37b04ff5b4466b472e2e476d",
       "version_major": 2,
       "version_minor": 0
      },
      "text/plain": [
       "HBox(children=(FloatProgress(value=0.0, layout=Layout(flex='2'), max=414.0), HTML(value='')), layout=Layout(di…"
      ]
     },
     "metadata": {},
     "output_type": "display_data"
    },
    {
     "name": "stdout",
     "output_type": "stream",
     "text": [
      "\n",
      "Train: Loss: 0.164 Acc: 96.60%\n",
      "Val.Loss: 1.248 Acc: 81.28% Macro F1 0.761 (P 0.649 - N 0.872)\n",
      "\n",
      "\n",
      "Epoch 7\n"
     ]
    },
    {
     "data": {
      "application/vnd.jupyter.widget-view+json": {
       "model_id": "e8a716c85e794bf2b58d3d2560b1510e",
       "version_major": 2,
       "version_minor": 0
      },
      "text/plain": [
       "HBox(children=(FloatProgress(value=0.0, layout=Layout(flex='2'), max=414.0), HTML(value='')), layout=Layout(di…"
      ]
     },
     "metadata": {},
     "output_type": "display_data"
    },
    {
     "name": "stdout",
     "output_type": "stream",
     "text": [
      "\n",
      "Train: Loss: 0.116 Acc: 97.97%\n",
      "Val.Loss: 1.325 Acc: 83.02% Macro F1 0.784 (P 0.684 - N 0.884)\n",
      "Best model so far (Loss: 1.325 Acc: 83.02% Macro F1 0.784 (P 0.684 - N 0.884)) saved at ../../models/bert_cased.en.da.pt\n",
      "\n",
      "\n",
      "Epoch 8\n"
     ]
    },
    {
     "data": {
      "application/vnd.jupyter.widget-view+json": {
       "model_id": "492fbb5638aa45adbe8c99988a50995d",
       "version_major": 2,
       "version_minor": 0
      },
      "text/plain": [
       "HBox(children=(FloatProgress(value=0.0, layout=Layout(flex='2'), max=414.0), HTML(value='')), layout=Layout(di…"
      ]
     },
     "metadata": {},
     "output_type": "display_data"
    },
    {
     "name": "stdout",
     "output_type": "stream",
     "text": [
      "\n",
      "Train: Loss: 0.085 Acc: 98.55%\n",
      "Val.Loss: 1.452 Acc: 82.21% Macro F1 0.781 (P 0.687 - N 0.876)\n",
      "\n",
      "\n",
      "Epoch 9\n"
     ]
    },
    {
     "data": {
      "application/vnd.jupyter.widget-view+json": {
       "model_id": "5c36bfba20a34312b010f5450a8d86f6",
       "version_major": 2,
       "version_minor": 0
      },
      "text/plain": [
       "HBox(children=(FloatProgress(value=0.0, layout=Layout(flex='2'), max=414.0), HTML(value='')), layout=Layout(di…"
      ]
     },
     "metadata": {},
     "output_type": "display_data"
    },
    {
     "name": "stdout",
     "output_type": "stream",
     "text": [
      "\n",
      "Train: Loss: 0.060 Acc: 98.92%\n",
      "Val.Loss: 1.526 Acc: 82.33% Macro F1 0.778 (P 0.678 - N 0.878)\n"
     ]
    }
   ],
   "source": [
    "from offenseval.nn import train_cycle\n",
    "\n",
    "def get_target(batch):\n",
    "    return batch.subtask_a.double()\n",
    "\n",
    "output_path = \"../../models/bert_cased.en.da.pt\"\n",
    "\n",
    "train_cycle(\n",
    "    model, optimizer, criterion, scheduler, \n",
    "    train_en_it, dev_en_it, epochs, get_target=get_target, monitor=\"f1\",\n",
    "    model_path=output_path, early_stopping_tolerance=5, ncols=700\n",
    ")"
   ]
  },
  {
   "cell_type": "code",
   "execution_count": 9,
   "metadata": {},
   "outputs": [
    {
     "name": "stdout",
     "output_type": "stream",
     "text": [
      "Val Loss: 0.603 Acc: 83.49% Macro F1 0.791 (P 0.695 - N 0.887)\n"
     ]
    }
   ],
   "source": [
    "model.load_state_dict(torch.load(output_path))\n",
    "\n",
    "report = evaluate(\n",
    "    model, \n",
    "    dev_en_it, \n",
    "    criterion, \n",
    "    get_target=lambda batch: batch.subtask_a)\n",
    "\n",
    "print(f'Val {report}')\n"
   ]
  },
  {
   "cell_type": "markdown",
   "metadata": {},
   "source": [
    "Now, train it in Danish"
   ]
  },
  {
   "cell_type": "code",
   "execution_count": 10,
   "metadata": {},
   "outputs": [],
   "source": [
    "from offenseval.nn import create_criterion\n",
    "from offenseval.nn.models import BertSeqModel\n",
    "from transformers import get_linear_schedule_with_warmup\n",
    "\n",
    "epochs = 10\n",
    "\n",
    "criterion = create_criterion(device, weight_with=train_en_dataset)\n",
    "optimizer = AdamW(model.parameters(), lr=2e-5)\n",
    "\n",
    "num_training_steps = epochs * len(train_en_it)\n",
    "num_warmup_steps = num_training_steps // 10\n",
    "warmup_proportion = float(num_warmup_steps) / float(num_training_steps)  # 0.1\n",
    "\n",
    "scheduler = get_linear_schedule_with_warmup(\n",
    "    optimizer, num_warmup_steps=num_warmup_steps, num_training_steps=num_training_steps\n",
    ")"
   ]
  },
  {
   "cell_type": "code",
   "execution_count": 11,
   "metadata": {},
   "outputs": [
    {
     "data": {
      "application/vnd.jupyter.widget-view+json": {
       "model_id": "3587db0a71dd488ea57d26a5a099cbf8",
       "version_major": 2,
       "version_minor": 0
      },
      "text/plain": [
       "HBox(children=(FloatProgress(value=0.0, layout=Layout(flex='2'), max=10.0), HTML(value='')), layout=Layout(dis…"
      ]
     },
     "metadata": {},
     "output_type": "display_data"
    },
    {
     "name": "stdout",
     "output_type": "stream",
     "text": [
      "\n",
      "\n",
      "Epoch 0\n"
     ]
    },
    {
     "data": {
      "application/vnd.jupyter.widget-view+json": {
       "model_id": "b8c006ca3341455980d320822bad3d1d",
       "version_major": 2,
       "version_minor": 0
      },
      "text/plain": [
       "HBox(children=(FloatProgress(value=0.0, layout=Layout(flex='2'), max=74.0), HTML(value='')), layout=Layout(dis…"
      ]
     },
     "metadata": {},
     "output_type": "display_data"
    },
    {
     "name": "stdout",
     "output_type": "stream",
     "text": [
      "\n",
      "Train: Loss: 0.545 Acc: 85.26%\n",
      "Val.Loss: 0.517 Acc: 88.34% Macro F1 0.691 (P 0.448 - N 0.935)\n",
      "Best model so far (Loss: 0.517 Acc: 88.34% Macro F1 0.691 (P 0.448 - N 0.935)) saved at ../../models/bert_cased.en.da.pt\n",
      "\n",
      "\n",
      "Epoch 1\n"
     ]
    },
    {
     "data": {
      "application/vnd.jupyter.widget-view+json": {
       "model_id": "3ddc53633e4948dbab4833798ad10db9",
       "version_major": 2,
       "version_minor": 0
      },
      "text/plain": [
       "HBox(children=(FloatProgress(value=0.0, layout=Layout(flex='2'), max=74.0), HTML(value='')), layout=Layout(dis…"
      ]
     },
     "metadata": {},
     "output_type": "display_data"
    },
    {
     "name": "stdout",
     "output_type": "stream",
     "text": [
      "\n",
      "Train: Loss: 0.483 Acc: 88.30%\n",
      "Val.Loss: 0.480 Acc: 88.34% Macro F1 0.704 (P 0.473 - N 0.934)\n",
      "Best model so far (Loss: 0.480 Acc: 88.34% Macro F1 0.704 (P 0.473 - N 0.934)) saved at ../../models/bert_cased.en.da.pt\n",
      "\n",
      "\n",
      "Epoch 2\n"
     ]
    },
    {
     "data": {
      "application/vnd.jupyter.widget-view+json": {
       "model_id": "d8e8f0bfd59a46c2af67a5759042fb14",
       "version_major": 2,
       "version_minor": 0
      },
      "text/plain": [
       "HBox(children=(FloatProgress(value=0.0, layout=Layout(flex='2'), max=74.0), HTML(value='')), layout=Layout(dis…"
      ]
     },
     "metadata": {},
     "output_type": "display_data"
    },
    {
     "name": "stdout",
     "output_type": "stream",
     "text": [
      "\n",
      "Train: Loss: 0.390 Acc: 90.88%\n",
      "Val.Loss: 0.502 Acc: 90.20% Macro F1 0.735 (P 0.525 - N 0.945)\n",
      "Best model so far (Loss: 0.502 Acc: 90.20% Macro F1 0.735 (P 0.525 - N 0.945)) saved at ../../models/bert_cased.en.da.pt\n",
      "\n",
      "\n",
      "Epoch 3\n"
     ]
    },
    {
     "data": {
      "application/vnd.jupyter.widget-view+json": {
       "model_id": "6b4a4bc9742a4e5db048cceac2b7662f",
       "version_major": 2,
       "version_minor": 0
      },
      "text/plain": [
       "HBox(children=(FloatProgress(value=0.0, layout=Layout(flex='2'), max=74.0), HTML(value='')), layout=Layout(dis…"
      ]
     },
     "metadata": {},
     "output_type": "display_data"
    },
    {
     "name": "stdout",
     "output_type": "stream",
     "text": [
      "\n",
      "Train: Loss: 0.290 Acc: 94.09%\n",
      "Val.Loss: 0.539 Acc: 89.70% Macro F1 0.748 (P 0.555 - N 0.942)\n",
      "Best model so far (Loss: 0.539 Acc: 89.70% Macro F1 0.748 (P 0.555 - N 0.942)) saved at ../../models/bert_cased.en.da.pt\n",
      "\n",
      "\n",
      "Epoch 4\n"
     ]
    },
    {
     "data": {
      "application/vnd.jupyter.widget-view+json": {
       "model_id": "378ffe5c5e4a48339b56a86585a47440",
       "version_major": 2,
       "version_minor": 0
      },
      "text/plain": [
       "HBox(children=(FloatProgress(value=0.0, layout=Layout(flex='2'), max=74.0), HTML(value='')), layout=Layout(dis…"
      ]
     },
     "metadata": {},
     "output_type": "display_data"
    },
    {
     "name": "stdout",
     "output_type": "stream",
     "text": [
      "\n",
      "Train: Loss: 0.205 Acc: 96.07%\n",
      "Val.Loss: 0.626 Acc: 89.19% Macro F1 0.750 (P 0.562 - N 0.938)\n",
      "Best model so far (Loss: 0.626 Acc: 89.19% Macro F1 0.750 (P 0.562 - N 0.938)) saved at ../../models/bert_cased.en.da.pt\n",
      "\n",
      "\n",
      "Epoch 5\n"
     ]
    },
    {
     "data": {
      "application/vnd.jupyter.widget-view+json": {
       "model_id": "9bb1fa6bdfe04551815924a1158c0380",
       "version_major": 2,
       "version_minor": 0
      },
      "text/plain": [
       "HBox(children=(FloatProgress(value=0.0, layout=Layout(flex='2'), max=74.0), HTML(value='')), layout=Layout(dis…"
      ]
     },
     "metadata": {},
     "output_type": "display_data"
    },
    {
     "name": "stdout",
     "output_type": "stream",
     "text": [
      "\n",
      "Train: Loss: 0.127 Acc: 97.93%\n",
      "Val.Loss: 0.706 Acc: 91.05% Macro F1 0.763 (P 0.576 - N 0.950)\n",
      "Best model so far (Loss: 0.706 Acc: 91.05% Macro F1 0.763 (P 0.576 - N 0.950)) saved at ../../models/bert_cased.en.da.pt\n",
      "\n",
      "\n",
      "Epoch 6\n"
     ]
    },
    {
     "data": {
      "application/vnd.jupyter.widget-view+json": {
       "model_id": "77fbbfbcec7644fc818201746186c4b5",
       "version_major": 2,
       "version_minor": 0
      },
      "text/plain": [
       "HBox(children=(FloatProgress(value=0.0, layout=Layout(flex='2'), max=74.0), HTML(value='')), layout=Layout(dis…"
      ]
     },
     "metadata": {},
     "output_type": "display_data"
    },
    {
     "name": "stdout",
     "output_type": "stream",
     "text": [
      "\n",
      "Train: Loss: 0.132 Acc: 98.10%\n",
      "Val.Loss: 0.719 Acc: 90.88% Macro F1 0.763 (P 0.578 - N 0.949)\n",
      "Best model so far (Loss: 0.719 Acc: 90.88% Macro F1 0.763 (P 0.578 - N 0.949)) saved at ../../models/bert_cased.en.da.pt\n",
      "\n",
      "\n",
      "Epoch 7\n"
     ]
    },
    {
     "data": {
      "application/vnd.jupyter.widget-view+json": {
       "model_id": "502253b8e1e54102988d074c8df60a88",
       "version_major": 2,
       "version_minor": 0
      },
      "text/plain": [
       "HBox(children=(FloatProgress(value=0.0, layout=Layout(flex='2'), max=74.0), HTML(value='')), layout=Layout(dis…"
      ]
     },
     "metadata": {},
     "output_type": "display_data"
    },
    {
     "name": "stdout",
     "output_type": "stream",
     "text": [
      "\n",
      "Train: Loss: 0.097 Acc: 98.69%\n",
      "Val.Loss: 0.799 Acc: 90.54% Macro F1 0.758 (P 0.569 - N 0.947)\n",
      "\n",
      "\n",
      "Epoch 8\n"
     ]
    },
    {
     "data": {
      "application/vnd.jupyter.widget-view+json": {
       "model_id": "ec5cbad8cdf5490aa3658ce5bf865793",
       "version_major": 2,
       "version_minor": 0
      },
      "text/plain": [
       "HBox(children=(FloatProgress(value=0.0, layout=Layout(flex='2'), max=74.0), HTML(value='')), layout=Layout(dis…"
      ]
     },
     "metadata": {},
     "output_type": "display_data"
    },
    {
     "name": "stdout",
     "output_type": "stream",
     "text": [
      "\n",
      "Train: Loss: 0.082 Acc: 98.73%\n",
      "Val.Loss: 1.085 Acc: 85.64% Macro F1 0.718 (P 0.520 - N 0.916)\n",
      "\n",
      "\n",
      "Epoch 9\n"
     ]
    },
    {
     "data": {
      "application/vnd.jupyter.widget-view+json": {
       "model_id": "dadaf00550b7460fb5cec512cf014996",
       "version_major": 2,
       "version_minor": 0
      },
      "text/plain": [
       "HBox(children=(FloatProgress(value=0.0, layout=Layout(flex='2'), max=74.0), HTML(value='')), layout=Layout(dis…"
      ]
     },
     "metadata": {},
     "output_type": "display_data"
    },
    {
     "name": "stdout",
     "output_type": "stream",
     "text": [
      "\n",
      "Train: Loss: 0.060 Acc: 99.07%\n",
      "Val.Loss: 1.118 Acc: 90.20% Macro F1 0.746 (P 0.547 - N 0.945)\n"
     ]
    }
   ],
   "source": [
    "from offenseval.nn import train_cycle\n",
    "\n",
    "\n",
    "train_cycle(\n",
    "    model, optimizer, criterion, scheduler, \n",
    "    train_da_it, dev_da_it, epochs, get_target=get_target, monitor=\"f1\",\n",
    "    model_path=output_path, early_stopping_tolerance=5, ncols=700\n",
    ")"
   ]
  },
  {
   "cell_type": "code",
   "execution_count": 12,
   "metadata": {},
   "outputs": [
    {
     "name": "stdout",
     "output_type": "stream",
     "text": [
      "Val Loss: 0.719 Acc: 90.88% Macro F1 0.763 (P 0.578 - N 0.949)\n"
     ]
    }
   ],
   "source": [
    "model.load_state_dict(torch.load(output_path))\n",
    "\n",
    "report = evaluate(\n",
    "    model, \n",
    "    dev_da_it, \n",
    "    criterion, \n",
    "    get_target=lambda batch: batch.subtask_a)\n",
    "\n",
    "print(f'Val {report}')\n"
   ]
  },
  {
   "cell_type": "code",
   "execution_count": null,
   "metadata": {},
   "outputs": [],
   "source": []
  }
 ],
 "metadata": {
  "kernelspec": {
   "display_name": "Python 3",
   "language": "python",
   "name": "python3"
  },
  "language_info": {
   "codemirror_mode": {
    "name": "ipython",
    "version": 3
   },
   "file_extension": ".py",
   "mimetype": "text/x-python",
   "name": "python",
   "nbconvert_exporter": "python",
   "pygments_lexer": "ipython3",
   "version": "3.6.9"
  }
 },
 "nbformat": 4,
 "nbformat_minor": 4
}
