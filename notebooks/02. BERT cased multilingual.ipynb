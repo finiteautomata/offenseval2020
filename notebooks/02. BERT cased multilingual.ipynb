{
 "cells": [
  {
   "cell_type": "markdown",
   "metadata": {},
   "source": [
    "## BERT Cased trained on distant Multilingual Test\n",
    "\n",
    "Let's load a BERT model in English and test it against the other languages\n",
    "\n",
    "\n",
    "| Language    | Accuracy   | Macro F1   | Pos F1    |\n",
    "|-------------|------------|------------|-----------|                     \n",
    "|  English    |  0.823     |   0.783    |    0.690  |\n",
    "|  Danish     |  0.877     |   0.682    |    0.434  |\n",
    "|  Turkish    |  0.800     |   0.506    |    0.125  |\n",
    "|  Arabic     |  0.822     |   0.482    |    0.063  |\n",
    "|  Greek      |  0.719     |   0.475    |    0.118  |\n"
   ]
  },
  {
   "cell_type": "code",
   "execution_count": 1,
   "metadata": {},
   "outputs": [],
   "source": [
    "%load_ext autoreload\n",
    "%autoreload 2\n",
    "import os\n",
    "from datetime import datetime\n",
    "import fire\n",
    "import torch\n",
    "from torchtext import data\n",
    "import torch.nn as nn\n",
    "from transformers import (\n",
    "    AdamW, BertForSequenceClassification, BertTokenizer,\n",
    "    get_constant_schedule_with_warmup\n",
    ")\n",
    "\n",
    "from offenseval.nn import (\n",
    "    Tokenizer,\n",
    "    train, evaluate, train_cycle, save_model, load_model\n",
    ")\n",
    "\n",
    "device = torch.device('cuda' if torch.cuda.is_available() else 'cpu')\n",
    "\n",
    "model, TEXT = load_model(\"../models/bert_cased.en_sample.pt\", device)"
   ]
  },
  {
   "cell_type": "code",
   "execution_count": 2,
   "metadata": {},
   "outputs": [
    {
     "name": "stdout",
     "output_type": "stream",
     "text": [
      "English\n",
      "Loading dataset...\n",
      "Building iterators\n",
      "Test Loss: 0.679  Acc: 82.33% Macro F1: 0.783 Pos F1 0.690 Neg F1 0.876\n",
      "Danish\n",
      "Loading dataset...\n",
      "Building iterators\n",
      "Test Loss: 0.557  Acc: 87.67% Macro F1: 0.682 Pos F1 0.434 Neg F1 0.931\n",
      "Turkish\n",
      "Loading dataset...\n",
      "Building iterators\n",
      "Test Loss: 0.739  Acc: 80.04% Macro F1: 0.506 Pos F1 0.125 Neg F1 0.887\n",
      "Arabic\n",
      "Loading dataset...\n",
      "Building iterators\n",
      "Test Loss: 0.668  Acc: 82.20% Macro F1: 0.482 Pos F1 0.063 Neg F1 0.902\n",
      "Greek\n",
      "Loading dataset...\n",
      "Building iterators\n",
      "Test Loss: 0.858  Acc: 71.87% Macro F1: 0.475 Pos F1 0.118 Neg F1 0.833\n"
     ]
    },
    {
     "data": {
      "text/html": [
       "<div>\n",
       "<style scoped>\n",
       "    .dataframe tbody tr th:only-of-type {\n",
       "        vertical-align: middle;\n",
       "    }\n",
       "\n",
       "    .dataframe tbody tr th {\n",
       "        vertical-align: top;\n",
       "    }\n",
       "\n",
       "    .dataframe thead th {\n",
       "        text-align: right;\n",
       "    }\n",
       "</style>\n",
       "<table border=\"1\" class=\"dataframe\">\n",
       "  <thead>\n",
       "    <tr style=\"text-align: right;\">\n",
       "      <th></th>\n",
       "      <th>Accuracy</th>\n",
       "      <th>Macro-F1</th>\n",
       "      <th>Pos-F1</th>\n",
       "    </tr>\n",
       "    <tr>\n",
       "      <th>lang</th>\n",
       "      <th></th>\n",
       "      <th></th>\n",
       "      <th></th>\n",
       "    </tr>\n",
       "  </thead>\n",
       "  <tbody>\n",
       "    <tr>\n",
       "      <th>English</th>\n",
       "      <td>0.823</td>\n",
       "      <td>0.783</td>\n",
       "      <td>0.690</td>\n",
       "    </tr>\n",
       "    <tr>\n",
       "      <th>Danish</th>\n",
       "      <td>0.877</td>\n",
       "      <td>0.682</td>\n",
       "      <td>0.434</td>\n",
       "    </tr>\n",
       "    <tr>\n",
       "      <th>Turkish</th>\n",
       "      <td>0.800</td>\n",
       "      <td>0.506</td>\n",
       "      <td>0.125</td>\n",
       "    </tr>\n",
       "    <tr>\n",
       "      <th>Arabic</th>\n",
       "      <td>0.822</td>\n",
       "      <td>0.482</td>\n",
       "      <td>0.063</td>\n",
       "    </tr>\n",
       "    <tr>\n",
       "      <th>Greek</th>\n",
       "      <td>0.719</td>\n",
       "      <td>0.475</td>\n",
       "      <td>0.118</td>\n",
       "    </tr>\n",
       "  </tbody>\n",
       "</table>\n",
       "</div>"
      ],
      "text/plain": [
       "         Accuracy  Macro-F1  Pos-F1\n",
       "lang                               \n",
       "English     0.823     0.783   0.690\n",
       "Danish      0.877     0.682   0.434\n",
       "Turkish     0.800     0.506   0.125\n",
       "Arabic      0.822     0.482   0.063\n",
       "Greek       0.719     0.475   0.118"
      ]
     },
     "execution_count": 2,
     "metadata": {},
     "output_type": "execute_result"
    }
   ],
   "source": [
    "import pandas as pd\n",
    "from offenseval.nn import evaluate_dataset\n",
    "\n",
    "datasets = {\n",
    "    \"English\": \"../data/olid/test_a.tsv\",\n",
    "    \"Danish\": \"../data/Danish/dev.tsv\",\n",
    "    \"Turkish\": \"../data/Turkish/dev.tsv\",\n",
    "    \"Arabic\": \"../data/Arabic/offenseval-ar-dev-v1.tsv\",\n",
    "    \"Greek\": \"../data/Greek/dev.tsv\",\n",
    "}\n",
    "\n",
    "df_results = []\n",
    "\n",
    "for lang, path in datasets.items():\n",
    "    print(lang)\n",
    "    loss, acc, f1, pos_f1, neg_f1 = evaluate_dataset(\n",
    "        model, TEXT, path\n",
    "    )\n",
    "    print(f'Test Loss: {loss:.3f}  Acc: {acc*100:.2f}% Macro F1: {f1:.3f} Pos F1 {pos_f1:.3f} Neg F1 {neg_f1:.3f}')\n",
    "    df_results.append({\n",
    "        \"lang\": lang, \"Accuracy\": acc, \"Macro-F1\": f1, \"Pos-F1\": pos_f1})\n",
    "\n",
    "pd.options.display.float_format = '{:,.3f}'.format\n",
    "\n",
    "df_results = pd.DataFrame(df_results)\n",
    "df_results.set_index(\"lang\", inplace=True)\n",
    "\n",
    "df_results"
   ]
  },
  {
   "cell_type": "code",
   "execution_count": 3,
   "metadata": {},
   "outputs": [
    {
     "name": "stdout",
     "output_type": "stream",
     "text": [
      "         Accuracy  Macro-F1  Pos-F1\n",
      "lang                               \n",
      "English     0.823     0.783   0.690\n",
      "Danish      0.877     0.682   0.434\n",
      "Turkish     0.800     0.506   0.125\n",
      "Arabic      0.822     0.482   0.063\n",
      "Greek       0.719     0.475   0.118\n"
     ]
    }
   ],
   "source": [
    "print(df_results.to_string())"
   ]
  },
  {
   "cell_type": "code",
   "execution_count": null,
   "metadata": {},
   "outputs": [],
   "source": []
  }
 ],
 "metadata": {
  "kernelspec": {
   "display_name": "Python 3",
   "language": "python",
   "name": "python3"
  },
  "language_info": {
   "codemirror_mode": {
    "name": "ipython",
    "version": 3
   },
   "file_extension": ".py",
   "mimetype": "text/x-python",
   "name": "python",
   "nbconvert_exporter": "python",
   "pygments_lexer": "ipython3",
   "version": "3.6.9"
  }
 },
 "nbformat": 4,
 "nbformat_minor": 4
}
