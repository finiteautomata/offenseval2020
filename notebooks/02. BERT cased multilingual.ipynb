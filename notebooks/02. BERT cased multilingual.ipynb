{
 "cells": [
  {
   "cell_type": "markdown",
   "metadata": {},
   "source": [
    "## Cased Multilingual Test\n",
    "\n",
    "Let's load a BERT model in English and test it against the other languages"
   ]
  },
  {
   "cell_type": "code",
   "execution_count": 3,
   "metadata": {},
   "outputs": [
    {
     "name": "stdout",
     "output_type": "stream",
     "text": [
      "The autoreload extension is already loaded. To reload it, use:\n",
      "  %reload_ext autoreload\n"
     ]
    }
   ],
   "source": [
    "%load_ext autoreload\n",
    "%autoreload 2\n",
    "import os\n",
    "from datetime import datetime\n",
    "import fire\n",
    "import torch\n",
    "from torchtext import data\n",
    "import torch.nn as nn\n",
    "from transformers import (\n",
    "    AdamW, BertForSequenceClassification, BertTokenizer,\n",
    "    get_constant_schedule_with_warmup\n",
    ")\n",
    "\n",
    "from offenseval.nn import (\n",
    "    Tokenizer,\n",
    "    train, evaluate, train_cycle, save_model, load_model\n",
    ")\n",
    "\n",
    "device = torch.device('cuda' if torch.cuda.is_available() else 'cpu')\n",
    "\n",
    "model, TEXT = load_model(\"../models/bert.cased.sample.mean06.ft.pt\", device)"
   ]
  },
  {
   "cell_type": "code",
   "execution_count": 4,
   "metadata": {},
   "outputs": [
    {
     "name": "stdout",
     "output_type": "stream",
     "text": [
      "Loading dataset...\n",
      "Building iterators\n",
      "Test Loss: 0.780  Acc: 83.95% Macro F1: 0.767 Pos F1 0.637 Neg F1 0.897\n"
     ]
    }
   ],
   "source": [
    "from offenseval.nn import evaluate_dataset\n",
    "\n",
    "loss, acc, f1, pos_f1, neg_f1 = evaluate_dataset(\n",
    "    model, TEXT, \"../data/olid/test_a.tsv\"\n",
    ")\n",
    "\n",
    "print(f'Test Loss: {loss:.3f}  Acc: {acc*100:.2f}% Macro F1: {f1:.3f} Pos F1 {pos_f1:.3f} Neg F1 {neg_f1:.3f}')"
   ]
  },
  {
   "cell_type": "markdown",
   "metadata": {},
   "source": [
    "## Danish"
   ]
  },
  {
   "cell_type": "code",
   "execution_count": 5,
   "metadata": {},
   "outputs": [
    {
     "name": "stdout",
     "output_type": "stream",
     "text": [
      "Loading dataset...\n",
      "Building iterators\n",
      "Test Loss: 0.538  Acc: 88.68% Macro F1: 0.637 Pos F1 0.337 Neg F1 0.938\n"
     ]
    }
   ],
   "source": [
    "loss, acc, f1, pos_f1, neg_f1 = evaluate_dataset(\n",
    "    model, TEXT, \"../data/Danish/dev.tsv\"\n",
    ")\n",
    "\n",
    "print(f'Test Loss: {loss:.3f}  Acc: {acc*100:.2f}% Macro F1: {f1:.3f} Pos F1 {pos_f1:.3f} Neg F1 {neg_f1:.3f}')"
   ]
  },
  {
   "cell_type": "markdown",
   "metadata": {},
   "source": [
    "## Turkish"
   ]
  },
  {
   "cell_type": "code",
   "execution_count": 6,
   "metadata": {},
   "outputs": [
    {
     "name": "stdout",
     "output_type": "stream",
     "text": [
      "Loading dataset...\n",
      "Building iterators\n",
      "Test Loss: 0.762  Acc: 80.47% Macro F1: 0.485 Pos F1 0.078 Neg F1 0.891\n"
     ]
    }
   ],
   "source": [
    "loss, acc, f1, pos_f1, neg_f1 = evaluate_dataset(\n",
    "    model, TEXT, \"../data/Turkish/dev.tsv\"\n",
    ")\n",
    "\n",
    "print(f'Test Loss: {loss:.3f}  Acc: {acc*100:.2f}% Macro F1: {f1:.3f} Pos F1 {pos_f1:.3f} Neg F1 {neg_f1:.3f}')"
   ]
  },
  {
   "cell_type": "markdown",
   "metadata": {},
   "source": [
    "## Arabic"
   ]
  },
  {
   "cell_type": "code",
   "execution_count": 7,
   "metadata": {},
   "outputs": [
    {
     "name": "stdout",
     "output_type": "stream",
     "text": [
      "Loading dataset...\n",
      "Building iterators\n",
      "Test Loss: 0.691  Acc: 82.00% Macro F1: 0.456 Pos F1 0.011 Neg F1 0.901\n"
     ]
    }
   ],
   "source": [
    "loss, acc, f1, pos_f1, neg_f1 = evaluate_dataset(\n",
    "    model, TEXT, \"../data/Arabic/offenseval-ar-dev-v1.tsv\"\n",
    ")\n",
    "\n",
    "print(f'Test Loss: {loss:.3f}  Acc: {acc*100:.2f}% Macro F1: {f1:.3f} Pos F1 {pos_f1:.3f} Neg F1 {neg_f1:.3f}')"
   ]
  },
  {
   "cell_type": "markdown",
   "metadata": {},
   "source": [
    "## Greek"
   ]
  },
  {
   "cell_type": "code",
   "execution_count": 8,
   "metadata": {},
   "outputs": [
    {
     "name": "stdout",
     "output_type": "stream",
     "text": [
      "Loading dataset...\n",
      "Building iterators\n",
      "Test Loss: 1.053  Acc: 71.36% Macro F1: 0.444 Pos F1 0.056 Neg F1 0.831\n"
     ]
    }
   ],
   "source": [
    "loss, acc, f1, pos_f1, neg_f1 = evaluate_dataset(\n",
    "    model, TEXT, \"../data/Greek/dev.tsv\"\n",
    ")\n",
    "\n",
    "print(f'Test Loss: {loss:.3f}  Acc: {acc*100:.2f}% Macro F1: {f1:.3f} Pos F1 {pos_f1:.3f} Neg F1 {neg_f1:.3f}')"
   ]
  }
 ],
 "metadata": {
  "kernelspec": {
   "display_name": "Python 3",
   "language": "python",
   "name": "python3"
  },
  "language_info": {
   "codemirror_mode": {
    "name": "ipython",
    "version": 3
   },
   "file_extension": ".py",
   "mimetype": "text/x-python",
   "name": "python",
   "nbconvert_exporter": "python",
   "pygments_lexer": "ipython3",
   "version": "3.6.9"
  }
 },
 "nbformat": 4,
 "nbformat_minor": 4
}
