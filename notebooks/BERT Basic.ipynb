{
 "cells": [
  {
   "cell_type": "markdown",
   "metadata": {},
   "source": [
    "## Classification with Multilingual BERT + Fine tuning\n",
    "\n",
    "Let's first train a model in English"
   ]
  },
  {
   "cell_type": "code",
   "execution_count": 1,
   "metadata": {},
   "outputs": [],
   "source": [
    "%load_ext autoreload\n",
    "%autoreload 2\n",
    "\n",
    "import torch\n",
    "from transformers import BertTokenizer\n",
    "import pandas as pd\n",
    "from offenseval import Tokenizer\n",
    "\n",
    "bert_tokenizer = BertTokenizer.from_pretrained('bert-base-multilingual-uncased')\n",
    "\n",
    "init_token = bert_tokenizer.cls_token\n",
    "eos_token = bert_tokenizer.sep_token\n",
    "pad_token = bert_tokenizer.pad_token\n",
    "unk_token = bert_tokenizer.unk_token\n",
    "\n",
    "init_token_idx = bert_tokenizer.cls_token_id\n",
    "eos_token_idx = bert_tokenizer.sep_token_id\n",
    "pad_token_idx = bert_tokenizer.pad_token_id\n",
    "unk_token_idx = bert_tokenizer.unk_token_id\n",
    "\n",
    "# Trying to cut this down to check if this improves memory usage\n",
    "\n",
    "tokenizer = Tokenizer(bert_tokenizer)\n",
    "\n"
   ]
  },
  {
   "cell_type": "code",
   "execution_count": 2,
   "metadata": {},
   "outputs": [],
   "source": [
    "from torchtext import data\n",
    "\n",
    "TEXT = data.Field(\n",
    "    tokenize=tokenizer.tokenize,\n",
    "    include_lengths = True,\n",
    "    use_vocab=False,\n",
    "    batch_first = True,\n",
    "    preprocessing = tokenizer.convert_tokens_to_ids,\n",
    "    init_token = init_token_idx,\n",
    "    eos_token = eos_token_idx,\n",
    "    pad_token = pad_token_idx,\n",
    "    unk_token = unk_token_idx\n",
    ")\n"
   ]
  },
  {
   "cell_type": "code",
   "execution_count": 3,
   "metadata": {},
   "outputs": [
    {
     "name": "stdout",
     "output_type": "stream",
     "text": [
      "Train instances: 90754\n",
      "Dev   instances: 13240\n",
      "Test instances:  860\n"
     ]
    }
   ],
   "source": [
    "ID = data.Field(sequential=False, use_vocab=False)\n",
    "# All these arguments are because these are really floats\n",
    "# See https://github.com/pytorch/text/issues/78#issuecomment-541203609\n",
    "AVG = data.LabelField(dtype = torch.float, use_vocab=False, preprocessing=float)\n",
    "STD = data.LabelField(dtype = torch.float, use_vocab=False, preprocessing=float)\n",
    "SUBTASK_A = data.LabelField()\n",
    "\n",
    "train_dataset = data.TabularDataset(\n",
    "    \"../data/English/task_a_distant.sample.tsv\",\n",
    "    format=\"tsv\", skip_header=True,\n",
    "    fields=[(\"id\", ID), (\"text\", TEXT), (\"avg\", AVG), (\"std\", STD)],\n",
    ")\n",
    "\n",
    "dev_dataset = data.TabularDataset(\n",
    "    \"../data/olid/olid-training-v1.0.tsv\",\n",
    "    format=\"tsv\", skip_header=True,\n",
    "    fields=[(\"id\", ID), (\"text\", TEXT), \n",
    "            (\"subtask_a\", SUBTASK_A), (\"subtask_b\", None), (\"subtask_c\", None)],\n",
    "    \n",
    ")\n",
    "\n",
    "test_dataset = data.TabularDataset(\n",
    "    \"../data/olid/test_a.tsv\",\n",
    "    format=\"tsv\", skip_header=True,\n",
    "    fields=[(\"id\", ID), (\"text\", TEXT), \n",
    "            (\"subtask_a\", SUBTASK_A)],\n",
    ")\n",
    "\n",
    "print(f\"Train instances: {len(train_dataset)}\")\n",
    "print(f\"Dev   instances: {len(dev_dataset)}\")\n",
    "print(f\"Test instances:  {len(test_dataset)}\")"
   ]
  },
  {
   "cell_type": "markdown",
   "metadata": {},
   "source": [
    "Build vocabulary for label field. Can we just say 0 -> NOT (Offensive) 1 -> OFF? \n",
    "\n",
    "I don't know, just to make sure add the assertion"
   ]
  },
  {
   "cell_type": "code",
   "execution_count": 4,
   "metadata": {},
   "outputs": [],
   "source": [
    "SUBTASK_A.build_vocab(dev_dataset)\n",
    "\n",
    "assert SUBTASK_A.vocab.itos == [\"NOT\", \"OFF\"]"
   ]
  },
  {
   "cell_type": "markdown",
   "metadata": {},
   "source": [
    "## Model\n",
    "\n",
    "\n",
    "We use %load directive to show the model here..."
   ]
  },
  {
   "cell_type": "code",
   "execution_count": 5,
   "metadata": {},
   "outputs": [],
   "source": [
    "BATCH_SIZE = 32\n",
    "\n",
    "\n",
    "device = \"cuda\" if torch.cuda.is_available() else \"cpu\"\n",
    "\n",
    "train_it, dev_it, test_it = data.BucketIterator.splits(\n",
    "    (train_dataset, dev_dataset, test_dataset), batch_size=BATCH_SIZE, device=device,\n",
    "    sort_key = lambda x: len(x.text), sort_within_batch = True,\n",
    ")"
   ]
  },
  {
   "cell_type": "markdown",
   "metadata": {},
   "source": [
    "## Train"
   ]
  },
  {
   "cell_type": "code",
   "execution_count": 6,
   "metadata": {},
   "outputs": [],
   "source": [
    "import torch\n",
    "from sklearn.metrics import accuracy_score, f1_score\n",
    "\n",
    "\n",
    "def train(model, iterator, optimizer, criterion, scheduler, max_grad_norm=None):\n",
    "    \"\"\"\n",
    "    Trains the model for one full epoch\n",
    "    \"\"\"\n",
    "    epoch_loss = 0\n",
    "    epoch_acc = 0\n",
    "\n",
    "    model.train()\n",
    "    \n",
    "    is_tqdm = type(pbar).__module__.split(\".\")[0] == \"tqdm\"\n",
    "\n",
    "    for i, batch in enumerate(iterator):\n",
    "        optimizer.zero_grad()\n",
    "        text, lens = batch.text\n",
    "        target = 1. * (batch.avg > 0.6) \n",
    "        \n",
    "        predictions = model(text)[0]\n",
    "        loss = criterion(predictions.squeeze(1), target)\n",
    "        \n",
    "        prob_predictions = torch.sigmoid(predictions)\n",
    "        preds = torch.round(prob_predictions).detach().cpu()\n",
    "        acc = accuracy_score(preds, target.cpu())\n",
    "\n",
    "        loss.backward()\n",
    "        # Gradient clipping\n",
    "        if max_grad_norm:\n",
    "            torch.nn.utils.clip_grad_norm_(model.parameters(), max_grad_norm)\n",
    "            \n",
    "        optimizer.step()\n",
    "        scheduler.step()\n",
    "        \n",
    "        epoch_loss += loss.item()\n",
    "        epoch_acc += acc.item()\n",
    "        lr = optimizer.param_groups[0][\"lr\"]\n",
    "        if is_tqdm:\n",
    "            desc = f\"Loss {epoch_loss / (i+1):.3f} -- Acc {epoch_acc / (i+1):.3f} -- LR {lr:.5f}\"\n",
    "            iterator.set_description(desc)\n",
    "\n",
    "    return epoch_loss / len(iterator), epoch_acc / len(iterator)\n",
    "\n",
    "\n",
    "def evaluate(model, iterator, criterion):\n",
    "    \"\"\"\n",
    "    Evaluates the model on the given iterator\n",
    "    \"\"\"\n",
    "    epoch_loss = 0\n",
    "    model.eval()\n",
    "    with torch.no_grad():\n",
    "        predicted_probas = []\n",
    "        labels = []\n",
    "        for batch in iterator:\n",
    "            text, lens = batch.text\n",
    "            target = batch.subtask_a\n",
    "            \n",
    "            predictions = model(text)[0]\n",
    "            loss = criterion(predictions.squeeze(1), target.float())\n",
    "            \n",
    "            prob_predictions = torch.sigmoid(predictions)\n",
    "\n",
    "            predicted_probas.append(prob_predictions)\n",
    "            labels.append(target.cpu())\n",
    "\n",
    "            epoch_loss += loss.item()\n",
    "\n",
    "        predicted_probas = torch.cat(predicted_probas).cpu()\n",
    "        labels = torch.cat(labels).cpu()\n",
    "\n",
    "        preds = torch.round(predicted_probas)\n",
    "\n",
    "        pos_f1 = f1_score(labels, preds)\n",
    "        neg_f1 = f1_score(1-labels, 1-preds)\n",
    "        avg_f1 = (pos_f1 + neg_f1) / 2\n",
    "        acc = accuracy_score(labels, preds)\n",
    "\n",
    "    return epoch_loss / len(iterator), acc, avg_f1, pos_f1, neg_f1\n"
   ]
  },
  {
   "cell_type": "markdown",
   "metadata": {},
   "source": [
    "Compute the class weights "
   ]
  },
  {
   "cell_type": "code",
   "execution_count": 7,
   "metadata": {},
   "outputs": [
    {
     "data": {
      "text/plain": [
       "array([1.        , 2.00909091])"
      ]
     },
     "execution_count": 7,
     "metadata": {},
     "output_type": "execute_result"
    }
   ],
   "source": [
    "from sklearn.utils import compute_class_weight, compute_sample_weight\n",
    "y = []\n",
    "for elem in dev_dataset:\n",
    "    y.append(1*(elem.subtask_a == 'OFF'))\n",
    "    \n",
    "class_weights = compute_class_weight('balanced', [0, 1], y)\n",
    "\n",
    "# normalize it\n",
    "class_weights = class_weights / class_weights[0]\n",
    "\n",
    "class_weights"
   ]
  },
  {
   "cell_type": "code",
   "execution_count": 8,
   "metadata": {},
   "outputs": [],
   "source": [
    "import torch.optim as optim\n",
    "import torch.nn as nn\n",
    "from transformers import AdamW, BertForSequenceClassification\n",
    "\n",
    "\n",
    "model = BertForSequenceClassification.from_pretrained(\n",
    "    'bert-base-multilingual-uncased',\n",
    "    num_labels=1,\n",
    ")\n",
    "\n",
    "optimizer = AdamW(model.parameters(), lr=1e-5)\n",
    "criterion = nn.BCEWithLogitsLoss(pos_weight=torch.Tensor([class_weights[1]]))\n",
    "\n",
    "\n",
    "model = model.to(device)\n",
    "criterion = criterion.to(device)\n"
   ]
  },
  {
   "cell_type": "code",
   "execution_count": 9,
   "metadata": {},
   "outputs": [
    {
     "data": {
      "application/vnd.jupyter.widget-view+json": {
       "model_id": "2e6f1e5b34cd455dabbd97053a612dab",
       "version_major": 2,
       "version_minor": 0
      },
      "text/plain": [
       "HBox(children=(FloatProgress(value=0.0, layout=Layout(flex='2'), max=5.0), HTML(value='')), layout=Layout(disp…"
      ]
     },
     "metadata": {},
     "output_type": "display_data"
    },
    {
     "data": {
      "application/vnd.jupyter.widget-view+json": {
       "model_id": "9d85a69db8f24636986e7359b1175ae8",
       "version_major": 2,
       "version_minor": 0
      },
      "text/plain": [
       "HBox(children=(FloatProgress(value=0.0, layout=Layout(flex='2'), max=2837.0), HTML(value='')), layout=Layout(d…"
      ]
     },
     "metadata": {},
     "output_type": "display_data"
    },
    {
     "name": "stdout",
     "output_type": "stream",
     "text": [
      "\n",
      "Train: Loss: 0.244 Acc: 93.04%\n",
      "Val. Loss: 1.259 Acc: 80.54% Macro F1 0.766 (P 0.670 - N 0.862)\n",
      "Best model so far (Loss 1.259 - Acc 0.805, F1 0.766) saved at /tmp/bert_model.pt\n"
     ]
    },
    {
     "data": {
      "application/vnd.jupyter.widget-view+json": {
       "model_id": "87c11a15dd644ad4bb5d7e2f3b22dad0",
       "version_major": 2,
       "version_minor": 0
      },
      "text/plain": [
       "HBox(children=(FloatProgress(value=0.0, layout=Layout(flex='2'), max=2837.0), HTML(value='')), layout=Layout(d…"
      ]
     },
     "metadata": {},
     "output_type": "display_data"
    },
    {
     "name": "stdout",
     "output_type": "stream",
     "text": [
      "\n",
      "Train: Loss: 0.108 Acc: 97.66%\n",
      "Val. Loss: 1.767 Acc: 80.53% Macro F1 0.760 (P 0.656 - N 0.864)\n"
     ]
    },
    {
     "data": {
      "application/vnd.jupyter.widget-view+json": {
       "model_id": "49bc6202efe14f2abbdfba09b20986d4",
       "version_major": 2,
       "version_minor": 0
      },
      "text/plain": [
       "HBox(children=(FloatProgress(value=0.0, layout=Layout(flex='2'), max=2837.0), HTML(value='')), layout=Layout(d…"
      ]
     },
     "metadata": {},
     "output_type": "display_data"
    },
    {
     "name": "stdout",
     "output_type": "stream",
     "text": [
      "\n",
      "Train: Loss: 0.080 Acc: 98.42%\n",
      "Val. Loss: 2.264 Acc: 80.56% Macro F1 0.755 (P 0.643 - N 0.866)\n"
     ]
    },
    {
     "data": {
      "application/vnd.jupyter.widget-view+json": {
       "model_id": "167d31b6d64e40e98873a36bad418eec",
       "version_major": 2,
       "version_minor": 0
      },
      "text/plain": [
       "HBox(children=(FloatProgress(value=0.0, layout=Layout(flex='2'), max=2837.0), HTML(value='')), layout=Layout(d…"
      ]
     },
     "metadata": {},
     "output_type": "display_data"
    },
    {
     "name": "stdout",
     "output_type": "stream",
     "text": [
      "\n",
      "Train: Loss: 0.059 Acc: 98.93%\n",
      "Val. Loss: 2.500 Acc: 80.34% Macro F1 0.749 (P 0.633 - N 0.866)\n"
     ]
    },
    {
     "data": {
      "application/vnd.jupyter.widget-view+json": {
       "model_id": "4ef81fbac0ea405d8e3166667d4f1128",
       "version_major": 2,
       "version_minor": 0
      },
      "text/plain": [
       "HBox(children=(FloatProgress(value=0.0, layout=Layout(flex='2'), max=2837.0), HTML(value='')), layout=Layout(d…"
      ]
     },
     "metadata": {},
     "output_type": "display_data"
    },
    {
     "name": "stdout",
     "output_type": "stream",
     "text": [
      "\n",
      "Train: Loss: 0.043 Acc: 99.24%\n",
      "Val. Loss: 2.849 Acc: 79.62% Macro F1 0.733 (P 0.604 - N 0.863)\n",
      "\n"
     ]
    }
   ],
   "source": [
    "from tqdm.notebook import tqdm\n",
    "from transformers.optimization import get_constant_schedule_with_warmup\n",
    "import time\n",
    "\n",
    "N_EPOCHS = 5\n",
    "\n",
    "# Copied from tranBertForSequenceClassifications page...please check\n",
    "num_training_steps = N_EPOCHS * len(train_it)\n",
    "num_warmup_steps = num_training_steps // 10\n",
    "warmup_proportion = float(num_warmup_steps) / float(num_training_steps)  # 0.1\n",
    "\n",
    "scheduler = get_constant_schedule_with_warmup(\n",
    "    optimizer, num_warmup_steps=num_warmup_steps, \n",
    ") \n",
    "\n",
    "\n",
    "best_valid_loss = float('inf')\n",
    "\n",
    "early_stopping_tolerance = 100\n",
    "epochs_without_improvement = 0\n",
    "max_grad_norm = 1.0\n",
    "\n",
    "model_path = f\"/tmp/bert_model.pt\"\n",
    "\n",
    "pbar = tqdm(range(N_EPOCHS), ncols=1000)\n",
    "for epoch in pbar:\n",
    "\n",
    "    epoch_bar = tqdm(train_it, ncols=800)\n",
    "\n",
    "    train_loss, train_acc = train(\n",
    "        model, epoch_bar, optimizer, criterion,\n",
    "        max_grad_norm=max_grad_norm, scheduler=scheduler\n",
    "    )\n",
    "    valid_loss, valid_acc, valid_f1, pos_f1, neg_f1 = evaluate(model, dev_it, criterion)\n",
    "    \n",
    "    desc = f'Train: Loss: {train_loss:.3f} Acc: {train_acc*100:.2f}%'\n",
    "    desc += f'\\nVal. Loss: {valid_loss:.3f} Acc: {valid_acc*100:.2f}% Macro F1 {valid_f1:.3f} (P {pos_f1:.3f} - N {neg_f1:.3f})'\n",
    "    pbar.set_description(desc)\n",
    "    print(desc)\n",
    "    if valid_loss < best_valid_loss:\n",
    "        best_valid_loss = valid_loss\n",
    "        epochs_without_improvement = 0\n",
    "        torch.save(model.state_dict(), model_path)\n",
    "        print(f\"Best model so far (Loss {best_valid_loss:.3f} - Acc {valid_acc:.3f}, F1 {valid_f1:.3f}) saved at {model_path}\")\n",
    "    else:\n",
    "        epochs_without_improvement += 1\n",
    "        if epochs_without_improvement >= early_stopping_tolerance:\n",
    "            print(\"Early stopping\")\n",
    "            break"
   ]
  },
  {
   "cell_type": "code",
   "execution_count": 10,
   "metadata": {},
   "outputs": [
    {
     "name": "stdout",
     "output_type": "stream",
     "text": [
      "Val Loss: 1.259  Acc: 80.54% Macro F1: 0.766 Pos F1 0.670 Neg F1 0.862\n"
     ]
    }
   ],
   "source": [
    "model.load_state_dict(torch.load(model_path))\n",
    "\n",
    "loss, acc, f1, pos_f1, neg_f1 = evaluate(model, dev_it, criterion)\n",
    "\n",
    "print(f'Val Loss: {loss:.3f}  Acc: {acc*100:.2f}% Macro F1: {f1:.3f} Pos F1 {pos_f1:.3f} Neg F1 {neg_f1:.3f}')"
   ]
  },
  {
   "cell_type": "code",
   "execution_count": 11,
   "metadata": {},
   "outputs": [
    {
     "name": "stdout",
     "output_type": "stream",
     "text": [
      "Test Loss: 1.094  Acc: 84.30% Macro F1: 0.786 Pos F1 0.675 Neg F1 0.897\n"
     ]
    }
   ],
   "source": [
    "model.load_state_dict(torch.load(model_path))\n",
    "\n",
    "loss, acc, f1, pos_f1, neg_f1 = evaluate(model, test_it, criterion)\n",
    "\n",
    "print(f'Test Loss: {loss:.3f}  Acc: {acc*100:.2f}% Macro F1: {f1:.3f} Pos F1 {pos_f1:.3f} Neg F1 {neg_f1:.3f}')"
   ]
  },
  {
   "cell_type": "code",
   "execution_count": 16,
   "metadata": {},
   "outputs": [
    {
     "name": "stdout",
     "output_type": "stream",
     "text": [
      "Model saved to ../models/bert-seq.mean06.pt\n",
      "Vocab saved to ../models/bert-seq.mean06.vocab.pkl\n"
     ]
    }
   ],
   "source": [
    "import os\n",
    "import pickle\n",
    "\n",
    "def save_model(model, TEXT, output_path):\n",
    "    base, _ = os.path.splitext(output_path)\n",
    "    vocab_path = f\"{base}.vocab.pkl\"\n",
    "    num_score_path = f\"{base}.num_score.pkl\"\n",
    "\n",
    "    torch.save(model, output_path)\n",
    "\n",
    "    with open(vocab_path, \"wb\") as f:\n",
    "        pickle.dump(TEXT, f)\n",
    "\n",
    "    print(f\"Model saved to {output_path}\")\n",
    "    print(f\"Vocab saved to {vocab_path}\")\n",
    "\n",
    "save_model(model, TEXT, \"../models/bert-seq.mean06.pt\")\n"
   ]
  },
  {
   "cell_type": "markdown",
   "metadata": {},
   "source": [
    "## Error Analysis\n",
    "\n",
    "I reload the dataframe because it is not possible to retrieve the original text from the examples :-\\ (they are already tokenized)"
   ]
  },
  {
   "cell_type": "code",
   "execution_count": 17,
   "metadata": {},
   "outputs": [
    {
     "data": {
      "text/plain": [
       "Index(['text', 'subtask_a'], dtype='object')"
      ]
     },
     "execution_count": 17,
     "metadata": {},
     "output_type": "execute_result"
    }
   ],
   "source": [
    "df_test = pd.read_table(\"../data/olid/test_a.tsv\", index_col=0)\n",
    "\n",
    "df_test.columns"
   ]
  },
  {
   "cell_type": "code",
   "execution_count": 18,
   "metadata": {},
   "outputs": [],
   "source": [
    "torch.cuda.empty_cache()"
   ]
  },
  {
   "cell_type": "code",
   "execution_count": 48,
   "metadata": {},
   "outputs": [
    {
     "data": {
      "application/vnd.jupyter.widget-view+json": {
       "model_id": "b92cfa8b78e64667a755fe80a49b06bd",
       "version_major": 2,
       "version_minor": 0
      },
      "text/plain": [
       "HBox(children=(FloatProgress(value=0.0, max=27.0), HTML(value='')))"
      ]
     },
     "metadata": {},
     "output_type": "display_data"
    },
    {
     "name": "stdout",
     "output_type": "stream",
     "text": [
      "\n"
     ]
    }
   ],
   "source": [
    "model.eval()\n",
    "\n",
    "rows = []\n",
    "for batch in tqdm(test_it):\n",
    "    text, lens = batch.text\n",
    "    \n",
    "    outs = model(text)[0].detach().cpu()\n",
    "    ids = batch.id\n",
    "    labels = batch.subtask_a\n",
    "    probs = torch.sigmoid(outs)\n",
    "    # Change the threshold to improve recall\n",
    "    preds = probs > 0.5\n",
    "    \n",
    "    for tid, label, pred, prob in zip(ids.cpu(), labels.cpu(), preds.cpu(), probs.cpu()):\n",
    "        rows.append({\n",
    "            \"id\": tid.item(),\n",
    "            \"text\": df_test.loc[tid.item(), \"text\"],\n",
    "            \"label\": label.item(),\n",
    "            \"pred\": int(pred.item()),\n",
    "            \"prob\": prob.item()\n",
    "        })\n",
    "        \n",
    "df = pd.DataFrame(rows)\n",
    "df.set_index(\"id\", inplace=True)"
   ]
  },
  {
   "cell_type": "code",
   "execution_count": 49,
   "metadata": {},
   "outputs": [
    {
     "data": {
      "text/plain": [
       "(0.8430232558139535, 0.674698795180723, 0.8965517241379309, 0.785625259659327)"
      ]
     },
     "execution_count": 49,
     "metadata": {},
     "output_type": "execute_result"
    }
   ],
   "source": [
    "labels = df[\"label\"]\n",
    "preds = df[\"pred\"]\n",
    "\n",
    "acc = accuracy_score(labels, preds)\n",
    "pos_f1 = f1_score(labels, preds)\n",
    "neg_f1 = f1_score(1-labels, 1-preds)\n",
    "avg_f1 = (pos_f1 + neg_f1) / 2\n",
    "\n",
    "acc, pos_f1, neg_f1, avg_f1"
   ]
  },
  {
   "cell_type": "code",
   "execution_count": 50,
   "metadata": {},
   "outputs": [
    {
     "name": "stdout",
     "output_type": "stream",
     "text": [
      "Falsos negativos: 100\n",
      "Falsos positivos: 35\n"
     ]
    },
    {
     "data": {
      "text/html": [
       "<div>\n",
       "<style scoped>\n",
       "    .dataframe tbody tr th:only-of-type {\n",
       "        vertical-align: middle;\n",
       "    }\n",
       "\n",
       "    .dataframe tbody tr th {\n",
       "        vertical-align: top;\n",
       "    }\n",
       "\n",
       "    .dataframe thead th {\n",
       "        text-align: right;\n",
       "    }\n",
       "</style>\n",
       "<table border=\"1\" class=\"dataframe\">\n",
       "  <thead>\n",
       "    <tr style=\"text-align: right;\">\n",
       "      <th></th>\n",
       "      <th>pred not off</th>\n",
       "      <th>pred off</th>\n",
       "    </tr>\n",
       "    <tr>\n",
       "      <th>real</th>\n",
       "      <th></th>\n",
       "      <th></th>\n",
       "    </tr>\n",
       "  </thead>\n",
       "  <tbody>\n",
       "    <tr>\n",
       "      <th>not off</th>\n",
       "      <td>585</td>\n",
       "      <td>35</td>\n",
       "    </tr>\n",
       "    <tr>\n",
       "      <th>off</th>\n",
       "      <td>100</td>\n",
       "      <td>140</td>\n",
       "    </tr>\n",
       "  </tbody>\n",
       "</table>\n",
       "</div>"
      ],
      "text/plain": [
       "         pred not off  pred off\n",
       "real                           \n",
       "not off           585        35\n",
       "off               100       140"
      ]
     },
     "execution_count": 50,
     "metadata": {},
     "output_type": "execute_result"
    }
   ],
   "source": [
    "true_pos = df[(df[\"label\"] == 1) & (df[\"pred\"] == 1)].copy()\n",
    "false_neg = df[(df[\"label\"] == 1) & (df[\"pred\"] == 0)].copy()\n",
    "false_neg.sort_values(\"prob\", ascending=True, inplace=True)\n",
    "false_pos = df[(df[\"label\"] == 0) & (df[\"pred\"] == 1)].copy()\n",
    "false_pos.sort_values(\"prob\", ascending=False, inplace=True)\n",
    "true_neg = df[(df[\"label\"] == 0) & (df[\"pred\"] == 0)].copy()\n",
    "\n",
    "conf_matrix = pd.DataFrame([\n",
    "    {\"real\":\"not off\", \"pred not off\": len(true_neg),      \"pred off\": len(false_pos)},\n",
    "    {\"real\":\"off\",     \"pred not off\":     len(false_neg), \"pred off\": len(true_pos)}\n",
    "])\n",
    "\n",
    "conf_matrix.set_index(\"real\", inplace=True)\n",
    "\n",
    "print(\"Falsos negativos: {}\".format(len(false_neg)))\n",
    "print(\"Falsos positivos: {}\".format(len(false_pos)))\n",
    "\n",
    "conf_matrix"
   ]
  },
  {
   "cell_type": "markdown",
   "metadata": {},
   "source": [
    "Normalized "
   ]
  },
  {
   "cell_type": "code",
   "execution_count": 51,
   "metadata": {},
   "outputs": [
    {
     "data": {
      "text/html": [
       "<div>\n",
       "<style scoped>\n",
       "    .dataframe tbody tr th:only-of-type {\n",
       "        vertical-align: middle;\n",
       "    }\n",
       "\n",
       "    .dataframe tbody tr th {\n",
       "        vertical-align: top;\n",
       "    }\n",
       "\n",
       "    .dataframe thead th {\n",
       "        text-align: right;\n",
       "    }\n",
       "</style>\n",
       "<table border=\"1\" class=\"dataframe\">\n",
       "  <thead>\n",
       "    <tr style=\"text-align: right;\">\n",
       "      <th></th>\n",
       "      <th>pred not off</th>\n",
       "      <th>pred off</th>\n",
       "    </tr>\n",
       "    <tr>\n",
       "      <th>real</th>\n",
       "      <th></th>\n",
       "      <th></th>\n",
       "    </tr>\n",
       "  </thead>\n",
       "  <tbody>\n",
       "    <tr>\n",
       "      <th>not off</th>\n",
       "      <td>0.680</td>\n",
       "      <td>0.041</td>\n",
       "    </tr>\n",
       "    <tr>\n",
       "      <th>off</th>\n",
       "      <td>0.116</td>\n",
       "      <td>0.163</td>\n",
       "    </tr>\n",
       "  </tbody>\n",
       "</table>\n",
       "</div>"
      ],
      "text/plain": [
       "         pred not off  pred off\n",
       "real                           \n",
       "not off         0.680     0.041\n",
       "off             0.116     0.163"
      ]
     },
     "execution_count": 51,
     "metadata": {},
     "output_type": "execute_result"
    }
   ],
   "source": [
    "pd.options.display.float_format = '{:,.3f}'.format\n",
    "\n",
    "conf_matrix / len(df)"
   ]
  },
  {
   "cell_type": "markdown",
   "metadata": {},
   "source": [
    "We should improve recall in offensive tweets"
   ]
  },
  {
   "cell_type": "code",
   "execution_count": 46,
   "metadata": {},
   "outputs": [
    {
     "data": {
      "text/plain": [
       "'#NoPasaran: Unity demo to oppose the far-right in #London – #antifa #Oct13 — Enough is Enough! URL'"
      ]
     },
     "execution_count": 46,
     "metadata": {},
     "output_type": "execute_result"
    }
   ],
   "source": [
    "false_neg.iloc[0][\"text\"]"
   ]
  },
  {
   "cell_type": "markdown",
   "metadata": {},
   "source": [
    "Is this really offensive?"
   ]
  },
  {
   "cell_type": "code",
   "execution_count": 47,
   "metadata": {},
   "outputs": [
    {
     "data": {
      "text/plain": [
       "text     #NoPasaran: Unity demo to oppose the far-right...\n",
       "label                                                    1\n",
       "pred                                                     0\n",
       "prob                                                 0.001\n",
       "Name: 60133, dtype: object"
      ]
     },
     "execution_count": 47,
     "metadata": {},
     "output_type": "execute_result"
    }
   ],
   "source": [
    "false_neg.iloc[0]"
   ]
  },
  {
   "cell_type": "markdown",
   "metadata": {},
   "source": [
    "Is there any error?"
   ]
  },
  {
   "cell_type": "code",
   "execution_count": null,
   "metadata": {},
   "outputs": [],
   "source": [
    "df_dev.loc[79079]"
   ]
  },
  {
   "cell_type": "code",
   "execution_count": null,
   "metadata": {},
   "outputs": [],
   "source": [
    "pd.set_option('max_colwidth', None)\n",
    "false_neg.iloc[:30]"
   ]
  }
 ],
 "metadata": {
  "kernelspec": {
   "display_name": "Python 3",
   "language": "python",
   "name": "python3"
  },
  "language_info": {
   "codemirror_mode": {
    "name": "ipython",
    "version": 3
   },
   "file_extension": ".py",
   "mimetype": "text/x-python",
   "name": "python",
   "nbconvert_exporter": "python",
   "pygments_lexer": "ipython3",
   "version": "3.6.9"
  }
 },
 "nbformat": 4,
 "nbformat_minor": 4
}
