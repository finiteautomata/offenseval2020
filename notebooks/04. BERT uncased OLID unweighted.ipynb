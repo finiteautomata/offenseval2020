{
 "cells": [
  {
   "cell_type": "markdown",
   "metadata": {},
   "source": [
    "## BERT Cased trained on OLID Multilingual Test without weights\n",
    "\n",
    "We test in this case a BERT model trained on OLID\n",
    "\n",
    "It seems to be slightly better in English; however, not in the rest of the languages\n"
   ]
  },
  {
   "cell_type": "code",
   "execution_count": 1,
   "metadata": {},
   "outputs": [],
   "source": [
    "%load_ext autoreload\n",
    "%autoreload 2\n",
    "import os\n",
    "from datetime import datetime\n",
    "import fire\n",
    "import torch\n",
    "from torchtext import data\n",
    "import torch.nn as nn\n",
    "from transformers import (\n",
    "    AdamW, BertForSequenceClassification, BertTokenizer,\n",
    "    get_constant_schedule_with_warmup\n",
    ")\n",
    "\n",
    "from offenseval.nn import (\n",
    "    Tokenizer,\n",
    "    train, evaluate, train_cycle, save_model, load_model\n",
    ")\n",
    "\n",
    "device = torch.device('cuda' if torch.cuda.is_available() else 'cpu')\n",
    "\n",
    "model, TEXT = load_model(\"../models/bert_cased.en.noweight.pt\", device)\n"
   ]
  },
  {
   "cell_type": "code",
   "execution_count": 2,
   "metadata": {},
   "outputs": [
    {
     "name": "stdout",
     "output_type": "stream",
     "text": [
      "english\n",
      "Loading dataset...\n",
      "Building iterators\n"
     ]
    },
    {
     "data": {
      "application/vnd.jupyter.widget-view+json": {
       "model_id": "42b7e6cb1adb4a00b6a5b98b2da034e5",
       "version_major": 2,
       "version_minor": 0
      },
      "text/plain": [
       "HBox(children=(FloatProgress(value=0.0, max=860.0), HTML(value='')))"
      ]
     },
     "metadata": {},
     "output_type": "display_data"
    },
    {
     "name": "stdout",
     "output_type": "stream",
     "text": [
      "\n",
      "Loss: 0.421 Acc: 84.42% Macro F1 0.807 (P 0.723 - N 0.892)\n",
      "olid\n",
      "Loading dataset...\n",
      "Building iterators\n"
     ]
    },
    {
     "data": {
      "application/vnd.jupyter.widget-view+json": {
       "model_id": "dfbdce1f7ca147f396f72c7477f46989",
       "version_major": 2,
       "version_minor": 0
      },
      "text/plain": [
       "HBox(children=(FloatProgress(value=0.0, max=860.0), HTML(value='')))"
      ]
     },
     "metadata": {},
     "output_type": "display_data"
    },
    {
     "name": "stdout",
     "output_type": "stream",
     "text": [
      "\n",
      "Loss: 0.421 Acc: 84.42% Macro F1 0.807 (P 0.723 - N 0.892)\n",
      "danish\n",
      "Loading dataset...\n",
      "Building iterators\n"
     ]
    },
    {
     "data": {
      "application/vnd.jupyter.widget-view+json": {
       "model_id": "9f4fc5eb04d04f11ac7022ff4a7bdb79",
       "version_major": 2,
       "version_minor": 0
      },
      "text/plain": [
       "HBox(children=(FloatProgress(value=0.0, max=592.0), HTML(value='')))"
      ]
     },
     "metadata": {},
     "output_type": "display_data"
    },
    {
     "name": "stdout",
     "output_type": "stream",
     "text": [
      "\n",
      "Loss: 0.572 Acc: 74.66% Macro F1 0.598 (P 0.353 - N 0.842)\n",
      "greek\n",
      "Loading dataset...\n",
      "Building iterators\n"
     ]
    },
    {
     "data": {
      "application/vnd.jupyter.widget-view+json": {
       "model_id": "8a2ccf3dc06d4508bf759c0eb2faa069",
       "version_major": 2,
       "version_minor": 0
      },
      "text/plain": [
       "HBox(children=(FloatProgress(value=0.0, max=1749.0), HTML(value='')))"
      ]
     },
     "metadata": {},
     "output_type": "display_data"
    },
    {
     "name": "stdout",
     "output_type": "stream",
     "text": [
      "\n",
      "Loss: 0.633 Acc: 66.38% Macro F1 0.624 (P 0.501 - N 0.747)\n",
      "arabic\n",
      "Loading dataset...\n",
      "Building iterators\n"
     ]
    },
    {
     "data": {
      "application/vnd.jupyter.widget-view+json": {
       "model_id": "fa2f827965e14da8be8e6c9d96ec92f9",
       "version_major": 2,
       "version_minor": 0
      },
      "text/plain": [
       "HBox(children=(FloatProgress(value=0.0, max=1000.0), HTML(value='')))"
      ]
     },
     "metadata": {},
     "output_type": "display_data"
    },
    {
     "name": "stdout",
     "output_type": "stream",
     "text": [
      "\n",
      "Loss: 0.524 Acc: 81.80% Macro F1 0.476 (P 0.052 - N 0.899)\n",
      "turkish\n",
      "Loading dataset...\n",
      "Building iterators\n"
     ]
    },
    {
     "data": {
      "application/vnd.jupyter.widget-view+json": {
       "model_id": "35c1b3f73c7f48caa0d7cd609ff9a62d",
       "version_major": 2,
       "version_minor": 0
      },
      "text/plain": [
       "HBox(children=(FloatProgress(value=0.0, max=6256.0), HTML(value='')))"
      ]
     },
     "metadata": {},
     "output_type": "display_data"
    },
    {
     "name": "stdout",
     "output_type": "stream",
     "text": [
      "\n",
      "Loss: 0.577 Acc: 73.40% Macro F1 0.568 (P 0.300 - N 0.836)\n"
     ]
    },
    {
     "data": {
      "text/html": [
       "<div>\n",
       "<style scoped>\n",
       "    .dataframe tbody tr th:only-of-type {\n",
       "        vertical-align: middle;\n",
       "    }\n",
       "\n",
       "    .dataframe tbody tr th {\n",
       "        vertical-align: top;\n",
       "    }\n",
       "\n",
       "    .dataframe thead th {\n",
       "        text-align: right;\n",
       "    }\n",
       "</style>\n",
       "<table border=\"1\" class=\"dataframe\">\n",
       "  <thead>\n",
       "    <tr style=\"text-align: right;\">\n",
       "      <th></th>\n",
       "      <th>Accuracy</th>\n",
       "      <th>Macro-F1</th>\n",
       "      <th>Pos-F1</th>\n",
       "    </tr>\n",
       "    <tr>\n",
       "      <th>lang</th>\n",
       "      <th></th>\n",
       "      <th></th>\n",
       "      <th></th>\n",
       "    </tr>\n",
       "  </thead>\n",
       "  <tbody>\n",
       "    <tr>\n",
       "      <th>english</th>\n",
       "      <td>0.844</td>\n",
       "      <td>0.807</td>\n",
       "      <td>0.723</td>\n",
       "    </tr>\n",
       "    <tr>\n",
       "      <th>olid</th>\n",
       "      <td>0.844</td>\n",
       "      <td>0.807</td>\n",
       "      <td>0.723</td>\n",
       "    </tr>\n",
       "    <tr>\n",
       "      <th>danish</th>\n",
       "      <td>0.747</td>\n",
       "      <td>0.598</td>\n",
       "      <td>0.353</td>\n",
       "    </tr>\n",
       "    <tr>\n",
       "      <th>greek</th>\n",
       "      <td>0.664</td>\n",
       "      <td>0.624</td>\n",
       "      <td>0.501</td>\n",
       "    </tr>\n",
       "    <tr>\n",
       "      <th>arabic</th>\n",
       "      <td>0.818</td>\n",
       "      <td>0.476</td>\n",
       "      <td>0.052</td>\n",
       "    </tr>\n",
       "    <tr>\n",
       "      <th>turkish</th>\n",
       "      <td>0.734</td>\n",
       "      <td>0.568</td>\n",
       "      <td>0.300</td>\n",
       "    </tr>\n",
       "  </tbody>\n",
       "</table>\n",
       "</div>"
      ],
      "text/plain": [
       "         Accuracy  Macro-F1  Pos-F1\n",
       "lang                               \n",
       "english     0.844     0.807   0.723\n",
       "olid        0.844     0.807   0.723\n",
       "danish      0.747     0.598   0.353\n",
       "greek       0.664     0.624   0.501\n",
       "arabic      0.818     0.476   0.052\n",
       "turkish     0.734     0.568   0.300"
      ]
     },
     "execution_count": 2,
     "metadata": {},
     "output_type": "execute_result"
    }
   ],
   "source": [
    "import pandas as pd\n",
    "from offenseval.nn import evaluate_dataset\n",
    "from offenseval.datasets import datasets\n",
    "\n",
    "df_results = []\n",
    "\n",
    "for lang in datasets:\n",
    "    path = datasets[lang][\"test\"]\n",
    "    print(lang)\n",
    "    report = evaluate_dataset(\n",
    "        model, TEXT, path, batch_size=1\n",
    "    )\n",
    "    print(report)\n",
    "    df_results.append({\n",
    "        \"lang\": lang, \n",
    "        \"Accuracy\": report.acc, \n",
    "        \"Macro-F1\": report.macro_f1, \n",
    "        \"Pos-F1\": report.pos_f1\n",
    "    })\n",
    "\n",
    "pd.options.display.float_format = '{:,.3f}'.format\n",
    "\n",
    "df_results = pd.DataFrame(df_results)\n",
    "df_results.set_index(\"lang\", inplace=True)\n",
    "\n",
    "df_results"
   ]
  }
 ],
 "metadata": {
  "kernelspec": {
   "display_name": "Python 3",
   "language": "python",
   "name": "python3"
  },
  "language_info": {
   "codemirror_mode": {
    "name": "ipython",
    "version": 3
   },
   "file_extension": ".py",
   "mimetype": "text/x-python",
   "name": "python",
   "nbconvert_exporter": "python",
   "pygments_lexer": "ipython3",
   "version": "3.6.9"
  }
 },
 "nbformat": 4,
 "nbformat_minor": 4
}
