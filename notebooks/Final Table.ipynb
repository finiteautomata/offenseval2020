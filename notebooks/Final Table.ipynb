{
 "cells": [
  {
   "cell_type": "markdown",
   "metadata": {},
   "source": [
    "# Final Results\n",
    "\n",
    "Score is Macro-F1\n",
    "\n",
    "\n",
    "|  Model           | English | Danish  | Greek   | Arabic   | Turkish |\n",
    "|---------- -------|:--------|:--------|:------- |:- -------|:--------|\n",
    "|  BERT Distant    |**0.911**|  0.684  |  0.457  |  0.447   |  0.459  |\n",
    "|  BERT OLID       |  0.895  |  0.646  |  0.573  |  0.473   |  0.555  |\n",
    "|  BERT Danish     |  0.713  |**0.740**|  0.473  |  0.473   |  0.463  | \n",
    "|  BERT Greek      |  0.436  |  0.499  |**0.840**|  0.446   |  0.498  |\n",
    "|  BERT Arabic     |  0.432  |  0.486  |  0.502  |**0.859** |  0.490  |\n",
    "|  BERT Turkish    |  0.431  |  0.501  |  0.499  |  0.545   |**0.766**|\n",
    "|  BERT All        |**0.899**|**0.772**|**0.793**|**0.839** |**0.773**|"
   ]
  },
  {
   "cell_type": "markdown",
   "metadata": {},
   "source": [
    "## F1 (for positive class)\n",
    "\n",
    "\n",
    "|  Model           | English | Danish  | Greek   | Arabic   | Turkish |\n",
    "|---------- -------|:--------|:--------|:------- |:- -------|:--------|\n",
    "|  BERT Distant    |**0.878**|  0.426  |  0.000  |  0.005   |  0.030  |\n",
    "|  BERT OLID       |  0.855  |  0.386  |  0.280  |  0.057   |  0.254  |\n",
    "|  BERT Danish     |  0.542  |**0.531**|  0.032  |  0.057   |  0.044  | \n",
    "|  BERT Greek      |  0.035  |  0.077  |**0.739**|  0.005   |  0.143  |\n",
    "|  BERT Arabic     |  0.030  |  0.043  |  0.107  |**0.772** |  0.103  |\n",
    "|  BERT Turkish    |  0.024  |  0.078  |  0.091  |  0.202   |**0.620**|\n",
    "|  BERT All        |**0.860**|**0.600**|**0.670**|**0.739** |**0.629**|"
   ]
  },
  {
   "cell_type": "markdown",
   "metadata": {},
   "source": [
    "As we can observe, there is no transfer between languages (zero-shot) with the possible exception of English and Danish"
   ]
  },
  {
   "cell_type": "code",
   "execution_count": null,
   "metadata": {},
   "outputs": [],
   "source": []
  }
 ],
 "metadata": {
  "kernelspec": {
   "display_name": "Python 3",
   "language": "python",
   "name": "python3"
  },
  "language_info": {
   "codemirror_mode": {
    "name": "ipython",
    "version": 3
   },
   "file_extension": ".py",
   "mimetype": "text/x-python",
   "name": "python",
   "nbconvert_exporter": "python",
   "pygments_lexer": "ipython3",
   "version": "3.6.9"
  }
 },
 "nbformat": 4,
 "nbformat_minor": 4
}
