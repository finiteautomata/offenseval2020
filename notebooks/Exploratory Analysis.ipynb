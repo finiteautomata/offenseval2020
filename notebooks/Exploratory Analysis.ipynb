{
 "cells": [
  {
   "cell_type": "markdown",
   "metadata": {},
   "source": [
    "## Exploratory Analysis\n",
    "\n",
    "We will perform in this notebook an exploratory analysis of our data. Let's start with the English dataset."
   ]
  },
  {
   "cell_type": "code",
   "execution_count": 1,
   "metadata": {},
   "outputs": [
    {
     "name": "stderr",
     "output_type": "stream",
     "text": [
      "/home/jmperez/.pyenv/versions/3.6.9/lib/python3.6/site-packages/numpy/lib/arraysetops.py:569: FutureWarning: elementwise comparison failed; returning scalar instead, but in the future will perform elementwise comparison\n",
      "  mask |= (ar1 == a)\n"
     ]
    }
   ],
   "source": [
    "%load_ext autoreload\n",
    "%autoreload 2\n",
    "import pandas as pd\n",
    "\n",
    "full_df = pd.read_table(\"../data/English/task_a_distant.tsv\", index_col=0)"
   ]
  },
  {
   "cell_type": "code",
   "execution_count": 2,
   "metadata": {},
   "outputs": [
    {
     "data": {
      "text/plain": [
       "(9075418, 3)"
      ]
     },
     "execution_count": 2,
     "metadata": {},
     "output_type": "execute_result"
    }
   ],
   "source": [
    "full_df.shape"
   ]
  },
  {
   "cell_type": "markdown",
   "metadata": {},
   "source": [
    "Citing the README\n",
    "\n",
    "```\n",
    "- AVG_CONF is the average of the confidences predicted by several supervised models for a specific instance to belong to the positive class for that subtask. The positive class is OFF for subtask A, and UNT for subtask B.\n",
    "\n",
    "- CONF_STD is the confidences' standard deviation from AVG_CONF for a particular instance.\n",
    "```\n",
    "\n",
    "Let's take a sample because this dataset is huge"
   ]
  },
  {
   "cell_type": "code",
   "execution_count": 3,
   "metadata": {},
   "outputs": [],
   "source": [
    "df = full_df.sample(frac=0.05)"
   ]
  },
  {
   "cell_type": "code",
   "execution_count": 17,
   "metadata": {},
   "outputs": [
    {
     "data": {
      "text/html": [
       "<div>\n",
       "<style scoped>\n",
       "    .dataframe tbody tr th:only-of-type {\n",
       "        vertical-align: middle;\n",
       "    }\n",
       "\n",
       "    .dataframe tbody tr th {\n",
       "        vertical-align: top;\n",
       "    }\n",
       "\n",
       "    .dataframe thead th {\n",
       "        text-align: right;\n",
       "    }\n",
       "</style>\n",
       "<table border=\"1\" class=\"dataframe\">\n",
       "  <thead>\n",
       "    <tr style=\"text-align: right;\">\n",
       "      <th></th>\n",
       "      <th>text</th>\n",
       "      <th>average</th>\n",
       "      <th>std</th>\n",
       "    </tr>\n",
       "    <tr>\n",
       "      <th>id</th>\n",
       "      <th></th>\n",
       "      <th></th>\n",
       "      <th></th>\n",
       "    </tr>\n",
       "  </thead>\n",
       "  <tbody>\n",
       "    <tr>\n",
       "      <td>1162061401030057986</td>\n",
       "      <td>@USER @USER He can have her........ Ain't about to loose my last set of teeth for something that is not life threatening</td>\n",
       "      <td>0.382921</td>\n",
       "      <td>0.136883</td>\n",
       "    </tr>\n",
       "    <tr>\n",
       "      <td>1158106898777956360</td>\n",
       "      <td>@USER Unless it was Greenwald or Sirota's bulk deletions that is.</td>\n",
       "      <td>0.187025</td>\n",
       "      <td>0.166843</td>\n",
       "    </tr>\n",
       "  </tbody>\n",
       "</table>\n",
       "</div>"
      ],
      "text/plain": [
       "                                                                                                                                         text  \\\n",
       "id                                                                                                                                              \n",
       "1162061401030057986  @USER @USER He can have her........ Ain't about to loose my last set of teeth for something that is not life threatening   \n",
       "1158106898777956360                                                         @USER Unless it was Greenwald or Sirota's bulk deletions that is.   \n",
       "\n",
       "                      average       std  \n",
       "id                                       \n",
       "1162061401030057986  0.382921  0.136883  \n",
       "1158106898777956360  0.187025  0.166843  "
      ]
     },
     "execution_count": 17,
     "metadata": {},
     "output_type": "execute_result"
    }
   ],
   "source": [
    "pd.options.display.max_colwidth = 800\n",
    "df[:2]"
   ]
  },
  {
   "cell_type": "markdown",
   "metadata": {},
   "source": [
    "Let's look for some instances with high average confidence for the models"
   ]
  },
  {
   "cell_type": "code",
   "execution_count": 18,
   "metadata": {},
   "outputs": [
    {
     "data": {
      "text/html": [
       "<div>\n",
       "<style scoped>\n",
       "    .dataframe tbody tr th:only-of-type {\n",
       "        vertical-align: middle;\n",
       "    }\n",
       "\n",
       "    .dataframe tbody tr th {\n",
       "        vertical-align: top;\n",
       "    }\n",
       "\n",
       "    .dataframe thead th {\n",
       "        text-align: right;\n",
       "    }\n",
       "</style>\n",
       "<table border=\"1\" class=\"dataframe\">\n",
       "  <thead>\n",
       "    <tr style=\"text-align: right;\">\n",
       "      <th></th>\n",
       "      <th>text</th>\n",
       "      <th>average</th>\n",
       "      <th>std</th>\n",
       "    </tr>\n",
       "    <tr>\n",
       "      <th>id</th>\n",
       "      <th></th>\n",
       "      <th></th>\n",
       "      <th></th>\n",
       "    </tr>\n",
       "  </thead>\n",
       "  <tbody>\n",
       "    <tr>\n",
       "      <td>1187183076553695232</td>\n",
       "      <td>@USER Dudes greasy as fuck</td>\n",
       "      <td>0.912256</td>\n",
       "      <td>0.091698</td>\n",
       "    </tr>\n",
       "    <tr>\n",
       "      <td>1157506067930202112</td>\n",
       "      <td>@USER @USER Spend that shit</td>\n",
       "      <td>0.902396</td>\n",
       "      <td>0.109187</td>\n",
       "    </tr>\n",
       "    <tr>\n",
       "      <td>1187916210932989952</td>\n",
       "      <td>I'm hurt  mann too many dumb ass plays @USER FUCK FUCK FUCK</td>\n",
       "      <td>0.907899</td>\n",
       "      <td>0.106618</td>\n",
       "    </tr>\n",
       "  </tbody>\n",
       "</table>\n",
       "</div>"
      ],
      "text/plain": [
       "                                                                            text  \\\n",
       "id                                                                                 \n",
       "1187183076553695232                                   @USER Dudes greasy as fuck   \n",
       "1157506067930202112                                  @USER @USER Spend that shit   \n",
       "1187916210932989952  I'm hurt  mann too many dumb ass plays @USER FUCK FUCK FUCK   \n",
       "\n",
       "                      average       std  \n",
       "id                                       \n",
       "1187183076553695232  0.912256  0.091698  \n",
       "1157506067930202112  0.902396  0.109187  \n",
       "1187916210932989952  0.907899  0.106618  "
      ]
     },
     "execution_count": 18,
     "metadata": {},
     "output_type": "execute_result"
    }
   ],
   "source": [
    "df[df[\"average\"] > 0.9][:3]"
   ]
  },
  {
   "cell_type": "markdown",
   "metadata": {},
   "source": [
    "## Distribution of confidences"
   ]
  },
  {
   "cell_type": "code",
   "execution_count": 19,
   "metadata": {},
   "outputs": [
    {
     "data": {
      "image/png": "[encoded data removed]",
      "text/plain": [
       "<Figure size 432x288 with 1 Axes>"
      ]
     },
     "metadata": {
      "needs_background": "light"
     },
     "output_type": "display_data"
    }
   ],
   "source": [
    "import seaborn as sns\n",
    "\n",
    "sns.distplot(df[\"average\"]);"
   ]
  },
  {
   "cell_type": "markdown",
   "metadata": {},
   "source": [
    "What about the stds?"
   ]
  },
  {
   "cell_type": "code",
   "execution_count": 20,
   "metadata": {},
   "outputs": [
    {
     "data": {
      "text/plain": [
       "<matplotlib.axes._subplots.AxesSubplot at 0x7f78b1421748>"
      ]
     },
     "execution_count": 20,
     "metadata": {},
     "output_type": "execute_result"
    },
    {
     "data": {
      "image/png": "[encoded data removed]",
      "text/plain": [
       "<Figure size 432x288 with 1 Axes>"
      ]
     },
     "metadata": {
      "needs_background": "light"
     },
     "output_type": "display_data"
    }
   ],
   "source": [
    "sns.distplot(df[\"std\"])\n"
   ]
  },
  {
   "cell_type": "markdown",
   "metadata": {},
   "source": [
    "Remember that given the mean $\\mu$ and the std $\\sigma$ (and asumming normality of the data) we have the predictions with a 0.68 confidence interval in $(\\mu-\\sigma, \\mu+\\sigma)$, and a 0.95 if two sigma are taken.\n",
    "\n",
    "A simple approach I think would be to do the following:\n",
    "\n",
    "- First, keep just the tweets with $\\sigma \\leq \\epsilon$ ($\\epsilon$ could be, 0.15)\n",
    "- Label as offensive those with $\\mu > (0.5 + \\epsilon)$, so you got at least a 0.68 confidence interval that the mean is above 0.5\n",
    "- Label as not offensive those with $\\mu < 0.5 - \\epsilon$ for the same reason\n",
    "- Discard the others\n",
    "\n",
    "Another strategy would be to fit our models using real cross entropy loss. That is, instead of training against a binary label use `average` as target output. "
   ]
  },
  {
   "cell_type": "markdown",
   "metadata": {},
   "source": [
    "## OLID Dataset\n",
    "\n",
    "This dataset will be used as development dataset\n",
    "\n",
    "Copy-pasting some of the data in `data/olid/README.txt`:\n",
    "\n",
    "\n",
    "1) DESCRIPTION\n",
    "\n",
    "This is the README file for OLID described in: https://arxiv.org/abs/1902.09666\n",
    "\n",
    "OLID contains 14,100 annotate tweets. It has been used as the official dataset for OffensEval: Identifying and Categorizing Offensive Language in Social Media (SemEval 2019 - Task 6): https://competitions.codalab.org/competitions/20011\n",
    "\n",
    "The files included are: \n",
    "\n",
    "- olid-training-v1.tsv contains 13,240 annotated tweets. \n",
    "- olid-annotation.txt contains a short summary of the annotation guidelines.\n",
    "- testset-levela.tsv contains the test set instances of level a.\n",
    "- testset-levelb.tsv contains the test set instances of level b.\n",
    "- testset-levelc.tsv contains the test set instances of level c.\n",
    "- labels-levela.csv contains the gold labels and IDs of the instances in test set layer a.\n",
    "- labels-levelb.csv contains the gold labels and IDs of the instances test set layer b.\n",
    "- labels-levelc.csv contains the gold labels and IDs of the instances test set layer c.\n",
    "\n",
    "The dataset was annotated using crowdsourcing. The gold labels were assigned taking the agreement of three annotators into consideration. No correction has been carried out on the crowdsourcing annotations. \n",
    "\n",
    "Twitter user mentions were substituted by @USER and URLs have been substitute by URL.\n",
    "\n",
    "OLID is annotated using a hierarchical annotation. Each instance contains up to 3 labels each corresponding to one of the following levels:\n",
    "\n",
    "- Level (or sub-task) A: Offensive language identification; \n",
    "\n",
    "- Level (or sub-task) B: Automatic categorization of offense types;\n",
    "\n",
    "- Level (or sub-task) C: Offense target identification.\t"
   ]
  },
  {
   "cell_type": "code",
   "execution_count": 21,
   "metadata": {},
   "outputs": [
    {
     "data": {
      "text/html": [
       "<div>\n",
       "<style scoped>\n",
       "    .dataframe tbody tr th:only-of-type {\n",
       "        vertical-align: middle;\n",
       "    }\n",
       "\n",
       "    .dataframe tbody tr th {\n",
       "        vertical-align: top;\n",
       "    }\n",
       "\n",
       "    .dataframe thead th {\n",
       "        text-align: right;\n",
       "    }\n",
       "</style>\n",
       "<table border=\"1\" class=\"dataframe\">\n",
       "  <thead>\n",
       "    <tr style=\"text-align: right;\">\n",
       "      <th></th>\n",
       "      <th>tweet</th>\n",
       "      <th>subtask_a</th>\n",
       "      <th>subtask_b</th>\n",
       "      <th>subtask_c</th>\n",
       "    </tr>\n",
       "    <tr>\n",
       "      <th>id</th>\n",
       "      <th></th>\n",
       "      <th></th>\n",
       "      <th></th>\n",
       "      <th></th>\n",
       "    </tr>\n",
       "  </thead>\n",
       "  <tbody>\n",
       "    <tr>\n",
       "      <td>44561</td>\n",
       "      <td>@USER Laws not just for Conservatives or an unpopular group with the Media. Women have long failed other women and the Me Too is no more sincere than the Feminist movement was about Bill Clinton or Ted Kennedy.</td>\n",
       "      <td>NOT</td>\n",
       "      <td>NaN</td>\n",
       "      <td>NaN</td>\n",
       "    </tr>\n",
       "    <tr>\n",
       "      <td>35524</td>\n",
       "      <td>Was this a threat from @USER #DangerousDemocrats #maga URL</td>\n",
       "      <td>OFF</td>\n",
       "      <td>TIN</td>\n",
       "      <td>OTH</td>\n",
       "    </tr>\n",
       "  </tbody>\n",
       "</table>\n",
       "</div>"
      ],
      "text/plain": [
       "                                                                                                                                                                                                                    tweet  \\\n",
       "id                                                                                                                                                                                                                          \n",
       "44561  @USER Laws not just for Conservatives or an unpopular group with the Media. Women have long failed other women and the Me Too is no more sincere than the Feminist movement was about Bill Clinton or Ted Kennedy.   \n",
       "35524                                                                                                                                                          Was this a threat from @USER #DangerousDemocrats #maga URL   \n",
       "\n",
       "      subtask_a subtask_b subtask_c  \n",
       "id                                   \n",
       "44561       NOT       NaN       NaN  \n",
       "35524       OFF       TIN       OTH  "
      ]
     },
     "execution_count": 21,
     "metadata": {},
     "output_type": "execute_result"
    }
   ],
   "source": [
    "df_olid = pd.read_table(\"../data/olid/olid-training-v1.0.tsv\", index_col=0)\n",
    "\n",
    "df_olid.sample(2)"
   ]
  },
  {
   "cell_type": "markdown",
   "metadata": {},
   "source": [
    "Why is a tweet considered offensive? \n",
    "\n",
    "The annotation guidelines are not quite explicit...\n",
    "\n",
    "```\n",
    "\n",
    "*Rules & Tips*\n",
    "Please rate the tweet according to whether it is offensive generally or to the target, not whether you are personally offended by it.\n",
    "```\n"
   ]
  },
  {
   "cell_type": "code",
   "execution_count": 31,
   "metadata": {},
   "outputs": [
    {
     "name": "stdout",
     "output_type": "stream",
     "text": [
      "There are 13240 instances\n",
      "\n",
      "Class balance:\n"
     ]
    },
    {
     "data": {
      "text/plain": [
       "NOT    0.667674\n",
       "OFF    0.332326\n",
       "Name: subtask_a, dtype: float64"
      ]
     },
     "execution_count": 31,
     "metadata": {},
     "output_type": "execute_result"
    }
   ],
   "source": [
    "print(f\"There are {df_olid.shape[0]} instances\\n\\nClass balance:\")\n",
    "df_olid[\"subtask_a\"].value_counts(normalize=True)"
   ]
  },
  {
   "cell_type": "markdown",
   "metadata": {},
   "source": [
    "## Other languages"
   ]
  },
  {
   "cell_type": "code",
   "execution_count": 48,
   "metadata": {},
   "outputs": [
    {
     "name": "stdout",
     "output_type": "stream",
     "text": [
      "================================================================================ \n",
      "\n",
      "There are 6839 instances for arabic\n",
      "Columns = Index(['tweet', 'subtask_a'], dtype='object')\n",
      "\n",
      "Class balance\n",
      "NOT    0.799532\n",
      "OFF    0.200468\n",
      "Name: subtask_a, dtype: float64 \n",
      "\n",
      "Example tweets\n",
      "id\n",
      "2337                          يا ساكن قلبي يا عيوني الثنتين أحبك.\n",
      "4923    RT @USER: فيس -واتس - انستا : يا بن المحظوظه يا تويتر URL\n",
      "Name: tweet, dtype: object\n",
      "================================================================================ \n",
      "\n",
      "There are 1000 instances for arabic-dev\n",
      "Columns = Index(['tweet', 'subtask_a'], dtype='object')\n",
      "\n",
      "Class balance\n",
      "NOT    0.821\n",
      "OFF    0.179\n",
      "Name: subtask_a, dtype: float64 \n",
      "\n",
      "Example tweets\n",
      "id\n",
      "7567                                                                                                       RT @USER: يا نادر بينهم ، يا اغلاهم💗💕 ..\n",
      "7881    @USER هو السؤال يا منصف يا عادل كرة محمود علاء التى عرقل فبها المهاجم وهو منفرد الا يستحق الانذار التانى والطرد<LF>الكره هل عدت الخط ولا لا\n",
      "Name: tweet, dtype: object\n",
      "================================================================================ \n",
      "\n",
      "There are 2961 instances for danish\n",
      "Columns = Index(['tweet', 'subtask_a'], dtype='object')\n",
      "\n",
      "Class balance\n",
      "NOT    0.87027\n",
      "OFF    0.12973\n",
      "Name: subtask_a, dtype: float64 \n",
      "\n",
      "Example tweets\n",
      "id\n",
      "3592    det ligner en tatovør har brækket sig udover malone, som i øvrigt er halvt hamster\n",
      "1009                                                 hvad pønser de på de satans svyskere?\n",
      "Name: tweet, dtype: object\n",
      "================================================================================ \n",
      "\n",
      "There are 8743 instances for greek\n",
      "Columns = Index(['tweet', 'subtask_a'], dtype='object')\n",
      "\n",
      "Class balance\n",
      "NOT    0.715658\n",
      "OFF    0.284342\n",
      "Name: subtask_a, dtype: float64 \n",
      "\n",
      "Example tweets\n",
      "id\n",
      "2680                                                                               @USER ΙΚΕ ΙΚΕ είσαι εδώ; έβγα λίγο να σε ιδώ\n",
      "8051    @USER α στα διαλα μωρή πατσαβούρα, η εγκληματικότητα στην γερμανία είναι στο χαμηλότερο των τελευταιων 25 ετών. Κνοδαλο\n",
      "Name: tweet, dtype: object\n",
      "================================================================================ \n",
      "\n",
      "There are 31277 instances for turkish\n",
      "Columns = Index(['tweet', 'subtask_a'], dtype='object')\n",
      "\n",
      "Class balance\n",
      "NOT    0.806695\n",
      "OFF    0.193305\n",
      "Name: subtask_a, dtype: float64 \n",
      "\n",
      "Example tweets\n",
      "id\n",
      "43397                                              ORAYA DA ŞÖLE 2000 ODALI SARAY YAKIŞIR.\n",
      "38900    @USER Bence de mantı diğerleri fazla ağır olabilir hava sıcak çok yağlı gelebilir\n",
      "Name: tweet, dtype: object\n"
     ]
    }
   ],
   "source": [
    "dfs = {\n",
    "    \"arabic\": pd.read_table(\"../data/Arabic/offenseval-ar-training-v1.tsv\", index_col=0),\n",
    "    \"arabic-dev\": pd.read_table(\"../data/Arabic/offenseval-ar-dev-v1.tsv\", index_col=0),\n",
    "    \"danish\": pd.read_table(\"../data/Danish/offenseval-da-training-v1.tsv\", index_col=0),\n",
    "    \"greek\":  pd.read_table(\"../data/Greek/offenseval-greek-training-v1.tsv\", index_col=0),\n",
    "    \"turkish\": pd.read_table(\"../data/Turkish/offenseval-tr-training-v1.tsv\", index_col=0) \n",
    "}\n",
    "\n",
    "\n",
    "for lang, df_lang in dfs.items():\n",
    "    print(\"=\"*80, \"\\n\")\n",
    "    print(f\"There are {df_lang.shape[0]} instances for {lang}\")\n",
    "    print(f\"Columns = {df_lang.columns}\\n\")\n",
    "    \n",
    "    print(\"Class balance\")\n",
    "    print(df_lang[\"subtask_a\"].value_counts(normalize=True), \"\\n\")\n",
    "    \n",
    "    print(\"Example tweets\")\n",
    "    print(df_lang.sample(2)[\"tweet\"])"
   ]
  },
  {
   "cell_type": "code",
   "execution_count": null,
   "metadata": {},
   "outputs": [],
   "source": []
  }
 ],
 "metadata": {
  "kernelspec": {
   "display_name": "Python 3",
   "language": "python",
   "name": "python3"
  },
  "language_info": {
   "codemirror_mode": {
    "name": "ipython",
    "version": 3
   },
   "file_extension": ".py",
   "mimetype": "text/x-python",
   "name": "python",
   "nbconvert_exporter": "python",
   "pygments_lexer": "ipython3",
   "version": "3.6.9"
  }
 },
 "nbformat": 4,
 "nbformat_minor": 4
}
