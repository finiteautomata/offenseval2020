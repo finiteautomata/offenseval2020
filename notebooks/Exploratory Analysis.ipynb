{
 "cells": [
  {
   "cell_type": "markdown",
   "metadata": {},
   "source": [
    "## Exploratory Analysis\n",
    "\n",
    "We will perform in this notebook an exploratory analysis of our data. Let's start with the English dataset."
   ]
  },
  {
   "cell_type": "code",
   "execution_count": 1,
   "metadata": {},
   "outputs": [
    {
     "name": "stderr",
     "output_type": "stream",
     "text": [
      "/home/jmperez/.local/share/virtualenvs/offenseval2020-HKdlw5Be/lib/python3.6/site-packages/numpy/lib/arraysetops.py:569: FutureWarning: elementwise comparison failed; returning scalar instead, but in the future will perform elementwise comparison\n",
      "  mask |= (ar1 == a)\n"
     ]
    }
   ],
   "source": [
    "%load_ext autoreload\n",
    "%autoreload 2\n",
    "import pandas as pd\n",
    "\n",
    "df = pd.read_table(\"../data/English/task_a_distant.tsv\", index_col=0)"
   ]
  },
  {
   "cell_type": "code",
   "execution_count": 2,
   "metadata": {},
   "outputs": [
    {
     "data": {
      "text/plain": [
       "(9075418, 3)"
      ]
     },
     "execution_count": 2,
     "metadata": {},
     "output_type": "execute_result"
    }
   ],
   "source": [
    "df.shape"
   ]
  },
  {
   "cell_type": "markdown",
   "metadata": {},
   "source": [
    "Citing the README\n",
    "\n",
    "```\n",
    "- AVG_CONF is the average of the confidences predicted by several supervised models for a specific instance to belong to the positive class for that subtask. The positive class is OFF for subtask A, and UNT for subtask B.\n",
    "\n",
    "- CONF_STD is the confidences' standard deviation from AVG_CONF for a particular instance.\n",
    "```"
   ]
  },
  {
   "cell_type": "code",
   "execution_count": 3,
   "metadata": {},
   "outputs": [
    {
     "data": {
      "text/html": [
       "<div>\n",
       "<style scoped>\n",
       "    .dataframe tbody tr th:only-of-type {\n",
       "        vertical-align: middle;\n",
       "    }\n",
       "\n",
       "    .dataframe tbody tr th {\n",
       "        vertical-align: top;\n",
       "    }\n",
       "\n",
       "    .dataframe thead th {\n",
       "        text-align: right;\n",
       "    }\n",
       "</style>\n",
       "<table border=\"1\" class=\"dataframe\">\n",
       "  <thead>\n",
       "    <tr style=\"text-align: right;\">\n",
       "      <th></th>\n",
       "      <th>text</th>\n",
       "      <th>average</th>\n",
       "      <th>std</th>\n",
       "    </tr>\n",
       "    <tr>\n",
       "      <th>id</th>\n",
       "      <th></th>\n",
       "      <th></th>\n",
       "      <th></th>\n",
       "    </tr>\n",
       "  </thead>\n",
       "  <tbody>\n",
       "    <tr>\n",
       "      <th>1159533701283352576</th>\n",
       "      <td>First time I heard his name in camp, he seems to be the forgotten guyChristian Covington being disruptive so far today</td>\n",
       "      <td>0.195773</td>\n",
       "      <td>0.187379</td>\n",
       "    </tr>\n",
       "    <tr>\n",
       "      <th>1159533703522992128</th>\n",
       "      <td>When I go to drink with Tsubaki he would always fall asleep first. His sleeping face looks really innocent and not like him at all. Fufu♪</td>\n",
       "      <td>0.262401</td>\n",
       "      <td>0.145998</td>\n",
       "    </tr>\n",
       "  </tbody>\n",
       "</table>\n",
       "</div>"
      ],
      "text/plain": [
       "                                                                                                                                                          text  \\\n",
       "id                                                                                                                                                               \n",
       "1159533701283352576                     First time I heard his name in camp, he seems to be the forgotten guyChristian Covington being disruptive so far today   \n",
       "1159533703522992128  When I go to drink with Tsubaki he would always fall asleep first. His sleeping face looks really innocent and not like him at all. Fufu♪   \n",
       "\n",
       "                      average       std  \n",
       "id                                       \n",
       "1159533701283352576  0.195773  0.187379  \n",
       "1159533703522992128  0.262401  0.145998  "
      ]
     },
     "execution_count": 3,
     "metadata": {},
     "output_type": "execute_result"
    }
   ],
   "source": [
    "pd.options.display.max_colwidth = 1000\n",
    "df[:2]"
   ]
  },
  {
   "cell_type": "markdown",
   "metadata": {},
   "source": [
    "Let's look for some instances with high average confidence for the models"
   ]
  },
  {
   "cell_type": "code",
   "execution_count": 4,
   "metadata": {},
   "outputs": [
    {
     "data": {
      "text/html": [
       "<div>\n",
       "<style scoped>\n",
       "    .dataframe tbody tr th:only-of-type {\n",
       "        vertical-align: middle;\n",
       "    }\n",
       "\n",
       "    .dataframe tbody tr th {\n",
       "        vertical-align: top;\n",
       "    }\n",
       "\n",
       "    .dataframe thead th {\n",
       "        text-align: right;\n",
       "    }\n",
       "</style>\n",
       "<table border=\"1\" class=\"dataframe\">\n",
       "  <thead>\n",
       "    <tr style=\"text-align: right;\">\n",
       "      <th></th>\n",
       "      <th>text</th>\n",
       "      <th>average</th>\n",
       "      <th>std</th>\n",
       "    </tr>\n",
       "    <tr>\n",
       "      <th>id</th>\n",
       "      <th></th>\n",
       "      <th></th>\n",
       "      <th></th>\n",
       "    </tr>\n",
       "  </thead>\n",
       "  <tbody>\n",
       "    <tr>\n",
       "      <th>1159469570912137216</th>\n",
       "      <td>Invest in your bitch</td>\n",
       "      <td>0.912992</td>\n",
       "      <td>0.128156</td>\n",
       "    </tr>\n",
       "    <tr>\n",
       "      <th>1159528564925984768</th>\n",
       "      <td>everyone talks shit in LA</td>\n",
       "      <td>0.900464</td>\n",
       "      <td>0.126209</td>\n",
       "    </tr>\n",
       "    <tr>\n",
       "      <th>1159538776357711874</th>\n",
       "      <td>@USER @USER this is dumb as shit</td>\n",
       "      <td>0.927991</td>\n",
       "      <td>0.074608</td>\n",
       "    </tr>\n",
       "  </tbody>\n",
       "</table>\n",
       "</div>"
      ],
      "text/plain": [
       "                                                 text   average       std\n",
       "id                                                                       \n",
       "1159469570912137216              Invest in your bitch  0.912992  0.128156\n",
       "1159528564925984768         everyone talks shit in LA  0.900464  0.126209\n",
       "1159538776357711874  @USER @USER this is dumb as shit  0.927991  0.074608"
      ]
     },
     "execution_count": 4,
     "metadata": {},
     "output_type": "execute_result"
    }
   ],
   "source": [
    "df[df[\"average\"] > 0.9][:3]"
   ]
  },
  {
   "cell_type": "markdown",
   "metadata": {},
   "source": [
    "## Distribution of confidences"
   ]
  },
  {
   "cell_type": "code",
   "execution_count": 9,
   "metadata": {},
   "outputs": [
    {
     "data": {
      "image/png": "[encoded data removed]",
      "text/plain": [
       "<Figure size 432x288 with 1 Axes>"
      ]
     },
     "metadata": {
      "needs_background": "light"
     },
     "output_type": "display_data"
    }
   ],
   "source": [
    "import seaborn as sns\n",
    "\n",
    "sns.distplot(df[\"average\"]);"
   ]
  },
  {
   "cell_type": "markdown",
   "metadata": {},
   "source": [
    "What about the stds?"
   ]
  },
  {
   "cell_type": "code",
   "execution_count": 10,
   "metadata": {},
   "outputs": [
    {
     "data": {
      "text/plain": [
       "<matplotlib.axes._subplots.AxesSubplot at 0x7f00142d4e80>"
      ]
     },
     "execution_count": 10,
     "metadata": {},
     "output_type": "execute_result"
    },
    {
     "data": {
      "image/png": "[encoded data removed]",
      "text/plain": [
       "<Figure size 432x288 with 1 Axes>"
      ]
     },
     "metadata": {
      "needs_background": "light"
     },
     "output_type": "display_data"
    }
   ],
   "source": [
    "sns.distplot(df[\"std\"])"
   ]
  },
  {
   "cell_type": "markdown",
   "metadata": {},
   "source": [
    "Remember that given the mean $\\mu$ and the std $\\sigma$ (and asumming normality of the data) we have the predictions with a 0.68 confidence interval in $(\\mu-\\sigma, \\mu+\\sigma)$, and a 0.95 if two sigma are taken.\n",
    "\n",
    "A simple approach I think would be to do the following:\n",
    "\n",
    "- First, keep just the tweets with $\\sigma \\leq \\epsilon$ ($\\epsilon$ could be, 0.15)\n",
    "- Label as offensive those with $\\mu > (0.5 + \\epsilon)$, so you got at least a 0.68 confidence interval that the mean is above 0.5\n",
    "- Label as not offensive those with $\\mu < 0.5 - \\epsilon$ for the same reason\n",
    "- Discard the others\n",
    "\n",
    "Another strategy would be to fit our models using real cross entropy loss. That is, instead of training against a binary label use `average` as target output. "
   ]
  }
 ],
 "metadata": {
  "kernelspec": {
   "display_name": "Python 3",
   "language": "python",
   "name": "python3"
  },
  "language_info": {
   "codemirror_mode": {
    "name": "ipython",
    "version": 3
   },
   "file_extension": ".py",
   "mimetype": "text/x-python",
   "name": "python",
   "nbconvert_exporter": "python",
   "pygments_lexer": "ipython3",
   "version": "3.6.9"
  }
 },
 "nbformat": 4,
 "nbformat_minor": 4
}
