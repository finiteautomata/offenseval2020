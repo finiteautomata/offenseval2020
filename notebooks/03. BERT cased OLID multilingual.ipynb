{
 "cells": [
  {
   "cell_type": "markdown",
   "metadata": {},
   "source": [
    "## BERT Cased trained on OLID Multilingual Test\n",
    "\n",
    "Let's load a BERT model in OLID and test it against the other languages"
   ]
  },
  {
   "cell_type": "code",
   "execution_count": 1,
   "metadata": {},
   "outputs": [],
   "source": [
    "%load_ext autoreload\n",
    "%autoreload 2\n",
    "import os\n",
    "from datetime import datetime\n",
    "import fire\n",
    "import torch\n",
    "from torchtext import data\n",
    "import torch.nn as nn\n",
    "from transformers import (\n",
    "    AdamW, BertForSequenceClassification, BertTokenizer,\n",
    "    get_constant_schedule_with_warmup\n",
    ")\n",
    "\n",
    "from offenseval.nn import (\n",
    "    Tokenizer,\n",
    "    train, evaluate, train_cycle, save_model, load_model\n",
    ")\n",
    "\n",
    "device = torch.device('cuda' if torch.cuda.is_available() else 'cpu')\n",
    "\n",
    "model, TEXT = load_model(\"../models/bert_cased.olid.pt\", device)"
   ]
  },
  {
   "cell_type": "code",
   "execution_count": 2,
   "metadata": {},
   "outputs": [
    {
     "name": "stdout",
     "output_type": "stream",
     "text": [
      "Loading dataset...\n",
      "Building iterators\n",
      "Test Loss: 0.436  Acc: 83.02% Macro F1: 0.792 Pos F1 0.702 Neg F1 0.881\n"
     ]
    }
   ],
   "source": [
    "from offenseval.nn import evaluate_dataset\n",
    "\n",
    "loss, acc, f1, pos_f1, neg_f1 = evaluate_dataset(\n",
    "    model, TEXT, \"../data/olid/test_a.tsv\"\n",
    ")\n",
    "\n",
    "print(f'Test Loss: {loss:.3f}  Acc: {acc*100:.2f}% Macro F1: {f1:.3f} Pos F1 {pos_f1:.3f} Neg F1 {neg_f1:.3f}')"
   ]
  },
  {
   "cell_type": "markdown",
   "metadata": {},
   "source": [
    "## Danish"
   ]
  },
  {
   "cell_type": "code",
   "execution_count": 3,
   "metadata": {},
   "outputs": [
    {
     "name": "stdout",
     "output_type": "stream",
     "text": [
      "Loading dataset...\n",
      "Building iterators\n",
      "Test Loss: 0.481  Acc: 80.91% Macro F1: 0.602 Pos F1 0.315 Neg F1 0.889\n"
     ]
    }
   ],
   "source": [
    "loss, acc, f1, pos_f1, neg_f1 = evaluate_dataset(\n",
    "    model, TEXT, \"../data/Danish/dev.tsv\"\n",
    ")\n",
    "\n",
    "print(f'Test Loss: {loss:.3f}  Acc: {acc*100:.2f}% Macro F1: {f1:.3f} Pos F1 {pos_f1:.3f} Neg F1 {neg_f1:.3f}')"
   ]
  },
  {
   "cell_type": "markdown",
   "metadata": {},
   "source": [
    "## Turkish"
   ]
  },
  {
   "cell_type": "code",
   "execution_count": 4,
   "metadata": {},
   "outputs": [
    {
     "name": "stdout",
     "output_type": "stream",
     "text": [
      "Loading dataset...\n",
      "Building iterators\n",
      "Test Loss: 0.532  Acc: 74.78% Macro F1: 0.551 Pos F1 0.253 Neg F1 0.848\n"
     ]
    }
   ],
   "source": [
    "loss, acc, f1, pos_f1, neg_f1 = evaluate_dataset(\n",
    "    model, TEXT, \"../data/Turkish/dev.tsv\"\n",
    ")\n",
    "\n",
    "print(f'Test Loss: {loss:.3f}  Acc: {acc*100:.2f}% Macro F1: {f1:.3f} Pos F1 {pos_f1:.3f} Neg F1 {neg_f1:.3f}')"
   ]
  },
  {
   "cell_type": "markdown",
   "metadata": {},
   "source": [
    "## Arabic"
   ]
  },
  {
   "cell_type": "code",
   "execution_count": 5,
   "metadata": {},
   "outputs": [
    {
     "name": "stdout",
     "output_type": "stream",
     "text": [
      "Loading dataset...\n",
      "Building iterators\n",
      "Test Loss: 0.471  Acc: 81.40% Macro F1: 0.492 Pos F1 0.088 Neg F1 0.896\n"
     ]
    }
   ],
   "source": [
    "loss, acc, f1, pos_f1, neg_f1 = evaluate_dataset(\n",
    "    model, TEXT, \"../data/Arabic/offenseval-ar-dev-v1.tsv\"\n",
    ")\n",
    "\n",
    "print(f'Test Loss: {loss:.3f}  Acc: {acc*100:.2f}% Macro F1: {f1:.3f} Pos F1 {pos_f1:.3f} Neg F1 {neg_f1:.3f}')"
   ]
  },
  {
   "cell_type": "markdown",
   "metadata": {},
   "source": [
    "## Greek"
   ]
  },
  {
   "cell_type": "code",
   "execution_count": 6,
   "metadata": {},
   "outputs": [
    {
     "name": "stdout",
     "output_type": "stream",
     "text": [
      "Loading dataset...\n",
      "Building iterators\n",
      "Test Loss: 0.586  Acc: 68.55% Macro F1: 0.568 Pos F1 0.342 Neg F1 0.793\n"
     ]
    }
   ],
   "source": [
    "loss, acc, f1, pos_f1, neg_f1 = evaluate_dataset(\n",
    "    model, TEXT, \"../data/Greek/dev.tsv\"\n",
    ")\n",
    "\n",
    "print(f'Test Loss: {loss:.3f}  Acc: {acc*100:.2f}% Macro F1: {f1:.3f} Pos F1 {pos_f1:.3f} Neg F1 {neg_f1:.3f}')"
   ]
  },
  {
   "cell_type": "code",
   "execution_count": null,
   "metadata": {},
   "outputs": [],
   "source": []
  }
 ],
 "metadata": {
  "kernelspec": {
   "display_name": "Python 3",
   "language": "python",
   "name": "python3"
  },
  "language_info": {
   "codemirror_mode": {
    "name": "ipython",
    "version": 3
   },
   "file_extension": ".py",
   "mimetype": "text/x-python",
   "name": "python",
   "nbconvert_exporter": "python",
   "pygments_lexer": "ipython3",
   "version": "3.6.9"
  }
 },
 "nbformat": 4,
 "nbformat_minor": 4
}
