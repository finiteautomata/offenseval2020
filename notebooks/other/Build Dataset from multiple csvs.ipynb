{
 "cells": [
  {
   "cell_type": "markdown",
   "metadata": {},
   "source": [
    "# Creating custom dataset"
   ]
  },
  {
   "cell_type": "code",
   "execution_count": 39,
   "metadata": {},
   "outputs": [],
   "source": [
    "import torch\n",
    "from torchtext import data\n",
    "\n",
    "A = data.LabelField(dtype = torch.float, use_vocab=False, preprocessing=float)\n",
    "B = data.LabelField(dtype = torch.float, use_vocab=False, preprocessing=float)\n",
    "\n",
    "examples = [\n",
    "    {\"a\": 1, \"b\": 2}, \n",
    "    {\"a\": 2, \"b\": 3},\n",
    "]\n",
    "\n",
    "fields = {\"a\": ('a', A), \"b\": ('b', B)}\n",
    "examples = [data.Example.fromdict(t, fields=fields) for t in examples]\n",
    "\n",
    "dataset = data.Dataset(examples, fields=fields)"
   ]
  },
  {
   "cell_type": "markdown",
   "metadata": {},
   "source": [
    "### Create Dataset from multiple csvs\n",
    "\n",
    "First, create fields and tokenizer"
   ]
  },
  {
   "cell_type": "code",
   "execution_count": 110,
   "metadata": {},
   "outputs": [],
   "source": [
    "from transformers import BertTokenizer\n",
    "from offenseval.nn import Tokenizer\n",
    "\n",
    "bert_tokenizer = BertTokenizer.from_pretrained('bert-base-multilingual-cased')\n",
    "init_token_idx = bert_tokenizer.cls_token_id\n",
    "eos_token_idx = bert_tokenizer.sep_token_id\n",
    "pad_token_idx = bert_tokenizer.pad_token_id\n",
    "unk_token_idx = bert_tokenizer.unk_token_id\n",
    "\n",
    "    # Trying to cut this down to check if this improves memory usage\n",
    "\n",
    "tokenizer = Tokenizer(bert_tokenizer)\n",
    "\n",
    "ID = data.Field(sequential=False, use_vocab=False)\n",
    "# All these arguments are because these are really floats\n",
    "# See https://github.com/pytorch/text/issues/78#issuecomment-541203609\n",
    "AVG = data.LabelField(dtype = torch.float, use_vocab=False, preprocessing=float)\n",
    "STD = data.LabelField(dtype = torch.float, use_vocab=False, preprocessing=float)\n",
    "SUBTASK_A = data.LabelField()\n",
    "\n",
    "TEXT = data.Field(\n",
    "    tokenize=tokenizer.tokenize,\n",
    "    include_lengths = True,\n",
    "    use_vocab=False,\n",
    "    batch_first = True,\n",
    "    preprocessing = tokenizer.convert_tokens_to_ids,\n",
    "    init_token = init_token_idx,\n",
    "    eos_token = eos_token_idx,\n",
    "    pad_token = pad_token_idx,\n",
    "    unk_token = unk_token_idx\n",
    ")"
   ]
  },
  {
   "cell_type": "markdown",
   "metadata": {},
   "source": [
    "Let's load the distant dataset"
   ]
  },
  {
   "cell_type": "code",
   "execution_count": 112,
   "metadata": {},
   "outputs": [
    {
     "data": {
      "text/html": [
       "<div>\n",
       "<style scoped>\n",
       "    .dataframe tbody tr th:only-of-type {\n",
       "        vertical-align: middle;\n",
       "    }\n",
       "\n",
       "    .dataframe tbody tr th {\n",
       "        vertical-align: top;\n",
       "    }\n",
       "\n",
       "    .dataframe thead th {\n",
       "        text-align: right;\n",
       "    }\n",
       "</style>\n",
       "<table border=\"1\" class=\"dataframe\">\n",
       "  <thead>\n",
       "    <tr style=\"text-align: right;\">\n",
       "      <th></th>\n",
       "      <th>id</th>\n",
       "      <th>text</th>\n",
       "      <th>average</th>\n",
       "      <th>std</th>\n",
       "      <th>subtask_a</th>\n",
       "    </tr>\n",
       "  </thead>\n",
       "  <tbody>\n",
       "    <tr>\n",
       "      <th>0</th>\n",
       "      <td>1158636827068239873</td>\n",
       "      <td>I’m so happy everything is happening the way i...</td>\n",
       "      <td>0.145000</td>\n",
       "      <td>0.201947</td>\n",
       "      <td>False</td>\n",
       "    </tr>\n",
       "    <tr>\n",
       "      <th>1</th>\n",
       "      <td>1186293241857093632</td>\n",
       "      <td>@USER It started?  Did you just say Evodia isn...</td>\n",
       "      <td>0.190505</td>\n",
       "      <td>0.187738</td>\n",
       "      <td>False</td>\n",
       "    </tr>\n",
       "    <tr>\n",
       "      <th>2</th>\n",
       "      <td>1162448233165017089</td>\n",
       "      <td>interstellar was amazing but it blew my mind t...</td>\n",
       "      <td>0.523429</td>\n",
       "      <td>0.087635</td>\n",
       "      <td>True</td>\n",
       "    </tr>\n",
       "    <tr>\n",
       "      <th>3</th>\n",
       "      <td>1186861360216465408</td>\n",
       "      <td>@USER When i come back home and i see that you...</td>\n",
       "      <td>0.348687</td>\n",
       "      <td>0.173647</td>\n",
       "      <td>False</td>\n",
       "    </tr>\n",
       "    <tr>\n",
       "      <th>4</th>\n",
       "      <td>1157489832106401794</td>\n",
       "      <td>An Ass Is But An Ass, Though Laden With Gold</td>\n",
       "      <td>0.845292</td>\n",
       "      <td>0.186436</td>\n",
       "      <td>True</td>\n",
       "    </tr>\n",
       "    <tr>\n",
       "      <th>...</th>\n",
       "      <td>...</td>\n",
       "      <td>...</td>\n",
       "      <td>...</td>\n",
       "      <td>...</td>\n",
       "      <td>...</td>\n",
       "    </tr>\n",
       "    <tr>\n",
       "      <th>903</th>\n",
       "      <td>1160428332137242624</td>\n",
       "      <td>If you wher born in 1972 or 1983 you most like...</td>\n",
       "      <td>0.454989</td>\n",
       "      <td>0.084214</td>\n",
       "      <td>False</td>\n",
       "    </tr>\n",
       "    <tr>\n",
       "      <th>904</th>\n",
       "      <td>1157923899801313280</td>\n",
       "      <td>if a woman asks you a question, it’s better to...</td>\n",
       "      <td>0.270029</td>\n",
       "      <td>0.196148</td>\n",
       "      <td>False</td>\n",
       "    </tr>\n",
       "    <tr>\n",
       "      <th>905</th>\n",
       "      <td>1186016484943958016</td>\n",
       "      <td>@USER He’s a cracker 🐶</td>\n",
       "      <td>0.407586</td>\n",
       "      <td>0.132179</td>\n",
       "      <td>False</td>\n",
       "    </tr>\n",
       "    <tr>\n",
       "      <th>906</th>\n",
       "      <td>1187946296390410240</td>\n",
       "      <td>@USER The playlists should have more than 2 so...</td>\n",
       "      <td>0.171523</td>\n",
       "      <td>0.178548</td>\n",
       "      <td>False</td>\n",
       "    </tr>\n",
       "    <tr>\n",
       "      <th>907</th>\n",
       "      <td>1155915755768225792</td>\n",
       "      <td>@USER 😂😂😂I love you @USER don’t ever change we...</td>\n",
       "      <td>0.167635</td>\n",
       "      <td>0.192675</td>\n",
       "      <td>False</td>\n",
       "    </tr>\n",
       "  </tbody>\n",
       "</table>\n",
       "<p>908 rows × 5 columns</p>\n",
       "</div>"
      ],
      "text/plain": [
       "                      id                                               text  \\\n",
       "0    1158636827068239873  I’m so happy everything is happening the way i...   \n",
       "1    1186293241857093632  @USER It started?  Did you just say Evodia isn...   \n",
       "2    1162448233165017089  interstellar was amazing but it blew my mind t...   \n",
       "3    1186861360216465408  @USER When i come back home and i see that you...   \n",
       "4    1157489832106401794       An Ass Is But An Ass, Though Laden With Gold   \n",
       "..                   ...                                                ...   \n",
       "903  1160428332137242624  If you wher born in 1972 or 1983 you most like...   \n",
       "904  1157923899801313280  if a woman asks you a question, it’s better to...   \n",
       "905  1186016484943958016                             @USER He’s a cracker 🐶   \n",
       "906  1187946296390410240  @USER The playlists should have more than 2 so...   \n",
       "907  1155915755768225792  @USER 😂😂😂I love you @USER don’t ever change we...   \n",
       "\n",
       "      average       std  subtask_a  \n",
       "0    0.145000  0.201947      False  \n",
       "1    0.190505  0.187738      False  \n",
       "2    0.523429  0.087635       True  \n",
       "3    0.348687  0.173647      False  \n",
       "4    0.845292  0.186436       True  \n",
       "..        ...       ...        ...  \n",
       "903  0.454989  0.084214      False  \n",
       "904  0.270029  0.196148      False  \n",
       "905  0.407586  0.132179      False  \n",
       "906  0.171523  0.178548      False  \n",
       "907  0.167635  0.192675      False  \n",
       "\n",
       "[908 rows x 5 columns]"
      ]
     },
     "execution_count": 112,
     "metadata": {},
     "output_type": "execute_result"
    }
   ],
   "source": [
    "import pandas as pd\n",
    "\n",
    "df = pd.read_table(\"../../data/English/task_a_distant.xsmall.tsv\")\n",
    "\n",
    "df[\"subtask_a\"] = df[\"average\"] > 0.5\n",
    "\n",
    "df"
   ]
  },
  {
   "cell_type": "code",
   "execution_count": 113,
   "metadata": {},
   "outputs": [
    {
     "data": {
      "text/plain": [
       "'@USER It started?  Did you just say Evodia isnt part of the cast? yoh, then i have no reason to watch😭'"
      ]
     },
     "execution_count": 113,
     "metadata": {},
     "output_type": "execute_result"
    }
   ],
   "source": [
    "df.iloc[1].text"
   ]
  },
  {
   "cell_type": "code",
   "execution_count": 118,
   "metadata": {},
   "outputs": [],
   "source": [
    "fields = {\"id\": ('id', ID), \"text\": ('text', TEXT), \"subtask_a\": (\"subtask_a\", SUBTASK_A)}\n",
    "\n",
    "ex = df.iloc[150]\n",
    "\n",
    "example = data.Example.fromdict(ex.to_dict(), fields=fields)\n"
   ]
  },
  {
   "cell_type": "code",
   "execution_count": 119,
   "metadata": {},
   "outputs": [],
   "source": [
    "examples = [data.Example.fromdict(t.to_dict(), fields=fields) for _, t in df.iterrows()]\n",
    "\n",
    "dataset = data.Dataset(examples, fields=fields)"
   ]
  },
  {
   "cell_type": "markdown",
   "metadata": {},
   "source": [
    "Summing up in one function"
   ]
  },
  {
   "cell_type": "code",
   "execution_count": 126,
   "metadata": {},
   "outputs": [],
   "source": [
    "def build_examples(path, fields):\n",
    "    df = pd.read_table(path)\n",
    "    print(df.columns)\n",
    "    if \"average\" in df.columns:\n",
    "        df[\"subtask_a\"] = \"NOT\"\n",
    "        df.loc[df[\"average\"] > 0.5, \"subtask_a\"] = \"OFF\" \n",
    "    if \"tweet\" in df.columns:\n",
    "        df[\"text\"] = df[\"tweet\"]\n",
    "    examples = [data.Example.fromdict(t.to_dict(), fields=fields) for _, t in df.iterrows()]\n",
    "    return examples\n"
   ]
  },
  {
   "cell_type": "code",
   "execution_count": 130,
   "metadata": {},
   "outputs": [
    {
     "name": "stdout",
     "output_type": "stream",
     "text": [
      "Index(['id', 'text', 'average', 'std'], dtype='object')\n",
      "Index(['id', 'tweet', 'subtask_a'], dtype='object')\n",
      "Index(['id', 'tweet', 'subtask_a'], dtype='object')\n",
      "Index(['id', 'tweet', 'subtask_a'], dtype='object')\n"
     ]
    }
   ],
   "source": [
    "examples = build_examples(\"../../data/English/task_a_distant.xsmall.tsv\", fields)\n",
    "examples += build_examples(\"../../data/Danish/train.tsv\", fields)\n",
    "examples += build_examples(\"../../data/Greek/train.tsv\", fields)\n",
    "examples += build_examples(\"../../data/Arabic/offenseval-ar-training-v1.tsv\", fields)\n",
    " "
   ]
  },
  {
   "cell_type": "code",
   "execution_count": 131,
   "metadata": {},
   "outputs": [
    {
     "data": {
      "text/plain": [
       "<torchtext.data.dataset.Dataset at 0x7f05f3adfda0>"
      ]
     },
     "execution_count": 131,
     "metadata": {},
     "output_type": "execute_result"
    }
   ],
   "source": [
    "data.Dataset(examples, fields)"
   ]
  }
 ],
 "metadata": {
  "kernelspec": {
   "display_name": "Python 3",
   "language": "python",
   "name": "python3"
  },
  "language_info": {
   "codemirror_mode": {
    "name": "ipython",
    "version": 3
   },
   "file_extension": ".py",
   "mimetype": "text/x-python",
   "name": "python",
   "nbconvert_exporter": "python",
   "pygments_lexer": "ipython3",
   "version": "3.6.9"
  }
 },
 "nbformat": 4,
 "nbformat_minor": 4
}
