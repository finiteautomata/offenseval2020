{
 "cells": [
  {
   "cell_type": "markdown",
   "metadata": {},
   "source": [
    "## Freezing layers\n",
    "\n",
    "In this notebook we will try to freeze layers and check if that improves performance"
   ]
  },
  {
   "cell_type": "code",
   "execution_count": 1,
   "metadata": {},
   "outputs": [],
   "source": [
    "%load_ext autoreload\n",
    "%autoreload 2\n",
    "import os\n",
    "from datetime import datetime\n",
    "import fire\n",
    "import torch\n",
    "import pandas as pd\n",
    "from torchtext import data\n",
    "import torch.nn as nn\n",
    "from transformers import (\n",
    "    AdamW, BertForSequenceClassification, BertTokenizer,\n",
    "    get_constant_schedule_with_warmup\n",
    ")\n",
    "\n",
    "from offenseval.nn import (\n",
    "    Tokenizer,\n",
    "    train, evaluate, train_cycle, save_model, load_model, evaluate_dataset\n",
    ")\n",
    "from offenseval.datasets import datasets\n",
    "\n",
    "pd.options.display.max_rows = 200\n",
    "pd.options.display.max_colwidth = 300\n",
    "\n",
    "device = torch.device('cuda' if torch.cuda.is_available() else 'cpu')\n"
   ]
  },
  {
   "cell_type": "markdown",
   "metadata": {},
   "source": [
    "Create fields and some other boilerplate"
   ]
  },
  {
   "cell_type": "code",
   "execution_count": 2,
   "metadata": {},
   "outputs": [],
   "source": [
    "\n",
    "model, TEXT = load_model(\"../../models/bert_cased.all.pt\", device)\n",
    "model.eval();"
   ]
  },
  {
   "cell_type": "markdown",
   "metadata": {},
   "source": [
    "Get the predictions"
   ]
  },
  {
   "cell_type": "code",
   "execution_count": 3,
   "metadata": {},
   "outputs": [
    {
     "data": {
      "application/vnd.jupyter.widget-view+json": {
       "model_id": "a04f57bdc21a4c49b4ce4dd6360fe49f",
       "version_major": 2,
       "version_minor": 0
      },
      "text/plain": [
       "HBox(children=(FloatProgress(value=0.0, max=3887.0), HTML(value='')))"
      ]
     },
     "metadata": {},
     "output_type": "display_data"
    },
    {
     "name": "stdout",
     "output_type": "stream",
     "text": [
      "\n"
     ]
    }
   ],
   "source": [
    "from offenseval.datasets import build_dataset\n",
    "ID = data.LabelField(dtype = str, use_vocab=False, preprocessing=str)\n",
    "SUBTASK_A = data.LabelField()\n",
    "\n",
    "fields = {\n",
    "    \"text\": ('text', TEXT),\n",
    "}\n",
    "test_path = \"../../data/English/test.tsv\"\n",
    "test_dataset = build_dataset(\"../../data/English/test.tsv\", fields)"
   ]
  },
  {
   "cell_type": "code",
   "execution_count": 5,
   "metadata": {},
   "outputs": [
    {
     "name": "stdout",
     "output_type": "stream",
     "text": [
      "Building iterators\n"
     ]
    }
   ],
   "source": [
    "\n",
    "print(\"Building iterators\")\n",
    "\n",
    "test_it = data.Iterator(\n",
    "    test_dataset, batch_size=1, device=device,\n",
    "    shuffle=False,\n",
    ")\n"
   ]
  },
  {
   "cell_type": "code",
   "execution_count": 6,
   "metadata": {},
   "outputs": [
    {
     "data": {
      "application/vnd.jupyter.widget-view+json": {
       "model_id": "302e8351bd204629a65632c02aeddb94",
       "version_major": 2,
       "version_minor": 0
      },
      "text/plain": [
       "HBox(children=(FloatProgress(value=0.0, max=3887.0), HTML(value='')))"
      ]
     },
     "metadata": {},
     "output_type": "display_data"
    },
    {
     "name": "stdout",
     "output_type": "stream",
     "text": [
      "\n"
     ]
    },
    {
     "ename": "NameError",
     "evalue": "name 'ids' is not defined",
     "output_type": "error",
     "traceback": [
      "\u001b[0;31m---------------------------------------------------------------------------\u001b[0m",
      "\u001b[0;31mNameError\u001b[0m                                 Traceback (most recent call last)",
      "\u001b[0;32m<ipython-input-6-995876945b73>\u001b[0m in \u001b[0;36m<module>\u001b[0;34m\u001b[0m\n\u001b[1;32m     12\u001b[0m         \u001b[0mpredicted_labels\u001b[0m\u001b[0;34m.\u001b[0m\u001b[0mappend\u001b[0m\u001b[0;34m(\u001b[0m\u001b[0mpredictions\u001b[0m\u001b[0;34m)\u001b[0m\u001b[0;34m\u001b[0m\u001b[0;34m\u001b[0m\u001b[0m\n\u001b[1;32m     13\u001b[0m \u001b[0;34m\u001b[0m\u001b[0m\n\u001b[0;32m---> 14\u001b[0;31m \u001b[0mids\u001b[0m \u001b[0;34m=\u001b[0m \u001b[0mtorch\u001b[0m\u001b[0;34m.\u001b[0m\u001b[0mcat\u001b[0m\u001b[0;34m(\u001b[0m\u001b[0mids\u001b[0m\u001b[0;34m)\u001b[0m\u001b[0;34m.\u001b[0m\u001b[0mnumpy\u001b[0m\u001b[0;34m(\u001b[0m\u001b[0;34m)\u001b[0m\u001b[0;34m\u001b[0m\u001b[0;34m\u001b[0m\u001b[0m\n\u001b[0m",
      "\u001b[0;31mNameError\u001b[0m: name 'ids' is not defined"
     ]
    }
   ],
   "source": [
    "from tqdm.auto import tqdm\n",
    "\n",
    "with torch.no_grad():\n",
    "    predicted_labels = []\n",
    "\n",
    "    for batch in tqdm(test_it):\n",
    "        text, lens = batch.text\n",
    "        \n",
    "        predictions = model(text)\n",
    "        predictions = torch.round(torch.sigmoid(predictions))\n",
    "\n",
    "        predicted_labels.append(predictions)\n"
   ]
  },
  {
   "cell_type": "code",
   "execution_count": 9,
   "metadata": {},
   "outputs": [],
   "source": [
    "\n",
    "predicted_labels = torch.cat(predicted_labels).cpu().numpy()"
   ]
  },
  {
   "cell_type": "code",
   "execution_count": 25,
   "metadata": {},
   "outputs": [],
   "source": [
    "\n",
    "df_test = pd.read_table(test_path, index_col=0)"
   ]
  },
  {
   "cell_type": "code",
   "execution_count": 26,
   "metadata": {},
   "outputs": [],
   "source": [
    "df_test[\"pred\"] = 'NOT'\n",
    "\n",
    "df_test.loc[predicted_labels.reshape(-1) > 0, \"pred\"] = \"OFF\""
   ]
  },
  {
   "cell_type": "code",
   "execution_count": 28,
   "metadata": {},
   "outputs": [
    {
     "data": {
      "text/html": [
       "<div>\n",
       "<style scoped>\n",
       "    .dataframe tbody tr th:only-of-type {\n",
       "        vertical-align: middle;\n",
       "    }\n",
       "\n",
       "    .dataframe tbody tr th {\n",
       "        vertical-align: top;\n",
       "    }\n",
       "\n",
       "    .dataframe thead th {\n",
       "        text-align: right;\n",
       "    }\n",
       "</style>\n",
       "<table border=\"1\" class=\"dataframe\">\n",
       "  <thead>\n",
       "    <tr style=\"text-align: right;\">\n",
       "      <th></th>\n",
       "      <th>tweet</th>\n",
       "      <th>pred</th>\n",
       "    </tr>\n",
       "    <tr>\n",
       "      <th>id</th>\n",
       "      <th></th>\n",
       "      <th></th>\n",
       "    </tr>\n",
       "  </thead>\n",
       "  <tbody>\n",
       "    <tr>\n",
       "      <th>A100</th>\n",
       "      <td>@USER you can be sure that now that I can talk to you on twitter I often love your photos</td>\n",
       "      <td>NOT</td>\n",
       "    </tr>\n",
       "    <tr>\n",
       "      <th>A101</th>\n",
       "      <td>MPs struggling to vote electronically is so surreal given the importance of what they're voting on!  #Article370</td>\n",
       "      <td>NOT</td>\n",
       "    </tr>\n",
       "    <tr>\n",
       "      <th>A102</th>\n",
       "      <td>@USER They’re just sick in the head trolls who are more to be pitied! Chin up Nathan.  👍</td>\n",
       "      <td>OFF</td>\n",
       "    </tr>\n",
       "    <tr>\n",
       "      <th>A103</th>\n",
       "      <td>@USER Thank you for believing I'm good looking but I'm not actually.</td>\n",
       "      <td>NOT</td>\n",
       "    </tr>\n",
       "    <tr>\n",
       "      <th>A104</th>\n",
       "      <td>@USER @USER shut up and go back to your porn</td>\n",
       "      <td>OFF</td>\n",
       "    </tr>\n",
       "    <tr>\n",
       "      <th>A105</th>\n",
       "      <td>Already looking forward to the end of the day to when I have a coffee date with a friend after work.</td>\n",
       "      <td>NOT</td>\n",
       "    </tr>\n",
       "    <tr>\n",
       "      <th>A106</th>\n",
       "      <td>leaving us  Not even a good luckLaurent Koscielny is leaving us to join Ligue 1 side Bordeaux</td>\n",
       "      <td>NOT</td>\n",
       "    </tr>\n",
       "    <tr>\n",
       "      <th>A107</th>\n",
       "      <td>@USER Add the #MiddleEastServers</td>\n",
       "      <td>NOT</td>\n",
       "    </tr>\n",
       "    <tr>\n",
       "      <th>A108</th>\n",
       "      <td>@USER @USER FYI I had to re-follow you and I think it's the 2nd time this has happened. What's up @USER</td>\n",
       "      <td>NOT</td>\n",
       "    </tr>\n",
       "    <tr>\n",
       "      <th>A109</th>\n",
       "      <td>@USER Because it’s pretty sea worthy</td>\n",
       "      <td>NOT</td>\n",
       "    </tr>\n",
       "  </tbody>\n",
       "</table>\n",
       "</div>"
      ],
      "text/plain": [
       "                                                                                                                 tweet  \\\n",
       "id                                                                                                                       \n",
       "A100                         @USER you can be sure that now that I can talk to you on twitter I often love your photos   \n",
       "A101  MPs struggling to vote electronically is so surreal given the importance of what they're voting on!  #Article370   \n",
       "A102                          @USER They’re just sick in the head trolls who are more to be pitied! Chin up Nathan.  👍   \n",
       "A103                                              @USER Thank you for believing I'm good looking but I'm not actually.   \n",
       "A104                                                                      @USER @USER shut up and go back to your porn   \n",
       "A105              Already looking forward to the end of the day to when I have a coffee date with a friend after work.   \n",
       "A106                     leaving us  Not even a good luckLaurent Koscielny is leaving us to join Ligue 1 side Bordeaux   \n",
       "A107                                                                                  @USER Add the #MiddleEastServers   \n",
       "A108           @USER @USER FYI I had to re-follow you and I think it's the 2nd time this has happened. What's up @USER   \n",
       "A109                                                                              @USER Because it’s pretty sea worthy   \n",
       "\n",
       "     pred  \n",
       "id         \n",
       "A100  NOT  \n",
       "A101  NOT  \n",
       "A102  OFF  \n",
       "A103  NOT  \n",
       "A104  OFF  \n",
       "A105  NOT  \n",
       "A106  NOT  \n",
       "A107  NOT  \n",
       "A108  NOT  \n",
       "A109  NOT  "
      ]
     },
     "execution_count": 28,
     "metadata": {},
     "output_type": "execute_result"
    }
   ],
   "source": [
    "df_test.iloc[100:110]"
   ]
  },
  {
   "cell_type": "code",
   "execution_count": null,
   "metadata": {},
   "outputs": [],
   "source": []
  }
 ],
 "metadata": {
  "kernelspec": {
   "display_name": "Python 3",
   "language": "python",
   "name": "python3"
  },
  "language_info": {
   "codemirror_mode": {
    "name": "ipython",
    "version": 3
   },
   "file_extension": ".py",
   "mimetype": "text/x-python",
   "name": "python",
   "nbconvert_exporter": "python",
   "pygments_lexer": "ipython3",
   "version": "3.6.9"
  }
 },
 "nbformat": 4,
 "nbformat_minor": 4
}
