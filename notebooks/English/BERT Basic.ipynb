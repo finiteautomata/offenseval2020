{
 "cells": [
  {
   "cell_type": "markdown",
   "metadata": {},
   "source": [
    "## Classification with Multilingual BERT + Fine tuning\n",
    "\n",
    "Let's first train a model in English"
   ]
  },
  {
   "cell_type": "code",
   "execution_count": 1,
   "metadata": {},
   "outputs": [],
   "source": [
    "%load_ext autoreload\n",
    "%autoreload 2\n",
    "\n",
    "import torch\n",
    "from transformers import BertTokenizer\n",
    "import pandas as pd\n",
    "from offenseval.nn import Tokenizer\n",
    "\n",
    "bert_tokenizer = BertTokenizer.from_pretrained('bert-base-multilingual-uncased')\n",
    "\n",
    "init_token = bert_tokenizer.cls_token\n",
    "eos_token = bert_tokenizer.sep_token\n",
    "pad_token = bert_tokenizer.pad_token\n",
    "unk_token = bert_tokenizer.unk_token\n",
    "\n",
    "init_token_idx = bert_tokenizer.cls_token_id\n",
    "eos_token_idx = bert_tokenizer.sep_token_id\n",
    "pad_token_idx = bert_tokenizer.pad_token_id\n",
    "unk_token_idx = bert_tokenizer.unk_token_id\n",
    "\n",
    "# Trying to cut this down to check if this improves memory usage\n",
    "\n",
    "tokenizer = Tokenizer(bert_tokenizer)\n",
    "\n"
   ]
  },
  {
   "cell_type": "code",
   "execution_count": 2,
   "metadata": {},
   "outputs": [],
   "source": [
    "bert_tokenizer import data\n",
    "\n",
    "TEXT = data.Field(\n",
    "    tokenize=tokenizer.tokenize,\n",
    "    include_lengths = True,\n",
    "    use_vocab=False,\n",
    "    batch_first = True,\n",
    "    preprocessing = tokenizer.convert_tokens_to_ids,\n",
    "    init_token = init_token_idx,\n",
    "    eos_token = eos_token_idx,\n",
    "    pad_token = pad_token_idx,\n",
    "    unk_token = unk_token_idx\n",
    ")\n"
   ]
  },
  {
   "cell_type": "code",
   "execution_count": 3,
   "metadata": {},
   "outputs": [
    {
     "name": "stdout",
     "output_type": "stream",
     "text": [
      "Train instances: 453771\n",
      "Dev   instances: 13240\n",
      "Test instances:  860\n"
     ]
    }
   ],
   "source": [
    "ID = data.Field(sequential=False, use_vocab=False)\n",
    "# All these arguments are because these are really floats\n",
    "# See https://github.com/pytorch/text/issues/78#issuecomment-541203609\n",
    "AVG = data.LabelField(dtype = torch.float, use_vocab=False, preprocessing=float)\n",
    "STD = data.LabelField(dtype = torch.float, use_vocab=False, preprocessing=float)\n",
    "SUBTASK_A = data.LabelField()\n",
    "\n",
    "train_dataset = data.TabularDataset(\n",
    "    \"../../data/English/task_a_distant.sample.tsv\",\n",
    "    format=\"tsv\", skip_header=True,\n",
    "    fields=[(\"id\", ID), (\"text\", TEXT), (\"avg\", AVG), (\"std\", STD)],\n",
    ")\n",
    "\n",
    "dev_dataset = data.TabularDataset(\n",
    "    \"../../data/olid/olid-training-v1.0.tsv\",\n",
    "    format=\"tsv\", skip_header=True,\n",
    "    fields=[(\"id\", ID), (\"text\", TEXT), \n",
    "            (\"subtask_a\", SUBTASK_A), (\"subtask_b\", None), (\"subtask_c\", None)],\n",
    "    \n",
    ")\n",
    "\n",
    "test_dataset = data.TabularDataset(\n",
    "    \"../../data/olid/test_a.tsv\",\n",
    "    format=\"tsv\", skip_header=True,\n",
    "    fields=[(\"id\", ID), (\"text\", TEXT), \n",
    "            (\"subtask_a\", SUBTASK_A)],\n",
    ")\n",
    "\n",
    "print(f\"Train instances: {len(train_dataset)}\")\n",
    "print(f\"Dev   instances: {len(dev_dataset)}\")\n",
    "print(f\"Test instances:  {len(test_dataset)}\")"
   ]
  },
  {
   "cell_type": "markdown",
   "metadata": {},
   "source": [
    "Build vocabulary for label field. Can we just say 0 -> NOT (Offensive) 1 -> OFF? \n",
    "\n",
    "I don't know, just to make sure add the assertion"
   ]
  },
  {
   "cell_type": "code",
   "execution_count": 4,
   "metadata": {},
   "outputs": [],
   "source": [
    "SUBTASK_A.build_vocab(dev_dataset)\n",
    "\n",
    "assert SUBTASK_A.vocab.itos == [\"NOT\", \"OFF\"]"
   ]
  },
  {
   "cell_type": "markdown",
   "metadata": {},
   "source": [
    "## Model\n",
    "\n",
    "\n",
    "We use %load directive to show the model here..."
   ]
  },
  {
   "cell_type": "code",
   "execution_count": 5,
   "metadata": {},
   "outputs": [],
   "source": [
    "BATCH_SIZE = 32\n",
    "\n",
    "\n",
    "device = \"cuda\" if torch.cuda.is_available() else \"cpu\"\n",
    "\n",
    "train_it, dev_it, test_it = data.BucketIterator.splits(\n",
    "    (train_dataset, dev_dataset, test_dataset), batch_size=BATCH_SIZE, device=device,\n",
    "    sort_key = lambda x: len(x.text), sort_within_batch = True,\n",
    ")"
   ]
  },
  {
   "cell_type": "markdown",
   "metadata": {},
   "source": [
    "Compute the class weights "
   ]
  },
  {
   "cell_type": "code",
   "execution_count": 6,
   "metadata": {},
   "outputs": [
    {
     "data": {
      "text/plain": [
       "array([1.        , 7.70761053])"
      ]
     },
     "execution_count": 6,
     "metadata": {},
     "output_type": "execute_result"
    }
   ],
   "source": [
    "from sklearn.utils import compute_class_weight, compute_sample_weight\n",
    "y = []\n",
    "for elem in train_dataset:\n",
    "    y.append(1*(elem.avg > 0.6))\n",
    "    \n",
    "class_weights = compute_class_weight('balanced', [0, 1], y)\n",
    "\n",
    "# normalize it\n",
    "class_weights = class_weights / class_weights[0]\n",
    "\n",
    "class_weights"
   ]
  },
  {
   "cell_type": "code",
   "execution_count": 7,
   "metadata": {},
   "outputs": [],
   "source": [
    "import torch.optim as optim\n",
    "import torch.nn as nn\n",
    "from transformers import AdamW, BertForSequenceClassification\n",
    "\n",
    "\n",
    "model = BertForSequenceClassification.from_pretrained(\n",
    "    'bert-base-multilingual-uncased',\n",
    "    num_labels=1,\n",
    ")\n",
    "\n",
    "optimizer = AdamW(model.parameters(), lr=1e-5)\n",
    "criterion = nn.BCEWithLogitsLoss(pos_weight=torch.Tensor([class_weights[1]]))\n",
    "\n",
    "\n",
    "model = model.to(device)\n",
    "criterion = criterion.to(device)\n"
   ]
  },
  {
   "cell_type": "code",
   "execution_count": 8,
   "metadata": {},
   "outputs": [
    {
     "data": {
      "application/vnd.jupyter.widget-view+json": {
       "model_id": "70d6afcb872f4af49ea9515b4e7486d0",
       "version_major": 2,
       "version_minor": 0
      },
      "text/plain": [
       "HBox(children=(FloatProgress(value=0.0, layout=Layout(flex='2'), max=5.0), HTML(value='')), layout=Layout(disp…"
      ]
     },
     "metadata": {},
     "output_type": "display_data"
    },
    {
     "data": {
      "application/vnd.jupyter.widget-view+json": {
       "model_id": "78be84ae45c64d519217176bea9efca8",
       "version_major": 2,
       "version_minor": 0
      },
      "text/plain": [
       "HBox(children=(FloatProgress(value=0.0, layout=Layout(flex='2'), max=14181.0), HTML(value='')), layout=Layout(…"
      ]
     },
     "metadata": {},
     "output_type": "display_data"
    },
    {
     "name": "stdout",
     "output_type": "stream",
     "text": [
      "\n",
      "Train: Loss: 0.386 Acc: 96.39%\n",
      "Val. Loss: 7.447 Acc: 80.59% Macro F1 0.756 (P 0.645 - N 0.866)\n",
      "Best model so far (Loss 7.447 - Acc 0.806, F1 0.756) saved at /tmp/bert_model.pt\n"
     ]
    },
    {
     "data": {
      "application/vnd.jupyter.widget-view+json": {
       "model_id": "9373abe6b88746c5aacdf436e0bb81e9",
       "version_major": 2,
       "version_minor": 0
      },
      "text/plain": [
       "HBox(children=(FloatProgress(value=0.0, layout=Layout(flex='2'), max=14181.0), HTML(value='')), layout=Layout(…"
      ]
     },
     "metadata": {},
     "output_type": "display_data"
    },
    {
     "name": "stdout",
     "output_type": "stream",
     "text": [
      "\n",
      "Train: Loss: 0.235 Acc: 98.14%\n",
      "Val. Loss: 5.749 Acc: 81.62% Macro F1 0.776 (P 0.680 - N 0.871)\n",
      "Best model so far (Loss 5.749 - Acc 0.816, F1 0.776) saved at /tmp/bert_model.pt\n"
     ]
    },
    {
     "data": {
      "application/vnd.jupyter.widget-view+json": {
       "model_id": "67014f66ff994cd59c2899d1dc0a2232",
       "version_major": 2,
       "version_minor": 0
      },
      "text/plain": [
       "HBox(children=(FloatProgress(value=0.0, layout=Layout(flex='2'), max=14181.0), HTML(value='')), layout=Layout(…"
      ]
     },
     "metadata": {},
     "output_type": "display_data"
    },
    {
     "name": "stdout",
     "output_type": "stream",
     "text": [
      "\n",
      "Train: Loss: 0.190 Acc: 98.60%\n",
      "Val. Loss: 8.562 Acc: 81.06% Macro F1 0.761 (P 0.653 - N 0.870)\n"
     ]
    },
    {
     "data": {
      "application/vnd.jupyter.widget-view+json": {
       "model_id": "bd90be03afb24d32b244587be05a6e40",
       "version_major": 2,
       "version_minor": 0
      },
      "text/plain": [
       "HBox(children=(FloatProgress(value=0.0, layout=Layout(flex='2'), max=14181.0), HTML(value='')), layout=Layout(…"
      ]
     },
     "metadata": {},
     "output_type": "display_data"
    },
    {
     "name": "stdout",
     "output_type": "stream",
     "text": [
      "\n",
      "Train: Loss: 0.148 Acc: 98.99%\n",
      "Val. Loss: 9.788 Acc: 80.71% Macro F1 0.752 (P 0.634 - N 0.869)\n"
     ]
    },
    {
     "data": {
      "application/vnd.jupyter.widget-view+json": {
       "model_id": "e6bb570acd85444aaaa0fae6f02db79e",
       "version_major": 2,
       "version_minor": 0
      },
      "text/plain": [
       "HBox(children=(FloatProgress(value=0.0, layout=Layout(flex='2'), max=14181.0), HTML(value='')), layout=Layout(…"
      ]
     },
     "metadata": {},
     "output_type": "display_data"
    },
    {
     "name": "stdout",
     "output_type": "stream",
     "text": [
      "\n",
      "Train: Loss: 0.106 Acc: 99.28%\n",
      "Val. Loss: 9.877 Acc: 80.91% Macro F1 0.756 (P 0.642 - N 0.870)\n",
      "\n"
     ]
    }
   ],
   "source": [
    "from tqdm.notebook import tqdm\n",
    "from offenseval.nn.training import train, evaluate\n",
    "from transformers.optimization import get_constant_schedule_with_warmup\n",
    "import time\n",
    "\n",
    "N_EPOCHS = 5\n",
    "\n",
    "# Copied from tranBertForSequenceClassifications page...please check\n",
    "num_training_steps = N_EPOCHS * len(train_it)\n",
    "num_warmup_steps = num_training_steps // 10\n",
    "warmup_proportion = float(num_warmup_steps) / float(num_training_steps)  # 0.1\n",
    "\n",
    "scheduler = get_constant_schedule_with_warmup(\n",
    "    optimizer, num_warmup_steps=num_warmup_steps, \n",
    ") \n",
    "\n",
    "\n",
    "best_valid_loss = float('inf')\n",
    "\n",
    "early_stopping_tolerance = 100\n",
    "epochs_without_improvement = 0\n",
    "max_grad_norm = 1.0\n",
    "\n",
    "model_path = f\"/tmp/bert_model.pt\"\n",
    "\n",
    "def get_target(batch):\n",
    "    return 1. * (batch.avg > 0.6)\n",
    "\n",
    "\n",
    "pbar = tqdm(range(N_EPOCHS), ncols=1000)\n",
    "pbar.set_description(\"Epochs\")\n",
    "\n",
    "\n",
    "for epoch in pbar:\n",
    "    #epoch_bar = tqdm(train_it, ncols=800)\n",
    "\n",
    "    train_loss, train_acc = train(\n",
    "        model, train_it, optimizer, criterion, get_target=get_target,\n",
    "        max_grad_norm=max_grad_norm, scheduler=scheduler, ncols=750\n",
    "    )\n",
    "    valid_loss, valid_acc, valid_f1, pos_f1, neg_f1 = evaluate(\n",
    "        model, dev_it, criterion, get_target=lambda batch: batch.subtask_a\n",
    "    )\n",
    "    \n",
    "    desc = f'Train: Loss: {train_loss:.3f} Acc: {train_acc*100:.2f}%'\n",
    "    desc += f'\\nVal. Loss: {valid_loss:.3f} Acc: {valid_acc*100:.2f}% Macro F1 {valid_f1:.3f} (P {pos_f1:.3f} - N {neg_f1:.3f})'\n",
    "    \n",
    "    print(desc)\n",
    "    if valid_loss < best_valid_loss:\n",
    "        best_valid_loss = valid_loss\n",
    "        epochs_without_improvement = 0\n",
    "        torch.save(model.state_dict(), model_path)\n",
    "        print(f\"Best model so far (Loss {best_valid_loss:.3f} - Acc {valid_acc:.3f}, F1 {valid_f1:.3f}) saved at {model_path}\")\n",
    "    else:\n",
    "        epochs_without_improvement += 1\n",
    "        if epochs_without_improvement >= early_stopping_tolerance:\n",
    "            print(\"Early stopping\")\n",
    "            break"
   ]
  },
  {
   "cell_type": "markdown",
   "metadata": {},
   "source": [
    "Evaluate in dev again..."
   ]
  },
  {
   "cell_type": "code",
   "execution_count": 11,
   "metadata": {},
   "outputs": [
    {
     "name": "stdout",
     "output_type": "stream",
     "text": [
      "Val Loss: 5.749  Acc: 81.62% Macro F1: 0.776 Pos F1 0.680 Neg F1 0.871\n"
     ]
    }
   ],
   "source": [
    "model.load_state_dict(torch.load(model_path))\n",
    "\n",
    "loss, acc, f1, pos_f1, neg_f1 = evaluate(model, dev_it, criterion, get_target=lambda b: b.subtask_a)\n",
    "\n",
    "print(f'Val Loss: {loss:.3f}  Acc: {acc*100:.2f}% Macro F1: {f1:.3f} Pos F1 {pos_f1:.3f} Neg F1 {neg_f1:.3f}')"
   ]
  },
  {
   "cell_type": "markdown",
   "metadata": {},
   "source": [
    "And then in OLID test set"
   ]
  },
  {
   "cell_type": "code",
   "execution_count": 12,
   "metadata": {},
   "outputs": [
    {
     "name": "stdout",
     "output_type": "stream",
     "text": [
      "Test Loss: 4.910  Acc: 85.00% Macro F1: 0.790 Pos F1 0.677 Neg F1 0.902\n"
     ]
    }
   ],
   "source": [
    "\n",
    "loss, acc, f1, pos_f1, neg_f1 = evaluate(model, test_it, criterion, get_target=lambda batch: batch.subtask_a)\n",
    "\n",
    "print(f'Test Loss: {loss:.3f}  Acc: {acc*100:.2f}% Macro F1: {f1:.3f} Pos F1 {pos_f1:.3f} Neg F1 {neg_f1:.3f}')"
   ]
  },
  {
   "cell_type": "markdown",
   "metadata": {},
   "source": [
    "Save model (we need to save the vocabulary too!)"
   ]
  },
  {
   "cell_type": "code",
   "execution_count": 27,
   "metadata": {},
   "outputs": [
    {
     "name": "stdout",
     "output_type": "stream",
     "text": [
      "Model saved to ../../models/bert-seq.sample.mean06.pt\n",
      "Vocab saved to ../../models/bert-seq.sample.mean06.vocab.pkl\n"
     ]
    }
   ],
   "source": [
    "from offenseval.nn import save_model\n",
    "\n",
    "save_model(model, TEXT, \"../../models/bert-seq.sample.mean06.pt\")\n"
   ]
  },
  {
   "cell_type": "markdown",
   "metadata": {},
   "source": [
    "## Error Analysis\n",
    "\n",
    "I reload the dataframe because it is not possible to retrieve the original text from the examples :-\\ (they are already tokenized)"
   ]
  },
  {
   "cell_type": "code",
   "execution_count": 30,
   "metadata": {},
   "outputs": [
    {
     "data": {
      "text/plain": [
       "Index(['text', 'subtask_a'], dtype='object')"
      ]
     },
     "execution_count": 30,
     "metadata": {},
     "output_type": "execute_result"
    }
   ],
   "source": [
    "df_test = pd.read_table(\"../../data/olid/test_a.tsv\", index_col=0)\n",
    "\n",
    "df_test.columns"
   ]
  },
  {
   "cell_type": "code",
   "execution_count": 31,
   "metadata": {},
   "outputs": [],
   "source": [
    "torch.cuda.empty_cache()"
   ]
  },
  {
   "cell_type": "code",
   "execution_count": 32,
   "metadata": {},
   "outputs": [
    {
     "data": {
      "application/vnd.jupyter.widget-view+json": {
       "model_id": "f0d0f183dcbd4e6d867b98a96b32765c",
       "version_major": 2,
       "version_minor": 0
      },
      "text/plain": [
       "HBox(children=(FloatProgress(value=0.0, max=27.0), HTML(value='')))"
      ]
     },
     "metadata": {},
     "output_type": "display_data"
    },
    {
     "name": "stdout",
     "output_type": "stream",
     "text": [
      "\n"
     ]
    }
   ],
   "source": [
    "model.eval()\n",
    "\n",
    "rows = []\n",
    "for batch in tqdm(test_it):\n",
    "    text, lens = batch.text\n",
    "    \n",
    "    outs = model(text)[0].detach().cpu()\n",
    "    ids = batch.id\n",
    "    labels = batch.subtask_a\n",
    "    probs = torch.sigmoid(outs)\n",
    "    # Change the threshold to improve recall\n",
    "    preds = probs > 0.5\n",
    "    \n",
    "    for tid, label, pred, prob in zip(ids.cpu(), labels.cpu(), preds.cpu(), probs.cpu()):\n",
    "        rows.append({\n",
    "            \"id\": tid.item(),\n",
    "            \"text\": df_test.loc[tid.item(), \"text\"],\n",
    "            \"label\": label.item(),\n",
    "            \"pred\": int(pred.item()),\n",
    "            \"prob\": prob.item()\n",
    "        })\n",
    "        \n",
    "df = pd.DataFrame(rows)\n",
    "df.set_index(\"id\", inplace=True)"
   ]
  },
  {
   "cell_type": "code",
   "execution_count": 35,
   "metadata": {},
   "outputs": [
    {
     "data": {
      "text/plain": [
       "(0.85, 0.6766917293233082, 0.9023467070401211, 0.7895192181817147)"
      ]
     },
     "execution_count": 35,
     "metadata": {},
     "output_type": "execute_result"
    }
   ],
   "source": [
    "from sklearn.metrics import accuracy_score, f1_score\n",
    "\n",
    "labels = df[\"label\"]\n",
    "\n",
    "preds = df[\"pred\"]\n",
    "\n",
    "acc = accuracy_score(labels, preds)\n",
    "pos_f1 = f1_score(labels, preds)\n",
    "neg_f1 = f1_score(1-labels, 1-preds)\n",
    "avg_f1 = (pos_f1 + neg_f1) / 2\n",
    "\n",
    "acc, pos_f1, neg_f1, avg_f1"
   ]
  },
  {
   "cell_type": "code",
   "execution_count": 36,
   "metadata": {},
   "outputs": [
    {
     "name": "stdout",
     "output_type": "stream",
     "text": [
      "Falsos negativos: 105\n",
      "Falsos positivos: 24\n"
     ]
    },
    {
     "data": {
      "text/html": [
       "<div>\n",
       "<style scoped>\n",
       "    .dataframe tbody tr th:only-of-type {\n",
       "        vertical-align: middle;\n",
       "    }\n",
       "\n",
       "    .dataframe tbody tr th {\n",
       "        vertical-align: top;\n",
       "    }\n",
       "\n",
       "    .dataframe thead th {\n",
       "        text-align: right;\n",
       "    }\n",
       "</style>\n",
       "<table border=\"1\" class=\"dataframe\">\n",
       "  <thead>\n",
       "    <tr style=\"text-align: right;\">\n",
       "      <th></th>\n",
       "      <th>pred not off</th>\n",
       "      <th>pred off</th>\n",
       "    </tr>\n",
       "    <tr>\n",
       "      <th>real</th>\n",
       "      <th></th>\n",
       "      <th></th>\n",
       "    </tr>\n",
       "  </thead>\n",
       "  <tbody>\n",
       "    <tr>\n",
       "      <th>not off</th>\n",
       "      <td>596</td>\n",
       "      <td>24</td>\n",
       "    </tr>\n",
       "    <tr>\n",
       "      <th>off</th>\n",
       "      <td>105</td>\n",
       "      <td>135</td>\n",
       "    </tr>\n",
       "  </tbody>\n",
       "</table>\n",
       "</div>"
      ],
      "text/plain": [
       "         pred not off  pred off\n",
       "real                           \n",
       "not off           596        24\n",
       "off               105       135"
      ]
     },
     "execution_count": 36,
     "metadata": {},
     "output_type": "execute_result"
    }
   ],
   "source": [
    "true_pos = df[(df[\"label\"] == 1) & (df[\"pred\"] == 1)].copy()\n",
    "false_neg = df[(df[\"label\"] == 1) & (df[\"pred\"] == 0)].copy()\n",
    "false_neg.sort_values(\"prob\", ascending=True, inplace=True)\n",
    "false_pos = df[(df[\"label\"] == 0) & (df[\"pred\"] == 1)].copy()\n",
    "false_pos.sort_values(\"prob\", ascending=False, inplace=True)\n",
    "true_neg = df[(df[\"label\"] == 0) & (df[\"pred\"] == 0)].copy()\n",
    "\n",
    "conf_matrix = pd.DataFrame([\n",
    "    {\"real\":\"not off\", \"pred not off\": len(true_neg),      \"pred off\": len(false_pos)},\n",
    "    {\"real\":\"off\",     \"pred not off\":     len(false_neg), \"pred off\": len(true_pos)}\n",
    "])\n",
    "\n",
    "conf_matrix.set_index(\"real\", inplace=True)\n",
    "\n",
    "print(\"Falsos negativos: {}\".format(len(false_neg)))\n",
    "print(\"Falsos positivos: {}\".format(len(false_pos)))\n",
    "\n",
    "conf_matrix"
   ]
  },
  {
   "cell_type": "markdown",
   "metadata": {},
   "source": [
    "Normalized "
   ]
  },
  {
   "cell_type": "code",
   "execution_count": 37,
   "metadata": {},
   "outputs": [
    {
     "data": {
      "text/html": [
       "<div>\n",
       "<style scoped>\n",
       "    .dataframe tbody tr th:only-of-type {\n",
       "        vertical-align: middle;\n",
       "    }\n",
       "\n",
       "    .dataframe tbody tr th {\n",
       "        vertical-align: top;\n",
       "    }\n",
       "\n",
       "    .dataframe thead th {\n",
       "        text-align: right;\n",
       "    }\n",
       "</style>\n",
       "<table border=\"1\" class=\"dataframe\">\n",
       "  <thead>\n",
       "    <tr style=\"text-align: right;\">\n",
       "      <th></th>\n",
       "      <th>pred not off</th>\n",
       "      <th>pred off</th>\n",
       "    </tr>\n",
       "    <tr>\n",
       "      <th>real</th>\n",
       "      <th></th>\n",
       "      <th></th>\n",
       "    </tr>\n",
       "  </thead>\n",
       "  <tbody>\n",
       "    <tr>\n",
       "      <th>not off</th>\n",
       "      <td>0.693</td>\n",
       "      <td>0.028</td>\n",
       "    </tr>\n",
       "    <tr>\n",
       "      <th>off</th>\n",
       "      <td>0.122</td>\n",
       "      <td>0.157</td>\n",
       "    </tr>\n",
       "  </tbody>\n",
       "</table>\n",
       "</div>"
      ],
      "text/plain": [
       "         pred not off  pred off\n",
       "real                           \n",
       "not off         0.693     0.028\n",
       "off             0.122     0.157"
      ]
     },
     "execution_count": 37,
     "metadata": {},
     "output_type": "execute_result"
    }
   ],
   "source": [
    "pd.options.display.float_format = '{:,.3f}'.format\n",
    "\n",
    "conf_matrix / len(df)"
   ]
  },
  {
   "cell_type": "markdown",
   "metadata": {},
   "source": [
    "We should improve recall in offensive tweets"
   ]
  },
  {
   "cell_type": "code",
   "execution_count": 44,
   "metadata": {},
   "outputs": [
    {
     "data": {
      "text/plain": [
       "'#Christian #America – If we go by #Trump’s example, where liberals support open borders, I guess conservatives support school shootings.   Please explain how this makes America great again.'"
      ]
     },
     "execution_count": 44,
     "metadata": {},
     "output_type": "execute_result"
    }
   ],
   "source": [
    "false_neg.iloc[4][\"text\"]"
   ]
  },
  {
   "cell_type": "markdown",
   "metadata": {},
   "source": [
    "Is this really offensive?"
   ]
  },
  {
   "cell_type": "code",
   "execution_count": 45,
   "metadata": {},
   "outputs": [
    {
     "data": {
      "text/plain": [
       "text     #EmmyAwards2018 - Ratings tank as expected.  W...\n",
       "label                                                    1\n",
       "pred                                                     0\n",
       "prob                                                 0.000\n",
       "Name: 34575, dtype: object"
      ]
     },
     "execution_count": 45,
     "metadata": {},
     "output_type": "execute_result"
    }
   ],
   "source": [
    "false_neg.iloc[0]"
   ]
  },
  {
   "cell_type": "markdown",
   "metadata": {},
   "source": [
    "Is there any error?"
   ]
  }
 ],
 "metadata": {
  "kernelspec": {
   "display_name": "Python 3",
   "language": "python",
   "name": "python3"
  },
  "language_info": {
   "codemirror_mode": {
    "name": "ipython",
    "version": 3
   },
   "file_extension": ".py",
   "mimetype": "text/x-python",
   "name": "python",
   "nbconvert_exporter": "python",
   "pygments_lexer": "ipython3",
   "version": "3.6.9"
  }
 },
 "nbformat": 4,
 "nbformat_minor": 4
}
