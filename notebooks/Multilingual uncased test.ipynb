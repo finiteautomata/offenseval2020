{
 "cells": [
  {
   "cell_type": "markdown",
   "metadata": {},
   "source": [
    "## Uncased Multilingual Test\n",
    "\n",
    "Let's load a BERT model in English and test it against the other languages"
   ]
  },
  {
   "cell_type": "code",
   "execution_count": 2,
   "metadata": {},
   "outputs": [
    {
     "name": "stdout",
     "output_type": "stream",
     "text": [
      "The autoreload extension is already loaded. To reload it, use:\n",
      "  %reload_ext autoreload\n"
     ]
    }
   ],
   "source": [
    "%load_ext autoreload\n",
    "%autoreload 2\n",
    "import os\n",
    "from datetime import datetime\n",
    "import fire\n",
    "import torch\n",
    "from torchtext import data\n",
    "import torch.nn as nn\n",
    "from transformers import (\n",
    "    AdamW, BertForSequenceClassification, BertTokenizer,\n",
    "    get_constant_schedule_with_warmup\n",
    ")\n",
    "\n",
    "from offenseval.nn import (\n",
    "    Tokenizer,\n",
    "    train, evaluate, train_cycle, save_model, load_model\n",
    ")\n",
    "\n",
    "device = torch.device('cuda' if torch.cuda.is_available() else 'cpu')\n",
    "\n",
    "model, TEXT = load_model(\"../models/bert.uncased.sample.mean06.ft.pt\", device)"
   ]
  },
  {
   "cell_type": "code",
   "execution_count": 3,
   "metadata": {},
   "outputs": [
    {
     "name": "stdout",
     "output_type": "stream",
     "text": [
      "Loading dataset...\n",
      "Building iterators\n",
      "Test Loss: 0.804  Acc: 85.12% Macro F1: 0.794 Pos F1 0.686 Neg F1 0.902\n"
     ]
    }
   ],
   "source": [
    "from offenseval.nn import evaluate_dataset\n",
    "\n",
    "loss, acc, f1, pos_f1, neg_f1 = evaluate_dataset(\n",
    "    model, TEXT, \"../data/olid/test_a.tsv\"\n",
    ")\n",
    "\n",
    "print(f'Test Loss: {loss:.3f}  Acc: {acc*100:.2f}% Macro F1: {f1:.3f} Pos F1 {pos_f1:.3f} Neg F1 {neg_f1:.3f}')"
   ]
  },
  {
   "cell_type": "markdown",
   "metadata": {},
   "source": [
    "## Danish"
   ]
  },
  {
   "cell_type": "code",
   "execution_count": 4,
   "metadata": {},
   "outputs": [
    {
     "name": "stdout",
     "output_type": "stream",
     "text": [
      "Loading dataset...\n",
      "Building iterators\n",
      "Test Loss: 0.688  Acc: 87.16% Macro F1: 0.619 Pos F1 0.309 Neg F1 0.929\n"
     ]
    }
   ],
   "source": [
    "loss, acc, f1, pos_f1, neg_f1 = evaluate_dataset(\n",
    "    model, TEXT, \"../data/Danish/dev.tsv\"\n",
    ")\n",
    "\n",
    "print(f'Test Loss: {loss:.3f}  Acc: {acc*100:.2f}% Macro F1: {f1:.3f} Pos F1 {pos_f1:.3f} Neg F1 {neg_f1:.3f}')"
   ]
  },
  {
   "cell_type": "markdown",
   "metadata": {},
   "source": [
    "## Turkish"
   ]
  },
  {
   "cell_type": "code",
   "execution_count": 5,
   "metadata": {},
   "outputs": [
    {
     "name": "stdout",
     "output_type": "stream",
     "text": [
      "Loading dataset...\n",
      "Building iterators\n",
      "Test Loss: 1.114  Acc: 80.61% Macro F1: 0.455 Pos F1 0.018 Neg F1 0.892\n"
     ]
    }
   ],
   "source": [
    "loss, acc, f1, pos_f1, neg_f1 = evaluate_dataset(\n",
    "    model, TEXT, \"../data/Turkish/dev.tsv\"\n",
    ")\n",
    "\n",
    "print(f'Test Loss: {loss:.3f}  Acc: {acc*100:.2f}% Macro F1: {f1:.3f} Pos F1 {pos_f1:.3f} Neg F1 {neg_f1:.3f}')"
   ]
  },
  {
   "cell_type": "markdown",
   "metadata": {},
   "source": [
    "## Arabic"
   ]
  },
  {
   "cell_type": "code",
   "execution_count": 6,
   "metadata": {},
   "outputs": [
    {
     "name": "stdout",
     "output_type": "stream",
     "text": [
      "Loading dataset...\n",
      "Building iterators\n",
      "Test Loss: 0.902  Acc: 82.00% Macro F1: 0.451 Pos F1 0.000 Neg F1 0.901\n"
     ]
    }
   ],
   "source": [
    "loss, acc, f1, pos_f1, neg_f1 = evaluate_dataset(\n",
    "    model, TEXT, \"../data/Arabic/offenseval-ar-dev-v1.tsv\"\n",
    ")\n",
    "\n",
    "print(f'Test Loss: {loss:.3f}  Acc: {acc*100:.2f}% Macro F1: {f1:.3f} Pos F1 {pos_f1:.3f} Neg F1 {neg_f1:.3f}')"
   ]
  },
  {
   "cell_type": "markdown",
   "metadata": {},
   "source": [
    "## Greek"
   ]
  },
  {
   "cell_type": "code",
   "execution_count": 7,
   "metadata": {},
   "outputs": [
    {
     "name": "stdout",
     "output_type": "stream",
     "text": [
      "Loading dataset...\n",
      "Building iterators\n",
      "Test Loss: 1.727  Acc: 71.53% Macro F1: 0.417 Pos F1 0.000 Neg F1 0.834\n"
     ]
    }
   ],
   "source": [
    "loss, acc, f1, pos_f1, neg_f1 = evaluate_dataset(\n",
    "    model, TEXT, \"../data/Greek/dev.tsv\"\n",
    ")\n",
    "\n",
    "print(f'Test Loss: {loss:.3f}  Acc: {acc*100:.2f}% Macro F1: {f1:.3f} Pos F1 {pos_f1:.3f} Neg F1 {neg_f1:.3f}')"
   ]
  },
  {
   "cell_type": "code",
   "execution_count": 13,
   "metadata": {},
   "outputs": [
    {
     "data": {
      "text/plain": [
       "768"
      ]
     },
     "execution_count": 13,
     "metadata": {},
     "output_type": "execute_result"
    }
   ],
   "source": [
    "model.bert.config.hidden_size"
   ]
  },
  {
   "cell_type": "code",
   "execution_count": null,
   "metadata": {},
   "outputs": [],
   "source": []
  }
 ],
 "metadata": {
  "kernelspec": {
   "display_name": "Python 3",
   "language": "python",
   "name": "python3"
  },
  "language_info": {
   "codemirror_mode": {
    "name": "ipython",
    "version": 3
   },
   "file_extension": ".py",
   "mimetype": "text/x-python",
   "name": "python",
   "nbconvert_exporter": "python",
   "pygments_lexer": "ipython3",
   "version": "3.6.9"
  }
 },
 "nbformat": 4,
 "nbformat_minor": 4
}
